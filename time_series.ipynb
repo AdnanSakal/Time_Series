{
  "cells": [
    {
      "cell_type": "markdown",
      "metadata": {
        "id": "view-in-github",
        "colab_type": "text"
      },
      "source": [
        "<a href=\"https://colab.research.google.com/github/AdnanSakal/Time_Series/blob/main/time_series.ipynb\" target=\"_parent\"><img src=\"https://colab.research.google.com/assets/colab-badge.svg\" alt=\"Open In Colab\"/></a>"
      ]
    },
    {
      "cell_type": "code",
      "execution_count": null,
      "metadata": {
        "id": "8K9cfC7YfZry"
      },
      "outputs": [],
      "source": [
        "import tensorflow as tf\n",
        "import matplotlib.pyplot as plt\n",
        "import numpy as np\n",
        "import random\n",
        "import os\n",
        "import zipfile\n",
        "import pandas as pd"
      ]
    },
    {
      "cell_type": "code",
      "execution_count": null,
      "metadata": {
        "id": "W3Sm7FcrgCIH"
      },
      "outputs": [],
      "source": [
        "!pip install -q kaggle"
      ]
    },
    {
      "cell_type": "code",
      "execution_count": null,
      "metadata": {
        "id": "3G9els60gJJ_"
      },
      "outputs": [],
      "source": [
        "from google.colab import files\n",
        "files.upload()"
      ]
    },
    {
      "cell_type": "code",
      "execution_count": null,
      "metadata": {
        "id": "IM4OHUq5gR24"
      },
      "outputs": [],
      "source": [
        "!mkdir ~/.kaggle"
      ]
    },
    {
      "cell_type": "code",
      "execution_count": null,
      "metadata": {
        "id": "_9AWrPnmgZvZ"
      },
      "outputs": [],
      "source": [
        "!cp kaggle.json ~/.kaggle"
      ]
    },
    {
      "cell_type": "code",
      "execution_count": null,
      "metadata": {
        "id": "QSXd8kFXgdnE"
      },
      "outputs": [],
      "source": [
        "!chmod 600 ~/.kaggle/kaggle.json"
      ]
    },
    {
      "cell_type": "code",
      "execution_count": null,
      "metadata": {
        "colab": {
          "base_uri": "https://localhost:8080/"
        },
        "id": "Ossu1OKPgkzo",
        "outputId": "e128b57e-03c1-49f3-9473-bbec4682bf05"
      },
      "outputs": [
        {
          "name": "stdout",
          "output_type": "stream",
          "text": [
            "Dataset URL: https://www.kaggle.com/datasets/sumanthvrao/daily-climate-time-series-data\n",
            "License(s): CC0-1.0\n",
            "Downloading daily-climate-time-series-data.zip to /content\n",
            "  0% 0.00/22.0k [00:00<?, ?B/s]\n",
            "100% 22.0k/22.0k [00:00<00:00, 34.3MB/s]\n"
          ]
        }
      ],
      "source": [
        "!kaggle datasets download -d \"sumanthvrao/daily-climate-time-series-data\""
      ]
    },
    {
      "cell_type": "code",
      "execution_count": null,
      "metadata": {
        "id": "FYsia1SIgtpc"
      },
      "outputs": [],
      "source": [
        "zip_ref = zipfile.ZipFile(\"/content/daily-climate-time-series-data.zip\")\n",
        "zip_ref.extractall()\n",
        "zip_ref.close()"
      ]
    },
    {
      "cell_type": "code",
      "execution_count": null,
      "metadata": {
        "id": "w1ZEUHogg3Lw"
      },
      "outputs": [],
      "source": [
        "train_dataframe = pd.read_csv(\"/content/DailyDelhiClimateTrain.csv\",\n",
        "                              parse_dates=[\"date\"],\n",
        "                              index_col = [\"date\"]\n",
        "                              )\n",
        "test_dataframe = pd.read_csv(\"/content/DailyDelhiClimateTest.csv\",\n",
        "                              parse_dates=[\"date\"],\n",
        "                              index_col = [\"date\"])"
      ]
    },
    {
      "cell_type": "code",
      "execution_count": null,
      "metadata": {
        "colab": {
          "base_uri": "https://localhost:8080/",
          "height": 455
        },
        "id": "MmoOmV5ihDT-",
        "outputId": "e4c523aa-3dcc-4094-971f-e55c3adffe17"
      },
      "outputs": [
        {
          "data": {
            "application/vnd.google.colaboratory.intrinsic+json": {
              "summary": "{\n  \"name\": \"train_dataframe\",\n  \"rows\": 1462,\n  \"fields\": [\n    {\n      \"column\": \"date\",\n      \"properties\": {\n        \"dtype\": \"date\",\n        \"min\": \"2013-01-01 00:00:00\",\n        \"max\": \"2017-01-01 00:00:00\",\n        \"num_unique_values\": 1462,\n        \"samples\": [\n          \"2015-06-12 00:00:00\",\n          \"2016-01-12 00:00:00\",\n          \"2014-02-18 00:00:00\"\n        ],\n        \"semantic_type\": \"\",\n        \"description\": \"\"\n      }\n    },\n    {\n      \"column\": \"meantemp\",\n      \"properties\": {\n        \"dtype\": \"number\",\n        \"std\": 7.348102725432476,\n        \"min\": 6.0,\n        \"max\": 38.71428571428572,\n        \"num_unique_values\": 617,\n        \"samples\": [\n          19.0,\n          20.666666666666668,\n          28.714285714285715\n        ],\n        \"semantic_type\": \"\",\n        \"description\": \"\"\n      }\n    },\n    {\n      \"column\": \"humidity\",\n      \"properties\": {\n        \"dtype\": \"number\",\n        \"std\": 16.769652268485306,\n        \"min\": 13.428571428571429,\n        \"max\": 100.0,\n        \"num_unique_values\": 897,\n        \"samples\": [\n          67.25,\n          67.18181818181819,\n          76.125\n        ],\n        \"semantic_type\": \"\",\n        \"description\": \"\"\n      }\n    },\n    {\n      \"column\": \"wind_speed\",\n      \"properties\": {\n        \"dtype\": \"number\",\n        \"std\": 4.561602164272007,\n        \"min\": 0.0,\n        \"max\": 42.22,\n        \"num_unique_values\": 730,\n        \"samples\": [\n          5.171428571428572,\n          6.483333333333333,\n          16.4375\n        ],\n        \"semantic_type\": \"\",\n        \"description\": \"\"\n      }\n    },\n    {\n      \"column\": \"meanpressure\",\n      \"properties\": {\n        \"dtype\": \"number\",\n        \"std\": 180.2316683392096,\n        \"min\": -3.0416666666666665,\n        \"max\": 7679.333333333333,\n        \"num_unique_values\": 626,\n        \"samples\": [\n          1003.0625,\n          998.8125,\n          1012.8571428571428\n        ],\n        \"semantic_type\": \"\",\n        \"description\": \"\"\n      }\n    }\n  ]\n}",
              "type": "dataframe",
              "variable_name": "train_dataframe"
            },
            "text/html": [
              "\n",
              "  <div id=\"df-f66c1d93-d1fd-46b5-990d-c3a11cbfee1d\" class=\"colab-df-container\">\n",
              "    <div>\n",
              "<style scoped>\n",
              "    .dataframe tbody tr th:only-of-type {\n",
              "        vertical-align: middle;\n",
              "    }\n",
              "\n",
              "    .dataframe tbody tr th {\n",
              "        vertical-align: top;\n",
              "    }\n",
              "\n",
              "    .dataframe thead th {\n",
              "        text-align: right;\n",
              "    }\n",
              "</style>\n",
              "<table border=\"1\" class=\"dataframe\">\n",
              "  <thead>\n",
              "    <tr style=\"text-align: right;\">\n",
              "      <th></th>\n",
              "      <th>meantemp</th>\n",
              "      <th>humidity</th>\n",
              "      <th>wind_speed</th>\n",
              "      <th>meanpressure</th>\n",
              "    </tr>\n",
              "    <tr>\n",
              "      <th>date</th>\n",
              "      <th></th>\n",
              "      <th></th>\n",
              "      <th></th>\n",
              "      <th></th>\n",
              "    </tr>\n",
              "  </thead>\n",
              "  <tbody>\n",
              "    <tr>\n",
              "      <th>2013-01-01</th>\n",
              "      <td>10.000000</td>\n",
              "      <td>84.500000</td>\n",
              "      <td>0.000000</td>\n",
              "      <td>1015.666667</td>\n",
              "    </tr>\n",
              "    <tr>\n",
              "      <th>2013-01-02</th>\n",
              "      <td>7.400000</td>\n",
              "      <td>92.000000</td>\n",
              "      <td>2.980000</td>\n",
              "      <td>1017.800000</td>\n",
              "    </tr>\n",
              "    <tr>\n",
              "      <th>2013-01-03</th>\n",
              "      <td>7.166667</td>\n",
              "      <td>87.000000</td>\n",
              "      <td>4.633333</td>\n",
              "      <td>1018.666667</td>\n",
              "    </tr>\n",
              "    <tr>\n",
              "      <th>2013-01-04</th>\n",
              "      <td>8.666667</td>\n",
              "      <td>71.333333</td>\n",
              "      <td>1.233333</td>\n",
              "      <td>1017.166667</td>\n",
              "    </tr>\n",
              "    <tr>\n",
              "      <th>2013-01-05</th>\n",
              "      <td>6.000000</td>\n",
              "      <td>86.833333</td>\n",
              "      <td>3.700000</td>\n",
              "      <td>1016.500000</td>\n",
              "    </tr>\n",
              "    <tr>\n",
              "      <th>...</th>\n",
              "      <td>...</td>\n",
              "      <td>...</td>\n",
              "      <td>...</td>\n",
              "      <td>...</td>\n",
              "    </tr>\n",
              "    <tr>\n",
              "      <th>2016-12-28</th>\n",
              "      <td>17.217391</td>\n",
              "      <td>68.043478</td>\n",
              "      <td>3.547826</td>\n",
              "      <td>1015.565217</td>\n",
              "    </tr>\n",
              "    <tr>\n",
              "      <th>2016-12-29</th>\n",
              "      <td>15.238095</td>\n",
              "      <td>87.857143</td>\n",
              "      <td>6.000000</td>\n",
              "      <td>1016.904762</td>\n",
              "    </tr>\n",
              "    <tr>\n",
              "      <th>2016-12-30</th>\n",
              "      <td>14.095238</td>\n",
              "      <td>89.666667</td>\n",
              "      <td>6.266667</td>\n",
              "      <td>1017.904762</td>\n",
              "    </tr>\n",
              "    <tr>\n",
              "      <th>2016-12-31</th>\n",
              "      <td>15.052632</td>\n",
              "      <td>87.000000</td>\n",
              "      <td>7.325000</td>\n",
              "      <td>1016.100000</td>\n",
              "    </tr>\n",
              "    <tr>\n",
              "      <th>2017-01-01</th>\n",
              "      <td>10.000000</td>\n",
              "      <td>100.000000</td>\n",
              "      <td>0.000000</td>\n",
              "      <td>1016.000000</td>\n",
              "    </tr>\n",
              "  </tbody>\n",
              "</table>\n",
              "<p>1462 rows × 4 columns</p>\n",
              "</div>\n",
              "    <div class=\"colab-df-buttons\">\n",
              "\n",
              "  <div class=\"colab-df-container\">\n",
              "    <button class=\"colab-df-convert\" onclick=\"convertToInteractive('df-f66c1d93-d1fd-46b5-990d-c3a11cbfee1d')\"\n",
              "            title=\"Convert this dataframe to an interactive table.\"\n",
              "            style=\"display:none;\">\n",
              "\n",
              "  <svg xmlns=\"http://www.w3.org/2000/svg\" height=\"24px\" viewBox=\"0 -960 960 960\">\n",
              "    <path d=\"M120-120v-720h720v720H120Zm60-500h600v-160H180v160Zm220 220h160v-160H400v160Zm0 220h160v-160H400v160ZM180-400h160v-160H180v160Zm440 0h160v-160H620v160ZM180-180h160v-160H180v160Zm440 0h160v-160H620v160Z\"/>\n",
              "  </svg>\n",
              "    </button>\n",
              "\n",
              "  <style>\n",
              "    .colab-df-container {\n",
              "      display:flex;\n",
              "      gap: 12px;\n",
              "    }\n",
              "\n",
              "    .colab-df-convert {\n",
              "      background-color: #E8F0FE;\n",
              "      border: none;\n",
              "      border-radius: 50%;\n",
              "      cursor: pointer;\n",
              "      display: none;\n",
              "      fill: #1967D2;\n",
              "      height: 32px;\n",
              "      padding: 0 0 0 0;\n",
              "      width: 32px;\n",
              "    }\n",
              "\n",
              "    .colab-df-convert:hover {\n",
              "      background-color: #E2EBFA;\n",
              "      box-shadow: 0px 1px 2px rgba(60, 64, 67, 0.3), 0px 1px 3px 1px rgba(60, 64, 67, 0.15);\n",
              "      fill: #174EA6;\n",
              "    }\n",
              "\n",
              "    .colab-df-buttons div {\n",
              "      margin-bottom: 4px;\n",
              "    }\n",
              "\n",
              "    [theme=dark] .colab-df-convert {\n",
              "      background-color: #3B4455;\n",
              "      fill: #D2E3FC;\n",
              "    }\n",
              "\n",
              "    [theme=dark] .colab-df-convert:hover {\n",
              "      background-color: #434B5C;\n",
              "      box-shadow: 0px 1px 3px 1px rgba(0, 0, 0, 0.15);\n",
              "      filter: drop-shadow(0px 1px 2px rgba(0, 0, 0, 0.3));\n",
              "      fill: #FFFFFF;\n",
              "    }\n",
              "  </style>\n",
              "\n",
              "    <script>\n",
              "      const buttonEl =\n",
              "        document.querySelector('#df-f66c1d93-d1fd-46b5-990d-c3a11cbfee1d button.colab-df-convert');\n",
              "      buttonEl.style.display =\n",
              "        google.colab.kernel.accessAllowed ? 'block' : 'none';\n",
              "\n",
              "      async function convertToInteractive(key) {\n",
              "        const element = document.querySelector('#df-f66c1d93-d1fd-46b5-990d-c3a11cbfee1d');\n",
              "        const dataTable =\n",
              "          await google.colab.kernel.invokeFunction('convertToInteractive',\n",
              "                                                    [key], {});\n",
              "        if (!dataTable) return;\n",
              "\n",
              "        const docLinkHtml = 'Like what you see? Visit the ' +\n",
              "          '<a target=\"_blank\" href=https://colab.research.google.com/notebooks/data_table.ipynb>data table notebook</a>'\n",
              "          + ' to learn more about interactive tables.';\n",
              "        element.innerHTML = '';\n",
              "        dataTable['output_type'] = 'display_data';\n",
              "        await google.colab.output.renderOutput(dataTable, element);\n",
              "        const docLink = document.createElement('div');\n",
              "        docLink.innerHTML = docLinkHtml;\n",
              "        element.appendChild(docLink);\n",
              "      }\n",
              "    </script>\n",
              "  </div>\n",
              "\n",
              "\n",
              "<div id=\"df-75cce867-72dd-47c8-96ec-122f1b07a3bb\">\n",
              "  <button class=\"colab-df-quickchart\" onclick=\"quickchart('df-75cce867-72dd-47c8-96ec-122f1b07a3bb')\"\n",
              "            title=\"Suggest charts\"\n",
              "            style=\"display:none;\">\n",
              "\n",
              "<svg xmlns=\"http://www.w3.org/2000/svg\" height=\"24px\"viewBox=\"0 0 24 24\"\n",
              "     width=\"24px\">\n",
              "    <g>\n",
              "        <path d=\"M19 3H5c-1.1 0-2 .9-2 2v14c0 1.1.9 2 2 2h14c1.1 0 2-.9 2-2V5c0-1.1-.9-2-2-2zM9 17H7v-7h2v7zm4 0h-2V7h2v10zm4 0h-2v-4h2v4z\"/>\n",
              "    </g>\n",
              "</svg>\n",
              "  </button>\n",
              "\n",
              "<style>\n",
              "  .colab-df-quickchart {\n",
              "      --bg-color: #E8F0FE;\n",
              "      --fill-color: #1967D2;\n",
              "      --hover-bg-color: #E2EBFA;\n",
              "      --hover-fill-color: #174EA6;\n",
              "      --disabled-fill-color: #AAA;\n",
              "      --disabled-bg-color: #DDD;\n",
              "  }\n",
              "\n",
              "  [theme=dark] .colab-df-quickchart {\n",
              "      --bg-color: #3B4455;\n",
              "      --fill-color: #D2E3FC;\n",
              "      --hover-bg-color: #434B5C;\n",
              "      --hover-fill-color: #FFFFFF;\n",
              "      --disabled-bg-color: #3B4455;\n",
              "      --disabled-fill-color: #666;\n",
              "  }\n",
              "\n",
              "  .colab-df-quickchart {\n",
              "    background-color: var(--bg-color);\n",
              "    border: none;\n",
              "    border-radius: 50%;\n",
              "    cursor: pointer;\n",
              "    display: none;\n",
              "    fill: var(--fill-color);\n",
              "    height: 32px;\n",
              "    padding: 0;\n",
              "    width: 32px;\n",
              "  }\n",
              "\n",
              "  .colab-df-quickchart:hover {\n",
              "    background-color: var(--hover-bg-color);\n",
              "    box-shadow: 0 1px 2px rgba(60, 64, 67, 0.3), 0 1px 3px 1px rgba(60, 64, 67, 0.15);\n",
              "    fill: var(--button-hover-fill-color);\n",
              "  }\n",
              "\n",
              "  .colab-df-quickchart-complete:disabled,\n",
              "  .colab-df-quickchart-complete:disabled:hover {\n",
              "    background-color: var(--disabled-bg-color);\n",
              "    fill: var(--disabled-fill-color);\n",
              "    box-shadow: none;\n",
              "  }\n",
              "\n",
              "  .colab-df-spinner {\n",
              "    border: 2px solid var(--fill-color);\n",
              "    border-color: transparent;\n",
              "    border-bottom-color: var(--fill-color);\n",
              "    animation:\n",
              "      spin 1s steps(1) infinite;\n",
              "  }\n",
              "\n",
              "  @keyframes spin {\n",
              "    0% {\n",
              "      border-color: transparent;\n",
              "      border-bottom-color: var(--fill-color);\n",
              "      border-left-color: var(--fill-color);\n",
              "    }\n",
              "    20% {\n",
              "      border-color: transparent;\n",
              "      border-left-color: var(--fill-color);\n",
              "      border-top-color: var(--fill-color);\n",
              "    }\n",
              "    30% {\n",
              "      border-color: transparent;\n",
              "      border-left-color: var(--fill-color);\n",
              "      border-top-color: var(--fill-color);\n",
              "      border-right-color: var(--fill-color);\n",
              "    }\n",
              "    40% {\n",
              "      border-color: transparent;\n",
              "      border-right-color: var(--fill-color);\n",
              "      border-top-color: var(--fill-color);\n",
              "    }\n",
              "    60% {\n",
              "      border-color: transparent;\n",
              "      border-right-color: var(--fill-color);\n",
              "    }\n",
              "    80% {\n",
              "      border-color: transparent;\n",
              "      border-right-color: var(--fill-color);\n",
              "      border-bottom-color: var(--fill-color);\n",
              "    }\n",
              "    90% {\n",
              "      border-color: transparent;\n",
              "      border-bottom-color: var(--fill-color);\n",
              "    }\n",
              "  }\n",
              "</style>\n",
              "\n",
              "  <script>\n",
              "    async function quickchart(key) {\n",
              "      const quickchartButtonEl =\n",
              "        document.querySelector('#' + key + ' button');\n",
              "      quickchartButtonEl.disabled = true;  // To prevent multiple clicks.\n",
              "      quickchartButtonEl.classList.add('colab-df-spinner');\n",
              "      try {\n",
              "        const charts = await google.colab.kernel.invokeFunction(\n",
              "            'suggestCharts', [key], {});\n",
              "      } catch (error) {\n",
              "        console.error('Error during call to suggestCharts:', error);\n",
              "      }\n",
              "      quickchartButtonEl.classList.remove('colab-df-spinner');\n",
              "      quickchartButtonEl.classList.add('colab-df-quickchart-complete');\n",
              "    }\n",
              "    (() => {\n",
              "      let quickchartButtonEl =\n",
              "        document.querySelector('#df-75cce867-72dd-47c8-96ec-122f1b07a3bb button');\n",
              "      quickchartButtonEl.style.display =\n",
              "        google.colab.kernel.accessAllowed ? 'block' : 'none';\n",
              "    })();\n",
              "  </script>\n",
              "</div>\n",
              "\n",
              "  <div id=\"id_c85a195a-389b-43ef-95bd-d54e0c8addcc\">\n",
              "    <style>\n",
              "      .colab-df-generate {\n",
              "        background-color: #E8F0FE;\n",
              "        border: none;\n",
              "        border-radius: 50%;\n",
              "        cursor: pointer;\n",
              "        display: none;\n",
              "        fill: #1967D2;\n",
              "        height: 32px;\n",
              "        padding: 0 0 0 0;\n",
              "        width: 32px;\n",
              "      }\n",
              "\n",
              "      .colab-df-generate:hover {\n",
              "        background-color: #E2EBFA;\n",
              "        box-shadow: 0px 1px 2px rgba(60, 64, 67, 0.3), 0px 1px 3px 1px rgba(60, 64, 67, 0.15);\n",
              "        fill: #174EA6;\n",
              "      }\n",
              "\n",
              "      [theme=dark] .colab-df-generate {\n",
              "        background-color: #3B4455;\n",
              "        fill: #D2E3FC;\n",
              "      }\n",
              "\n",
              "      [theme=dark] .colab-df-generate:hover {\n",
              "        background-color: #434B5C;\n",
              "        box-shadow: 0px 1px 3px 1px rgba(0, 0, 0, 0.15);\n",
              "        filter: drop-shadow(0px 1px 2px rgba(0, 0, 0, 0.3));\n",
              "        fill: #FFFFFF;\n",
              "      }\n",
              "    </style>\n",
              "    <button class=\"colab-df-generate\" onclick=\"generateWithVariable('train_dataframe')\"\n",
              "            title=\"Generate code using this dataframe.\"\n",
              "            style=\"display:none;\">\n",
              "\n",
              "  <svg xmlns=\"http://www.w3.org/2000/svg\" height=\"24px\"viewBox=\"0 0 24 24\"\n",
              "       width=\"24px\">\n",
              "    <path d=\"M7,19H8.4L18.45,9,17,7.55,7,17.6ZM5,21V16.75L18.45,3.32a2,2,0,0,1,2.83,0l1.4,1.43a1.91,1.91,0,0,1,.58,1.4,1.91,1.91,0,0,1-.58,1.4L9.25,21ZM18.45,9,17,7.55Zm-12,3A5.31,5.31,0,0,0,4.9,8.1,5.31,5.31,0,0,0,1,6.5,5.31,5.31,0,0,0,4.9,4.9,5.31,5.31,0,0,0,6.5,1,5.31,5.31,0,0,0,8.1,4.9,5.31,5.31,0,0,0,12,6.5,5.46,5.46,0,0,0,6.5,12Z\"/>\n",
              "  </svg>\n",
              "    </button>\n",
              "    <script>\n",
              "      (() => {\n",
              "      const buttonEl =\n",
              "        document.querySelector('#id_c85a195a-389b-43ef-95bd-d54e0c8addcc button.colab-df-generate');\n",
              "      buttonEl.style.display =\n",
              "        google.colab.kernel.accessAllowed ? 'block' : 'none';\n",
              "\n",
              "      buttonEl.onclick = () => {\n",
              "        google.colab.notebook.generateWithVariable('train_dataframe');\n",
              "      }\n",
              "      })();\n",
              "    </script>\n",
              "  </div>\n",
              "\n",
              "    </div>\n",
              "  </div>\n"
            ],
            "text/plain": [
              "             meantemp    humidity  wind_speed  meanpressure\n",
              "date                                                       \n",
              "2013-01-01  10.000000   84.500000    0.000000   1015.666667\n",
              "2013-01-02   7.400000   92.000000    2.980000   1017.800000\n",
              "2013-01-03   7.166667   87.000000    4.633333   1018.666667\n",
              "2013-01-04   8.666667   71.333333    1.233333   1017.166667\n",
              "2013-01-05   6.000000   86.833333    3.700000   1016.500000\n",
              "...               ...         ...         ...           ...\n",
              "2016-12-28  17.217391   68.043478    3.547826   1015.565217\n",
              "2016-12-29  15.238095   87.857143    6.000000   1016.904762\n",
              "2016-12-30  14.095238   89.666667    6.266667   1017.904762\n",
              "2016-12-31  15.052632   87.000000    7.325000   1016.100000\n",
              "2017-01-01  10.000000  100.000000    0.000000   1016.000000\n",
              "\n",
              "[1462 rows x 4 columns]"
            ]
          },
          "execution_count": 10,
          "metadata": {},
          "output_type": "execute_result"
        }
      ],
      "source": [
        "train_dataframe"
      ]
    },
    {
      "cell_type": "code",
      "execution_count": null,
      "metadata": {
        "colab": {
          "base_uri": "https://localhost:8080/",
          "height": 455
        },
        "id": "OG8crSDJhFkl",
        "outputId": "037897e2-a9da-4cdc-cf54-51976379166c"
      },
      "outputs": [
        {
          "data": {
            "application/vnd.google.colaboratory.intrinsic+json": {
              "summary": "{\n  \"name\": \"new_train_dataframe\",\n  \"rows\": 1462,\n  \"fields\": [\n    {\n      \"column\": \"date\",\n      \"properties\": {\n        \"dtype\": \"date\",\n        \"min\": \"2013-01-01 00:00:00\",\n        \"max\": \"2017-01-01 00:00:00\",\n        \"num_unique_values\": 1462,\n        \"samples\": [\n          \"2015-06-12 00:00:00\",\n          \"2016-01-12 00:00:00\",\n          \"2014-02-18 00:00:00\"\n        ],\n        \"semantic_type\": \"\",\n        \"description\": \"\"\n      }\n    },\n    {\n      \"column\": \"temp\",\n      \"properties\": {\n        \"dtype\": \"number\",\n        \"std\": 7.348102725432476,\n        \"min\": 6.0,\n        \"max\": 38.71428571428572,\n        \"num_unique_values\": 617,\n        \"samples\": [\n          19.0,\n          20.666666666666668,\n          28.714285714285715\n        ],\n        \"semantic_type\": \"\",\n        \"description\": \"\"\n      }\n    }\n  ]\n}",
              "type": "dataframe",
              "variable_name": "new_train_dataframe"
            },
            "text/html": [
              "\n",
              "  <div id=\"df-d41c8957-4b13-4dc3-8f9c-2b918c858e61\" class=\"colab-df-container\">\n",
              "    <div>\n",
              "<style scoped>\n",
              "    .dataframe tbody tr th:only-of-type {\n",
              "        vertical-align: middle;\n",
              "    }\n",
              "\n",
              "    .dataframe tbody tr th {\n",
              "        vertical-align: top;\n",
              "    }\n",
              "\n",
              "    .dataframe thead th {\n",
              "        text-align: right;\n",
              "    }\n",
              "</style>\n",
              "<table border=\"1\" class=\"dataframe\">\n",
              "  <thead>\n",
              "    <tr style=\"text-align: right;\">\n",
              "      <th></th>\n",
              "      <th>temp</th>\n",
              "    </tr>\n",
              "    <tr>\n",
              "      <th>date</th>\n",
              "      <th></th>\n",
              "    </tr>\n",
              "  </thead>\n",
              "  <tbody>\n",
              "    <tr>\n",
              "      <th>2013-01-01</th>\n",
              "      <td>10.000000</td>\n",
              "    </tr>\n",
              "    <tr>\n",
              "      <th>2013-01-02</th>\n",
              "      <td>7.400000</td>\n",
              "    </tr>\n",
              "    <tr>\n",
              "      <th>2013-01-03</th>\n",
              "      <td>7.166667</td>\n",
              "    </tr>\n",
              "    <tr>\n",
              "      <th>2013-01-04</th>\n",
              "      <td>8.666667</td>\n",
              "    </tr>\n",
              "    <tr>\n",
              "      <th>2013-01-05</th>\n",
              "      <td>6.000000</td>\n",
              "    </tr>\n",
              "    <tr>\n",
              "      <th>...</th>\n",
              "      <td>...</td>\n",
              "    </tr>\n",
              "    <tr>\n",
              "      <th>2016-12-28</th>\n",
              "      <td>17.217391</td>\n",
              "    </tr>\n",
              "    <tr>\n",
              "      <th>2016-12-29</th>\n",
              "      <td>15.238095</td>\n",
              "    </tr>\n",
              "    <tr>\n",
              "      <th>2016-12-30</th>\n",
              "      <td>14.095238</td>\n",
              "    </tr>\n",
              "    <tr>\n",
              "      <th>2016-12-31</th>\n",
              "      <td>15.052632</td>\n",
              "    </tr>\n",
              "    <tr>\n",
              "      <th>2017-01-01</th>\n",
              "      <td>10.000000</td>\n",
              "    </tr>\n",
              "  </tbody>\n",
              "</table>\n",
              "<p>1462 rows × 1 columns</p>\n",
              "</div>\n",
              "    <div class=\"colab-df-buttons\">\n",
              "\n",
              "  <div class=\"colab-df-container\">\n",
              "    <button class=\"colab-df-convert\" onclick=\"convertToInteractive('df-d41c8957-4b13-4dc3-8f9c-2b918c858e61')\"\n",
              "            title=\"Convert this dataframe to an interactive table.\"\n",
              "            style=\"display:none;\">\n",
              "\n",
              "  <svg xmlns=\"http://www.w3.org/2000/svg\" height=\"24px\" viewBox=\"0 -960 960 960\">\n",
              "    <path d=\"M120-120v-720h720v720H120Zm60-500h600v-160H180v160Zm220 220h160v-160H400v160Zm0 220h160v-160H400v160ZM180-400h160v-160H180v160Zm440 0h160v-160H620v160ZM180-180h160v-160H180v160Zm440 0h160v-160H620v160Z\"/>\n",
              "  </svg>\n",
              "    </button>\n",
              "\n",
              "  <style>\n",
              "    .colab-df-container {\n",
              "      display:flex;\n",
              "      gap: 12px;\n",
              "    }\n",
              "\n",
              "    .colab-df-convert {\n",
              "      background-color: #E8F0FE;\n",
              "      border: none;\n",
              "      border-radius: 50%;\n",
              "      cursor: pointer;\n",
              "      display: none;\n",
              "      fill: #1967D2;\n",
              "      height: 32px;\n",
              "      padding: 0 0 0 0;\n",
              "      width: 32px;\n",
              "    }\n",
              "\n",
              "    .colab-df-convert:hover {\n",
              "      background-color: #E2EBFA;\n",
              "      box-shadow: 0px 1px 2px rgba(60, 64, 67, 0.3), 0px 1px 3px 1px rgba(60, 64, 67, 0.15);\n",
              "      fill: #174EA6;\n",
              "    }\n",
              "\n",
              "    .colab-df-buttons div {\n",
              "      margin-bottom: 4px;\n",
              "    }\n",
              "\n",
              "    [theme=dark] .colab-df-convert {\n",
              "      background-color: #3B4455;\n",
              "      fill: #D2E3FC;\n",
              "    }\n",
              "\n",
              "    [theme=dark] .colab-df-convert:hover {\n",
              "      background-color: #434B5C;\n",
              "      box-shadow: 0px 1px 3px 1px rgba(0, 0, 0, 0.15);\n",
              "      filter: drop-shadow(0px 1px 2px rgba(0, 0, 0, 0.3));\n",
              "      fill: #FFFFFF;\n",
              "    }\n",
              "  </style>\n",
              "\n",
              "    <script>\n",
              "      const buttonEl =\n",
              "        document.querySelector('#df-d41c8957-4b13-4dc3-8f9c-2b918c858e61 button.colab-df-convert');\n",
              "      buttonEl.style.display =\n",
              "        google.colab.kernel.accessAllowed ? 'block' : 'none';\n",
              "\n",
              "      async function convertToInteractive(key) {\n",
              "        const element = document.querySelector('#df-d41c8957-4b13-4dc3-8f9c-2b918c858e61');\n",
              "        const dataTable =\n",
              "          await google.colab.kernel.invokeFunction('convertToInteractive',\n",
              "                                                    [key], {});\n",
              "        if (!dataTable) return;\n",
              "\n",
              "        const docLinkHtml = 'Like what you see? Visit the ' +\n",
              "          '<a target=\"_blank\" href=https://colab.research.google.com/notebooks/data_table.ipynb>data table notebook</a>'\n",
              "          + ' to learn more about interactive tables.';\n",
              "        element.innerHTML = '';\n",
              "        dataTable['output_type'] = 'display_data';\n",
              "        await google.colab.output.renderOutput(dataTable, element);\n",
              "        const docLink = document.createElement('div');\n",
              "        docLink.innerHTML = docLinkHtml;\n",
              "        element.appendChild(docLink);\n",
              "      }\n",
              "    </script>\n",
              "  </div>\n",
              "\n",
              "\n",
              "<div id=\"df-e13ba944-89cc-472f-86ed-0d5081b7726b\">\n",
              "  <button class=\"colab-df-quickchart\" onclick=\"quickchart('df-e13ba944-89cc-472f-86ed-0d5081b7726b')\"\n",
              "            title=\"Suggest charts\"\n",
              "            style=\"display:none;\">\n",
              "\n",
              "<svg xmlns=\"http://www.w3.org/2000/svg\" height=\"24px\"viewBox=\"0 0 24 24\"\n",
              "     width=\"24px\">\n",
              "    <g>\n",
              "        <path d=\"M19 3H5c-1.1 0-2 .9-2 2v14c0 1.1.9 2 2 2h14c1.1 0 2-.9 2-2V5c0-1.1-.9-2-2-2zM9 17H7v-7h2v7zm4 0h-2V7h2v10zm4 0h-2v-4h2v4z\"/>\n",
              "    </g>\n",
              "</svg>\n",
              "  </button>\n",
              "\n",
              "<style>\n",
              "  .colab-df-quickchart {\n",
              "      --bg-color: #E8F0FE;\n",
              "      --fill-color: #1967D2;\n",
              "      --hover-bg-color: #E2EBFA;\n",
              "      --hover-fill-color: #174EA6;\n",
              "      --disabled-fill-color: #AAA;\n",
              "      --disabled-bg-color: #DDD;\n",
              "  }\n",
              "\n",
              "  [theme=dark] .colab-df-quickchart {\n",
              "      --bg-color: #3B4455;\n",
              "      --fill-color: #D2E3FC;\n",
              "      --hover-bg-color: #434B5C;\n",
              "      --hover-fill-color: #FFFFFF;\n",
              "      --disabled-bg-color: #3B4455;\n",
              "      --disabled-fill-color: #666;\n",
              "  }\n",
              "\n",
              "  .colab-df-quickchart {\n",
              "    background-color: var(--bg-color);\n",
              "    border: none;\n",
              "    border-radius: 50%;\n",
              "    cursor: pointer;\n",
              "    display: none;\n",
              "    fill: var(--fill-color);\n",
              "    height: 32px;\n",
              "    padding: 0;\n",
              "    width: 32px;\n",
              "  }\n",
              "\n",
              "  .colab-df-quickchart:hover {\n",
              "    background-color: var(--hover-bg-color);\n",
              "    box-shadow: 0 1px 2px rgba(60, 64, 67, 0.3), 0 1px 3px 1px rgba(60, 64, 67, 0.15);\n",
              "    fill: var(--button-hover-fill-color);\n",
              "  }\n",
              "\n",
              "  .colab-df-quickchart-complete:disabled,\n",
              "  .colab-df-quickchart-complete:disabled:hover {\n",
              "    background-color: var(--disabled-bg-color);\n",
              "    fill: var(--disabled-fill-color);\n",
              "    box-shadow: none;\n",
              "  }\n",
              "\n",
              "  .colab-df-spinner {\n",
              "    border: 2px solid var(--fill-color);\n",
              "    border-color: transparent;\n",
              "    border-bottom-color: var(--fill-color);\n",
              "    animation:\n",
              "      spin 1s steps(1) infinite;\n",
              "  }\n",
              "\n",
              "  @keyframes spin {\n",
              "    0% {\n",
              "      border-color: transparent;\n",
              "      border-bottom-color: var(--fill-color);\n",
              "      border-left-color: var(--fill-color);\n",
              "    }\n",
              "    20% {\n",
              "      border-color: transparent;\n",
              "      border-left-color: var(--fill-color);\n",
              "      border-top-color: var(--fill-color);\n",
              "    }\n",
              "    30% {\n",
              "      border-color: transparent;\n",
              "      border-left-color: var(--fill-color);\n",
              "      border-top-color: var(--fill-color);\n",
              "      border-right-color: var(--fill-color);\n",
              "    }\n",
              "    40% {\n",
              "      border-color: transparent;\n",
              "      border-right-color: var(--fill-color);\n",
              "      border-top-color: var(--fill-color);\n",
              "    }\n",
              "    60% {\n",
              "      border-color: transparent;\n",
              "      border-right-color: var(--fill-color);\n",
              "    }\n",
              "    80% {\n",
              "      border-color: transparent;\n",
              "      border-right-color: var(--fill-color);\n",
              "      border-bottom-color: var(--fill-color);\n",
              "    }\n",
              "    90% {\n",
              "      border-color: transparent;\n",
              "      border-bottom-color: var(--fill-color);\n",
              "    }\n",
              "  }\n",
              "</style>\n",
              "\n",
              "  <script>\n",
              "    async function quickchart(key) {\n",
              "      const quickchartButtonEl =\n",
              "        document.querySelector('#' + key + ' button');\n",
              "      quickchartButtonEl.disabled = true;  // To prevent multiple clicks.\n",
              "      quickchartButtonEl.classList.add('colab-df-spinner');\n",
              "      try {\n",
              "        const charts = await google.colab.kernel.invokeFunction(\n",
              "            'suggestCharts', [key], {});\n",
              "      } catch (error) {\n",
              "        console.error('Error during call to suggestCharts:', error);\n",
              "      }\n",
              "      quickchartButtonEl.classList.remove('colab-df-spinner');\n",
              "      quickchartButtonEl.classList.add('colab-df-quickchart-complete');\n",
              "    }\n",
              "    (() => {\n",
              "      let quickchartButtonEl =\n",
              "        document.querySelector('#df-e13ba944-89cc-472f-86ed-0d5081b7726b button');\n",
              "      quickchartButtonEl.style.display =\n",
              "        google.colab.kernel.accessAllowed ? 'block' : 'none';\n",
              "    })();\n",
              "  </script>\n",
              "</div>\n",
              "\n",
              "  <div id=\"id_187f8972-0190-48cc-bc4a-c69da0b679a8\">\n",
              "    <style>\n",
              "      .colab-df-generate {\n",
              "        background-color: #E8F0FE;\n",
              "        border: none;\n",
              "        border-radius: 50%;\n",
              "        cursor: pointer;\n",
              "        display: none;\n",
              "        fill: #1967D2;\n",
              "        height: 32px;\n",
              "        padding: 0 0 0 0;\n",
              "        width: 32px;\n",
              "      }\n",
              "\n",
              "      .colab-df-generate:hover {\n",
              "        background-color: #E2EBFA;\n",
              "        box-shadow: 0px 1px 2px rgba(60, 64, 67, 0.3), 0px 1px 3px 1px rgba(60, 64, 67, 0.15);\n",
              "        fill: #174EA6;\n",
              "      }\n",
              "\n",
              "      [theme=dark] .colab-df-generate {\n",
              "        background-color: #3B4455;\n",
              "        fill: #D2E3FC;\n",
              "      }\n",
              "\n",
              "      [theme=dark] .colab-df-generate:hover {\n",
              "        background-color: #434B5C;\n",
              "        box-shadow: 0px 1px 3px 1px rgba(0, 0, 0, 0.15);\n",
              "        filter: drop-shadow(0px 1px 2px rgba(0, 0, 0, 0.3));\n",
              "        fill: #FFFFFF;\n",
              "      }\n",
              "    </style>\n",
              "    <button class=\"colab-df-generate\" onclick=\"generateWithVariable('new_train_dataframe')\"\n",
              "            title=\"Generate code using this dataframe.\"\n",
              "            style=\"display:none;\">\n",
              "\n",
              "  <svg xmlns=\"http://www.w3.org/2000/svg\" height=\"24px\"viewBox=\"0 0 24 24\"\n",
              "       width=\"24px\">\n",
              "    <path d=\"M7,19H8.4L18.45,9,17,7.55,7,17.6ZM5,21V16.75L18.45,3.32a2,2,0,0,1,2.83,0l1.4,1.43a1.91,1.91,0,0,1,.58,1.4,1.91,1.91,0,0,1-.58,1.4L9.25,21ZM18.45,9,17,7.55Zm-12,3A5.31,5.31,0,0,0,4.9,8.1,5.31,5.31,0,0,0,1,6.5,5.31,5.31,0,0,0,4.9,4.9,5.31,5.31,0,0,0,6.5,1,5.31,5.31,0,0,0,8.1,4.9,5.31,5.31,0,0,0,12,6.5,5.46,5.46,0,0,0,6.5,12Z\"/>\n",
              "  </svg>\n",
              "    </button>\n",
              "    <script>\n",
              "      (() => {\n",
              "      const buttonEl =\n",
              "        document.querySelector('#id_187f8972-0190-48cc-bc4a-c69da0b679a8 button.colab-df-generate');\n",
              "      buttonEl.style.display =\n",
              "        google.colab.kernel.accessAllowed ? 'block' : 'none';\n",
              "\n",
              "      buttonEl.onclick = () => {\n",
              "        google.colab.notebook.generateWithVariable('new_train_dataframe');\n",
              "      }\n",
              "      })();\n",
              "    </script>\n",
              "  </div>\n",
              "\n",
              "    </div>\n",
              "  </div>\n"
            ],
            "text/plain": [
              "                 temp\n",
              "date                 \n",
              "2013-01-01  10.000000\n",
              "2013-01-02   7.400000\n",
              "2013-01-03   7.166667\n",
              "2013-01-04   8.666667\n",
              "2013-01-05   6.000000\n",
              "...               ...\n",
              "2016-12-28  17.217391\n",
              "2016-12-29  15.238095\n",
              "2016-12-30  14.095238\n",
              "2016-12-31  15.052632\n",
              "2017-01-01  10.000000\n",
              "\n",
              "[1462 rows x 1 columns]"
            ]
          },
          "execution_count": 11,
          "metadata": {},
          "output_type": "execute_result"
        }
      ],
      "source": [
        "new_train_dataframe = train_dataframe.drop(columns = [\"humidity\"\t,\"wind_speed\",\t\"meanpressure\"]).rename(columns={\"meantemp\":\"temp\"})\n",
        "new_train_dataframe"
      ]
    },
    {
      "cell_type": "code",
      "execution_count": null,
      "metadata": {
        "colab": {
          "base_uri": "https://localhost:8080/",
          "height": 455
        },
        "id": "Bx7RJz6Uhq_2",
        "outputId": "ecf30e85-beb1-4bf6-e66f-cefb81e4b00e"
      },
      "outputs": [
        {
          "data": {
            "application/vnd.google.colaboratory.intrinsic+json": {
              "summary": "{\n  \"name\": \"new_test_dataframe\",\n  \"rows\": 114,\n  \"fields\": [\n    {\n      \"column\": \"date\",\n      \"properties\": {\n        \"dtype\": \"date\",\n        \"min\": \"2017-01-01 00:00:00\",\n        \"max\": \"2017-04-24 00:00:00\",\n        \"num_unique_values\": 114,\n        \"samples\": [\n          \"2017-03-22 00:00:00\",\n          \"2017-01-05 00:00:00\",\n          \"2017-02-10 00:00:00\"\n        ],\n        \"semantic_type\": \"\",\n        \"description\": \"\"\n      }\n    },\n    {\n      \"column\": \"temp\",\n      \"properties\": {\n        \"dtype\": \"number\",\n        \"std\": 6.360071848767035,\n        \"min\": 11.0,\n        \"max\": 34.5,\n        \"num_unique_values\": 105,\n        \"samples\": [\n          16.125,\n          19.9375,\n          20.785714285714285\n        ],\n        \"semantic_type\": \"\",\n        \"description\": \"\"\n      }\n    }\n  ]\n}",
              "type": "dataframe",
              "variable_name": "new_test_dataframe"
            },
            "text/html": [
              "\n",
              "  <div id=\"df-c0140d36-b8ac-49f5-95f1-65e976dc1f17\" class=\"colab-df-container\">\n",
              "    <div>\n",
              "<style scoped>\n",
              "    .dataframe tbody tr th:only-of-type {\n",
              "        vertical-align: middle;\n",
              "    }\n",
              "\n",
              "    .dataframe tbody tr th {\n",
              "        vertical-align: top;\n",
              "    }\n",
              "\n",
              "    .dataframe thead th {\n",
              "        text-align: right;\n",
              "    }\n",
              "</style>\n",
              "<table border=\"1\" class=\"dataframe\">\n",
              "  <thead>\n",
              "    <tr style=\"text-align: right;\">\n",
              "      <th></th>\n",
              "      <th>temp</th>\n",
              "    </tr>\n",
              "    <tr>\n",
              "      <th>date</th>\n",
              "      <th></th>\n",
              "    </tr>\n",
              "  </thead>\n",
              "  <tbody>\n",
              "    <tr>\n",
              "      <th>2017-01-01</th>\n",
              "      <td>15.913043</td>\n",
              "    </tr>\n",
              "    <tr>\n",
              "      <th>2017-01-02</th>\n",
              "      <td>18.500000</td>\n",
              "    </tr>\n",
              "    <tr>\n",
              "      <th>2017-01-03</th>\n",
              "      <td>17.111111</td>\n",
              "    </tr>\n",
              "    <tr>\n",
              "      <th>2017-01-04</th>\n",
              "      <td>18.700000</td>\n",
              "    </tr>\n",
              "    <tr>\n",
              "      <th>2017-01-05</th>\n",
              "      <td>18.388889</td>\n",
              "    </tr>\n",
              "    <tr>\n",
              "      <th>...</th>\n",
              "      <td>...</td>\n",
              "    </tr>\n",
              "    <tr>\n",
              "      <th>2017-04-20</th>\n",
              "      <td>34.500000</td>\n",
              "    </tr>\n",
              "    <tr>\n",
              "      <th>2017-04-21</th>\n",
              "      <td>34.250000</td>\n",
              "    </tr>\n",
              "    <tr>\n",
              "      <th>2017-04-22</th>\n",
              "      <td>32.900000</td>\n",
              "    </tr>\n",
              "    <tr>\n",
              "      <th>2017-04-23</th>\n",
              "      <td>32.875000</td>\n",
              "    </tr>\n",
              "    <tr>\n",
              "      <th>2017-04-24</th>\n",
              "      <td>32.000000</td>\n",
              "    </tr>\n",
              "  </tbody>\n",
              "</table>\n",
              "<p>114 rows × 1 columns</p>\n",
              "</div>\n",
              "    <div class=\"colab-df-buttons\">\n",
              "\n",
              "  <div class=\"colab-df-container\">\n",
              "    <button class=\"colab-df-convert\" onclick=\"convertToInteractive('df-c0140d36-b8ac-49f5-95f1-65e976dc1f17')\"\n",
              "            title=\"Convert this dataframe to an interactive table.\"\n",
              "            style=\"display:none;\">\n",
              "\n",
              "  <svg xmlns=\"http://www.w3.org/2000/svg\" height=\"24px\" viewBox=\"0 -960 960 960\">\n",
              "    <path d=\"M120-120v-720h720v720H120Zm60-500h600v-160H180v160Zm220 220h160v-160H400v160Zm0 220h160v-160H400v160ZM180-400h160v-160H180v160Zm440 0h160v-160H620v160ZM180-180h160v-160H180v160Zm440 0h160v-160H620v160Z\"/>\n",
              "  </svg>\n",
              "    </button>\n",
              "\n",
              "  <style>\n",
              "    .colab-df-container {\n",
              "      display:flex;\n",
              "      gap: 12px;\n",
              "    }\n",
              "\n",
              "    .colab-df-convert {\n",
              "      background-color: #E8F0FE;\n",
              "      border: none;\n",
              "      border-radius: 50%;\n",
              "      cursor: pointer;\n",
              "      display: none;\n",
              "      fill: #1967D2;\n",
              "      height: 32px;\n",
              "      padding: 0 0 0 0;\n",
              "      width: 32px;\n",
              "    }\n",
              "\n",
              "    .colab-df-convert:hover {\n",
              "      background-color: #E2EBFA;\n",
              "      box-shadow: 0px 1px 2px rgba(60, 64, 67, 0.3), 0px 1px 3px 1px rgba(60, 64, 67, 0.15);\n",
              "      fill: #174EA6;\n",
              "    }\n",
              "\n",
              "    .colab-df-buttons div {\n",
              "      margin-bottom: 4px;\n",
              "    }\n",
              "\n",
              "    [theme=dark] .colab-df-convert {\n",
              "      background-color: #3B4455;\n",
              "      fill: #D2E3FC;\n",
              "    }\n",
              "\n",
              "    [theme=dark] .colab-df-convert:hover {\n",
              "      background-color: #434B5C;\n",
              "      box-shadow: 0px 1px 3px 1px rgba(0, 0, 0, 0.15);\n",
              "      filter: drop-shadow(0px 1px 2px rgba(0, 0, 0, 0.3));\n",
              "      fill: #FFFFFF;\n",
              "    }\n",
              "  </style>\n",
              "\n",
              "    <script>\n",
              "      const buttonEl =\n",
              "        document.querySelector('#df-c0140d36-b8ac-49f5-95f1-65e976dc1f17 button.colab-df-convert');\n",
              "      buttonEl.style.display =\n",
              "        google.colab.kernel.accessAllowed ? 'block' : 'none';\n",
              "\n",
              "      async function convertToInteractive(key) {\n",
              "        const element = document.querySelector('#df-c0140d36-b8ac-49f5-95f1-65e976dc1f17');\n",
              "        const dataTable =\n",
              "          await google.colab.kernel.invokeFunction('convertToInteractive',\n",
              "                                                    [key], {});\n",
              "        if (!dataTable) return;\n",
              "\n",
              "        const docLinkHtml = 'Like what you see? Visit the ' +\n",
              "          '<a target=\"_blank\" href=https://colab.research.google.com/notebooks/data_table.ipynb>data table notebook</a>'\n",
              "          + ' to learn more about interactive tables.';\n",
              "        element.innerHTML = '';\n",
              "        dataTable['output_type'] = 'display_data';\n",
              "        await google.colab.output.renderOutput(dataTable, element);\n",
              "        const docLink = document.createElement('div');\n",
              "        docLink.innerHTML = docLinkHtml;\n",
              "        element.appendChild(docLink);\n",
              "      }\n",
              "    </script>\n",
              "  </div>\n",
              "\n",
              "\n",
              "<div id=\"df-e9572ae2-7075-4e63-ae6b-b519984a50d3\">\n",
              "  <button class=\"colab-df-quickchart\" onclick=\"quickchart('df-e9572ae2-7075-4e63-ae6b-b519984a50d3')\"\n",
              "            title=\"Suggest charts\"\n",
              "            style=\"display:none;\">\n",
              "\n",
              "<svg xmlns=\"http://www.w3.org/2000/svg\" height=\"24px\"viewBox=\"0 0 24 24\"\n",
              "     width=\"24px\">\n",
              "    <g>\n",
              "        <path d=\"M19 3H5c-1.1 0-2 .9-2 2v14c0 1.1.9 2 2 2h14c1.1 0 2-.9 2-2V5c0-1.1-.9-2-2-2zM9 17H7v-7h2v7zm4 0h-2V7h2v10zm4 0h-2v-4h2v4z\"/>\n",
              "    </g>\n",
              "</svg>\n",
              "  </button>\n",
              "\n",
              "<style>\n",
              "  .colab-df-quickchart {\n",
              "      --bg-color: #E8F0FE;\n",
              "      --fill-color: #1967D2;\n",
              "      --hover-bg-color: #E2EBFA;\n",
              "      --hover-fill-color: #174EA6;\n",
              "      --disabled-fill-color: #AAA;\n",
              "      --disabled-bg-color: #DDD;\n",
              "  }\n",
              "\n",
              "  [theme=dark] .colab-df-quickchart {\n",
              "      --bg-color: #3B4455;\n",
              "      --fill-color: #D2E3FC;\n",
              "      --hover-bg-color: #434B5C;\n",
              "      --hover-fill-color: #FFFFFF;\n",
              "      --disabled-bg-color: #3B4455;\n",
              "      --disabled-fill-color: #666;\n",
              "  }\n",
              "\n",
              "  .colab-df-quickchart {\n",
              "    background-color: var(--bg-color);\n",
              "    border: none;\n",
              "    border-radius: 50%;\n",
              "    cursor: pointer;\n",
              "    display: none;\n",
              "    fill: var(--fill-color);\n",
              "    height: 32px;\n",
              "    padding: 0;\n",
              "    width: 32px;\n",
              "  }\n",
              "\n",
              "  .colab-df-quickchart:hover {\n",
              "    background-color: var(--hover-bg-color);\n",
              "    box-shadow: 0 1px 2px rgba(60, 64, 67, 0.3), 0 1px 3px 1px rgba(60, 64, 67, 0.15);\n",
              "    fill: var(--button-hover-fill-color);\n",
              "  }\n",
              "\n",
              "  .colab-df-quickchart-complete:disabled,\n",
              "  .colab-df-quickchart-complete:disabled:hover {\n",
              "    background-color: var(--disabled-bg-color);\n",
              "    fill: var(--disabled-fill-color);\n",
              "    box-shadow: none;\n",
              "  }\n",
              "\n",
              "  .colab-df-spinner {\n",
              "    border: 2px solid var(--fill-color);\n",
              "    border-color: transparent;\n",
              "    border-bottom-color: var(--fill-color);\n",
              "    animation:\n",
              "      spin 1s steps(1) infinite;\n",
              "  }\n",
              "\n",
              "  @keyframes spin {\n",
              "    0% {\n",
              "      border-color: transparent;\n",
              "      border-bottom-color: var(--fill-color);\n",
              "      border-left-color: var(--fill-color);\n",
              "    }\n",
              "    20% {\n",
              "      border-color: transparent;\n",
              "      border-left-color: var(--fill-color);\n",
              "      border-top-color: var(--fill-color);\n",
              "    }\n",
              "    30% {\n",
              "      border-color: transparent;\n",
              "      border-left-color: var(--fill-color);\n",
              "      border-top-color: var(--fill-color);\n",
              "      border-right-color: var(--fill-color);\n",
              "    }\n",
              "    40% {\n",
              "      border-color: transparent;\n",
              "      border-right-color: var(--fill-color);\n",
              "      border-top-color: var(--fill-color);\n",
              "    }\n",
              "    60% {\n",
              "      border-color: transparent;\n",
              "      border-right-color: var(--fill-color);\n",
              "    }\n",
              "    80% {\n",
              "      border-color: transparent;\n",
              "      border-right-color: var(--fill-color);\n",
              "      border-bottom-color: var(--fill-color);\n",
              "    }\n",
              "    90% {\n",
              "      border-color: transparent;\n",
              "      border-bottom-color: var(--fill-color);\n",
              "    }\n",
              "  }\n",
              "</style>\n",
              "\n",
              "  <script>\n",
              "    async function quickchart(key) {\n",
              "      const quickchartButtonEl =\n",
              "        document.querySelector('#' + key + ' button');\n",
              "      quickchartButtonEl.disabled = true;  // To prevent multiple clicks.\n",
              "      quickchartButtonEl.classList.add('colab-df-spinner');\n",
              "      try {\n",
              "        const charts = await google.colab.kernel.invokeFunction(\n",
              "            'suggestCharts', [key], {});\n",
              "      } catch (error) {\n",
              "        console.error('Error during call to suggestCharts:', error);\n",
              "      }\n",
              "      quickchartButtonEl.classList.remove('colab-df-spinner');\n",
              "      quickchartButtonEl.classList.add('colab-df-quickchart-complete');\n",
              "    }\n",
              "    (() => {\n",
              "      let quickchartButtonEl =\n",
              "        document.querySelector('#df-e9572ae2-7075-4e63-ae6b-b519984a50d3 button');\n",
              "      quickchartButtonEl.style.display =\n",
              "        google.colab.kernel.accessAllowed ? 'block' : 'none';\n",
              "    })();\n",
              "  </script>\n",
              "</div>\n",
              "\n",
              "  <div id=\"id_f4398551-12d5-410f-9d73-8d29f6da5e35\">\n",
              "    <style>\n",
              "      .colab-df-generate {\n",
              "        background-color: #E8F0FE;\n",
              "        border: none;\n",
              "        border-radius: 50%;\n",
              "        cursor: pointer;\n",
              "        display: none;\n",
              "        fill: #1967D2;\n",
              "        height: 32px;\n",
              "        padding: 0 0 0 0;\n",
              "        width: 32px;\n",
              "      }\n",
              "\n",
              "      .colab-df-generate:hover {\n",
              "        background-color: #E2EBFA;\n",
              "        box-shadow: 0px 1px 2px rgba(60, 64, 67, 0.3), 0px 1px 3px 1px rgba(60, 64, 67, 0.15);\n",
              "        fill: #174EA6;\n",
              "      }\n",
              "\n",
              "      [theme=dark] .colab-df-generate {\n",
              "        background-color: #3B4455;\n",
              "        fill: #D2E3FC;\n",
              "      }\n",
              "\n",
              "      [theme=dark] .colab-df-generate:hover {\n",
              "        background-color: #434B5C;\n",
              "        box-shadow: 0px 1px 3px 1px rgba(0, 0, 0, 0.15);\n",
              "        filter: drop-shadow(0px 1px 2px rgba(0, 0, 0, 0.3));\n",
              "        fill: #FFFFFF;\n",
              "      }\n",
              "    </style>\n",
              "    <button class=\"colab-df-generate\" onclick=\"generateWithVariable('new_test_dataframe')\"\n",
              "            title=\"Generate code using this dataframe.\"\n",
              "            style=\"display:none;\">\n",
              "\n",
              "  <svg xmlns=\"http://www.w3.org/2000/svg\" height=\"24px\"viewBox=\"0 0 24 24\"\n",
              "       width=\"24px\">\n",
              "    <path d=\"M7,19H8.4L18.45,9,17,7.55,7,17.6ZM5,21V16.75L18.45,3.32a2,2,0,0,1,2.83,0l1.4,1.43a1.91,1.91,0,0,1,.58,1.4,1.91,1.91,0,0,1-.58,1.4L9.25,21ZM18.45,9,17,7.55Zm-12,3A5.31,5.31,0,0,0,4.9,8.1,5.31,5.31,0,0,0,1,6.5,5.31,5.31,0,0,0,4.9,4.9,5.31,5.31,0,0,0,6.5,1,5.31,5.31,0,0,0,8.1,4.9,5.31,5.31,0,0,0,12,6.5,5.46,5.46,0,0,0,6.5,12Z\"/>\n",
              "  </svg>\n",
              "    </button>\n",
              "    <script>\n",
              "      (() => {\n",
              "      const buttonEl =\n",
              "        document.querySelector('#id_f4398551-12d5-410f-9d73-8d29f6da5e35 button.colab-df-generate');\n",
              "      buttonEl.style.display =\n",
              "        google.colab.kernel.accessAllowed ? 'block' : 'none';\n",
              "\n",
              "      buttonEl.onclick = () => {\n",
              "        google.colab.notebook.generateWithVariable('new_test_dataframe');\n",
              "      }\n",
              "      })();\n",
              "    </script>\n",
              "  </div>\n",
              "\n",
              "    </div>\n",
              "  </div>\n"
            ],
            "text/plain": [
              "                 temp\n",
              "date                 \n",
              "2017-01-01  15.913043\n",
              "2017-01-02  18.500000\n",
              "2017-01-03  17.111111\n",
              "2017-01-04  18.700000\n",
              "2017-01-05  18.388889\n",
              "...               ...\n",
              "2017-04-20  34.500000\n",
              "2017-04-21  34.250000\n",
              "2017-04-22  32.900000\n",
              "2017-04-23  32.875000\n",
              "2017-04-24  32.000000\n",
              "\n",
              "[114 rows x 1 columns]"
            ]
          },
          "execution_count": 12,
          "metadata": {},
          "output_type": "execute_result"
        }
      ],
      "source": [
        "new_test_dataframe = test_dataframe.drop(columns = [\"humidity\"\t,\"wind_speed\",\t\"meanpressure\"]).rename(columns={\"meantemp\":\"temp\"})\n",
        "new_test_dataframe"
      ]
    },
    {
      "cell_type": "code",
      "execution_count": null,
      "metadata": {
        "colab": {
          "base_uri": "https://localhost:8080/"
        },
        "id": "D5u1gYTnh1_Y",
        "outputId": "dbeff0b2-e5a7-41a8-a90f-9e95c9f838c3"
      },
      "outputs": [
        {
          "data": {
            "text/plain": [
              "(1462, 114)"
            ]
          },
          "execution_count": 13,
          "metadata": {},
          "output_type": "execute_result"
        }
      ],
      "source": [
        "len(new_train_dataframe),len(new_test_dataframe)"
      ]
    },
    {
      "cell_type": "code",
      "execution_count": null,
      "metadata": {
        "colab": {
          "base_uri": "https://localhost:8080/"
        },
        "id": "3WmHMV86h624",
        "outputId": "68dab316-94de-42ed-db27-affb8f8ca04e"
      },
      "outputs": [
        {
          "data": {
            "text/plain": [
              "(1462,\n",
              " [10.0,\n",
              "  7.4,\n",
              "  7.166666666666667,\n",
              "  8.666666666666666,\n",
              "  6.0,\n",
              "  7.0,\n",
              "  7.0,\n",
              "  8.857142857142858,\n",
              "  14.0,\n",
              "  11.0,\n",
              "  15.714285714285714,\n",
              "  14.0,\n",
              "  15.833333333333334,\n",
              "  12.833333333333334,\n",
              "  14.714285714285714,\n",
              "  13.833333333333334,\n",
              "  16.5,\n",
              "  13.833333333333334,\n",
              "  12.5,\n",
              "  11.285714285714286])"
            ]
          },
          "execution_count": 14,
          "metadata": {},
          "output_type": "execute_result"
        }
      ],
      "source": [
        "train_time = new_train_dataframe.index[:]\n",
        "train_temp = new_train_dataframe[\"temp\"]\n",
        "len(train_time),list(train_temp[:20])"
      ]
    },
    {
      "cell_type": "code",
      "execution_count": null,
      "metadata": {
        "colab": {
          "base_uri": "https://localhost:8080/"
        },
        "id": "EnnRowAAkUCh",
        "outputId": "cc1a728b-5526-4bd4-e47a-def4653a139d"
      },
      "outputs": [
        {
          "data": {
            "text/plain": [
              "(114,\n",
              " [15.91304347826087,\n",
              "  18.5,\n",
              "  17.11111111111111,\n",
              "  18.7,\n",
              "  18.38888888888889,\n",
              "  19.318181818181817,\n",
              "  14.708333333333334,\n",
              "  15.68421052631579,\n",
              "  14.571428571428571,\n",
              "  12.11111111111111,\n",
              "  11.0,\n",
              "  11.789473684210526,\n",
              "  13.235294117647058,\n",
              "  13.2,\n",
              "  16.434782608695652,\n",
              "  14.65,\n",
              "  11.72222222222222,\n",
              "  13.041666666666666,\n",
              "  14.61904761904762,\n",
              "  15.263157894736842,\n",
              "  15.391304347826088,\n",
              "  18.44,\n",
              "  18.11764705882353,\n",
              "  18.347826086956523,\n",
              "  21.0,\n",
              "  16.178571428571427,\n",
              "  16.5,\n",
              "  14.863636363636363,\n",
              "  15.666666666666666,\n",
              "  16.444444444444443,\n",
              "  16.125,\n",
              "  15.25,\n",
              "  17.09090909090909,\n",
              "  15.636363636363637,\n",
              "  18.7,\n",
              "  18.63157894736842,\n",
              "  16.88888888888889,\n",
              "  15.125,\n",
              "  15.7,\n",
              "  15.375,\n",
              "  14.666666666666666,\n",
              "  15.625,\n",
              "  16.25,\n",
              "  16.333333333333332,\n",
              "  16.875,\n",
              "  17.571428571428573,\n",
              "  20.25,\n",
              "  21.3,\n",
              "  21.125,\n",
              "  22.363636363636363,\n",
              "  23.375,\n",
              "  21.83333333333333,\n",
              "  19.125,\n",
              "  18.625,\n",
              "  19.125,\n",
              "  19.0,\n",
              "  18.75,\n",
              "  19.875,\n",
              "  23.33333333333333,\n",
              "  24.46153846153846,\n",
              "  23.75,\n",
              "  20.5,\n",
              "  19.125,\n",
              "  19.75,\n",
              "  20.0,\n",
              "  22.625,\n",
              "  21.545454545454547,\n",
              "  20.785714285714285,\n",
              "  19.9375,\n",
              "  18.53333333333333,\n",
              "  17.375,\n",
              "  17.444444444444443,\n",
              "  18.0,\n",
              "  19.875,\n",
              "  24.0,\n",
              "  20.9,\n",
              "  24.692307692307693,\n",
              "  24.666666666666668,\n",
              "  23.33333333333333,\n",
              "  25.0,\n",
              "  27.25,\n",
              "  28.0,\n",
              "  28.916666666666668,\n",
              "  26.5,\n",
              "  29.1,\n",
              "  29.5,\n",
              "  29.88888888888889,\n",
              "  31.0,\n",
              "  29.285714285714285,\n",
              "  30.625,\n",
              "  31.375,\n",
              "  29.75,\n",
              "  30.5,\n",
              "  30.933333333333334,\n",
              "  29.23076923076923,\n",
              "  31.22222222222222,\n",
              "  27.0,\n",
              "  25.625,\n",
              "  27.125,\n",
              "  27.857142857142858,\n",
              "  29.25,\n",
              "  29.25,\n",
              "  29.666666666666668,\n",
              "  30.5,\n",
              "  31.22222222222222,\n",
              "  31.0,\n",
              "  32.55555555555556,\n",
              "  34.0,\n",
              "  33.5,\n",
              "  34.5,\n",
              "  34.25,\n",
              "  32.9,\n",
              "  32.875,\n",
              "  32.0])"
            ]
          },
          "execution_count": 15,
          "metadata": {},
          "output_type": "execute_result"
        }
      ],
      "source": [
        "test_time = new_test_dataframe.index[:]\n",
        "test_temp = new_test_dataframe[\"temp\"]\n",
        "len(test_time),list(test_temp)"
      ]
    },
    {
      "cell_type": "code",
      "execution_count": null,
      "metadata": {
        "id": "ZnzjJWZ1itli"
      },
      "outputs": [],
      "source": [
        "def plot_time_series(start,end,x,y,format,label=None):\n",
        "  plt.plot(x[start:end],y[start:end],format,label = label)\n",
        "  if label:\n",
        "    plt.legend()\n",
        "  plt.grid(True)\n",
        "  plt.xlabel(\"time\")\n",
        "  plt.ylabel(\"temp\")"
      ]
    },
    {
      "cell_type": "code",
      "execution_count": null,
      "metadata": {
        "colab": {
          "base_uri": "https://localhost:8080/",
          "height": 619
        },
        "id": "Cow8MXk0jmbo",
        "outputId": "80284909-a45e-455c-cb44-3ab0b8250b73"
      },
      "outputs": [
        {
          "data": {
            "image/png": "[encoded data removed]",
            "text/plain": [
              "<Figure size 1000x700 with 1 Axes>"
            ]
          },
          "metadata": {},
          "output_type": "display_data"
        }
      ],
      "source": [
        "plt.figure(figsize=[10,7])\n",
        "plot_time_series(start=0,end=None,x=train_time,y = train_temp,format  = \".\",label = \"train\")\n",
        "plot_time_series(start=0,end=None,x=test_time,y = test_temp,format  = \".\",label = \"test\")"
      ]
    },
    {
      "cell_type": "code",
      "execution_count": null,
      "metadata": {
        "id": "5LoEqrHNk_qi"
      },
      "outputs": [],
      "source": [
        "naive_forecast = test_temp[:-1]"
      ]
    },
    {
      "cell_type": "code",
      "execution_count": null,
      "metadata": {
        "colab": {
          "base_uri": "https://localhost:8080/",
          "height": 619
        },
        "id": "wuc2tQdTkONJ",
        "outputId": "63051e08-f6a6-46f9-c462-f37f50c1b5ba"
      },
      "outputs": [
        {
          "data": {
            "image/png": "[encoded data removed]",
            "text/plain": [
              "<Figure size 1000x700 with 1 Axes>"
            ]
          },
          "metadata": {},
          "output_type": "display_data"
        }
      ],
      "source": [
        "plt.figure(figsize=[10,7])\n",
        "plot_time_series(start=0,end=None,x=test_time,y = test_temp,format  = \".\",label = \"test\")\n",
        "plot_time_series(start=0,end=None,x=test_time[1:],y = naive_forecast,format  = \"-\",label = \"naive_forcast\")"
      ]
    },
    {
      "cell_type": "code",
      "execution_count": null,
      "metadata": {
        "id": "WZqOPiFqmAOr"
      },
      "outputs": [],
      "source": [
        "def mase(y_true,y_pred):\n",
        "  y_true = tf.cast(y_true,dtype=tf.float32)\n",
        "  y_pred = tf.cast(y_pred,dtype = tf.float32)\n",
        "  mae = tf.keras.metrics.mean_absolute_error(y_true,y_pred)\n",
        "  naive_mae = tf.keras.metrics.mean_absolute_error(y_true[1:],y_true[:-1])\n",
        "  return mae/naive_mae"
      ]
    },
    {
      "cell_type": "code",
      "execution_count": null,
      "metadata": {
        "colab": {
          "base_uri": "https://localhost:8080/"
        },
        "id": "6dBLnYREnokD",
        "outputId": "5fe8b9c4-df6c-438e-f074-43d87517ba18"
      },
      "outputs": [
        {
          "data": {
            "text/plain": [
              "1.0086757"
            ]
          },
          "execution_count": 21,
          "metadata": {},
          "output_type": "execute_result"
        }
      ],
      "source": [
        "model_0_mase = mase(test_temp[1:],naive_forecast)\n",
        "model_0_mase.numpy()"
      ]
    },
    {
      "cell_type": "code",
      "execution_count": null,
      "metadata": {
        "id": "zi6GPXQlnvmj"
      },
      "outputs": [],
      "source": [
        "def window_making(x,window_size = 7,horizon_size=1):\n",
        "  window_range = np.expand_dims(np.arange(window_size+horizon_size),axis=0)\n",
        "  window_index = window_range + np.expand_dims(np.arange(len(x)-(window_size+horizon_size-1)),axis=0).T\n",
        "  window_value = x[window_index]\n",
        "  return window_value[:,:-horizon_size],window_value[:,-horizon_size:]"
      ]
    },
    {
      "cell_type": "code",
      "execution_count": null,
      "metadata": {
        "id": "3PrP88-ZxGId"
      },
      "outputs": [],
      "source": [
        "train_window,train_horizon = window_making(train_temp.to_numpy())"
      ]
    },
    {
      "cell_type": "code",
      "execution_count": null,
      "metadata": {
        "id": "mxsNcJdqynvH"
      },
      "outputs": [],
      "source": [
        "test_window,test_horizon = window_making(test_temp.to_numpy())"
      ]
    },
    {
      "cell_type": "code",
      "execution_count": null,
      "metadata": {
        "colab": {
          "base_uri": "https://localhost:8080/"
        },
        "id": "xEglmfEdxp8F",
        "outputId": "505948f6-35fa-4381-c93e-246fc47cf520"
      },
      "outputs": [
        {
          "data": {
            "text/plain": [
              "(array([[10.        ,  7.4       ,  7.16666667,  8.66666667,  6.        ,\n",
              "          7.        ,  7.        ],\n",
              "        [ 7.4       ,  7.16666667,  8.66666667,  6.        ,  7.        ,\n",
              "          7.        ,  8.85714286],\n",
              "        [ 7.16666667,  8.66666667,  6.        ,  7.        ,  7.        ,\n",
              "          8.85714286, 14.        ],\n",
              "        [ 8.66666667,  6.        ,  7.        ,  7.        ,  8.85714286,\n",
              "         14.        , 11.        ],\n",
              "        [ 6.        ,  7.        ,  7.        ,  8.85714286, 14.        ,\n",
              "         11.        , 15.71428571],\n",
              "        [ 7.        ,  7.        ,  8.85714286, 14.        , 11.        ,\n",
              "         15.71428571, 14.        ],\n",
              "        [ 7.        ,  8.85714286, 14.        , 11.        , 15.71428571,\n",
              "         14.        , 15.83333333],\n",
              "        [ 8.85714286, 14.        , 11.        , 15.71428571, 14.        ,\n",
              "         15.83333333, 12.83333333],\n",
              "        [14.        , 11.        , 15.71428571, 14.        , 15.83333333,\n",
              "         12.83333333, 14.71428571],\n",
              "        [11.        , 15.71428571, 14.        , 15.83333333, 12.83333333,\n",
              "         14.71428571, 13.83333333]]),\n",
              " array([[ 8.85714286],\n",
              "        [14.        ],\n",
              "        [11.        ],\n",
              "        ...,\n",
              "        [14.0952381 ],\n",
              "        [15.05263158],\n",
              "        [10.        ]]))"
            ]
          },
          "execution_count": 25,
          "metadata": {},
          "output_type": "execute_result"
        }
      ],
      "source": [
        "train_window[:10],train_horizon"
      ]
    },
    {
      "cell_type": "code",
      "execution_count": null,
      "metadata": {
        "id": "7sPyB4aRW_-d"
      },
      "outputs": [],
      "source": [
        "dir = \"checkpoint.ckpt\""
      ]
    },
    {
      "cell_type": "code",
      "execution_count": null,
      "metadata": {
        "colab": {
          "base_uri": "https://localhost:8080/"
        },
        "id": "aG9mrnUtyCjv",
        "outputId": "328246e6-6c5e-42a5-c8a9-71d394376cca"
      },
      "outputs": [
        {
          "name": "stdout",
          "output_type": "stream",
          "text": [
            "Epoch 1/100\n",
            "46/46 [==============================] - 5s 42ms/step - loss: 3.8201 - val_loss: 1.7265\n",
            "Epoch 2/100\n",
            "46/46 [==============================] - 2s 35ms/step - loss: 1.4547 - val_loss: 1.4256\n",
            "Epoch 3/100\n",
            "46/46 [==============================] - 0s 8ms/step - loss: 1.2866 - val_loss: 1.4374\n",
            "Epoch 4/100\n",
            "46/46 [==============================] - 1s 11ms/step - loss: 1.3019 - val_loss: 1.6015\n",
            "Epoch 5/100\n",
            "46/46 [==============================] - 2s 43ms/step - loss: 1.3583 - val_loss: 1.3632\n",
            "Epoch 6/100\n",
            "46/46 [==============================] - 2s 33ms/step - loss: 1.2886 - val_loss: 1.3546\n",
            "Epoch 7/100\n",
            "46/46 [==============================] - 0s 7ms/step - loss: 1.2440 - val_loss: 1.3946\n",
            "Epoch 8/100\n",
            "46/46 [==============================] - 0s 6ms/step - loss: 1.2465 - val_loss: 1.4018\n",
            "Epoch 9/100\n",
            "46/46 [==============================] - 1s 31ms/step - loss: 1.3240 - val_loss: 1.3439\n",
            "Epoch 10/100\n",
            "46/46 [==============================] - 0s 7ms/step - loss: 1.2615 - val_loss: 1.3518\n",
            "Epoch 11/100\n",
            "46/46 [==============================] - 2s 35ms/step - loss: 1.2646 - val_loss: 1.3218\n",
            "Epoch 12/100\n",
            "46/46 [==============================] - 2s 37ms/step - loss: 1.2727 - val_loss: 1.3143\n",
            "Epoch 13/100\n",
            "46/46 [==============================] - 0s 3ms/step - loss: 1.3238 - val_loss: 1.3854\n",
            "Epoch 14/100\n",
            "46/46 [==============================] - 0s 3ms/step - loss: 1.2428 - val_loss: 1.3168\n",
            "Epoch 15/100\n",
            "46/46 [==============================] - 0s 3ms/step - loss: 1.3687 - val_loss: 1.5227\n",
            "Epoch 16/100\n",
            "46/46 [==============================] - 0s 3ms/step - loss: 1.3654 - val_loss: 1.3221\n",
            "Epoch 17/100\n",
            "46/46 [==============================] - 0s 4ms/step - loss: 1.2724 - val_loss: 1.3293\n",
            "Epoch 18/100\n",
            "46/46 [==============================] - 0s 4ms/step - loss: 1.2302 - val_loss: 1.3940\n",
            "Epoch 19/100\n",
            "46/46 [==============================] - 0s 3ms/step - loss: 1.3381 - val_loss: 1.3699\n",
            "Epoch 20/100\n",
            "46/46 [==============================] - 0s 3ms/step - loss: 1.3260 - val_loss: 1.3923\n",
            "Epoch 21/100\n",
            "46/46 [==============================] - 1s 13ms/step - loss: 1.2551 - val_loss: 1.3084\n",
            "Epoch 22/100\n",
            "46/46 [==============================] - 0s 3ms/step - loss: 1.2940 - val_loss: 1.3393\n",
            "Epoch 23/100\n",
            "46/46 [==============================] - 0s 3ms/step - loss: 1.2550 - val_loss: 1.3396\n",
            "Epoch 24/100\n",
            "46/46 [==============================] - 0s 3ms/step - loss: 1.3066 - val_loss: 1.3317\n",
            "Epoch 25/100\n",
            "46/46 [==============================] - 0s 3ms/step - loss: 1.2726 - val_loss: 1.3649\n",
            "Epoch 26/100\n",
            "46/46 [==============================] - 0s 3ms/step - loss: 1.2647 - val_loss: 1.3391\n",
            "Epoch 27/100\n",
            "46/46 [==============================] - 0s 3ms/step - loss: 1.2483 - val_loss: 1.3580\n",
            "Epoch 28/100\n",
            "46/46 [==============================] - 1s 13ms/step - loss: 1.2600 - val_loss: 1.2983\n",
            "Epoch 29/100\n",
            "46/46 [==============================] - 0s 4ms/step - loss: 1.2487 - val_loss: 1.3092\n",
            "Epoch 30/100\n",
            "46/46 [==============================] - 0s 3ms/step - loss: 1.2318 - val_loss: 1.3911\n",
            "Epoch 31/100\n",
            "46/46 [==============================] - 0s 5ms/step - loss: 1.2710 - val_loss: 1.4470\n",
            "Epoch 32/100\n",
            "46/46 [==============================] - 0s 5ms/step - loss: 1.2942 - val_loss: 1.3268\n",
            "Epoch 33/100\n",
            "46/46 [==============================] - 0s 5ms/step - loss: 1.2988 - val_loss: 1.4365\n",
            "Epoch 34/100\n",
            "46/46 [==============================] - 0s 4ms/step - loss: 1.3396 - val_loss: 1.6843\n",
            "Epoch 35/100\n",
            "46/46 [==============================] - 0s 5ms/step - loss: 1.2584 - val_loss: 1.3186\n",
            "Epoch 36/100\n",
            "46/46 [==============================] - 0s 5ms/step - loss: 1.2318 - val_loss: 1.3433\n",
            "Epoch 37/100\n",
            "46/46 [==============================] - 0s 5ms/step - loss: 1.2889 - val_loss: 1.3544\n",
            "Epoch 38/100\n",
            "46/46 [==============================] - 1s 19ms/step - loss: 1.2322 - val_loss: 1.2978\n",
            "Epoch 39/100\n",
            "46/46 [==============================] - 0s 4ms/step - loss: 1.2918 - val_loss: 1.3342\n",
            "Epoch 40/100\n",
            "46/46 [==============================] - 0s 3ms/step - loss: 1.2203 - val_loss: 1.3903\n",
            "Epoch 41/100\n",
            "46/46 [==============================] - 0s 3ms/step - loss: 1.2369 - val_loss: 1.4917\n",
            "Epoch 42/100\n",
            "46/46 [==============================] - 0s 4ms/step - loss: 1.3404 - val_loss: 1.5130\n",
            "Epoch 43/100\n",
            "46/46 [==============================] - 0s 3ms/step - loss: 1.3038 - val_loss: 1.3636\n",
            "Epoch 44/100\n",
            "46/46 [==============================] - 0s 4ms/step - loss: 1.2718 - val_loss: 1.3441\n",
            "Epoch 45/100\n",
            "46/46 [==============================] - 0s 3ms/step - loss: 1.2736 - val_loss: 1.3738\n",
            "Epoch 46/100\n",
            "46/46 [==============================] - 1s 12ms/step - loss: 1.2961 - val_loss: 1.2963\n",
            "Epoch 47/100\n",
            "46/46 [==============================] - 0s 3ms/step - loss: 1.2283 - val_loss: 1.3455\n",
            "Epoch 48/100\n",
            "46/46 [==============================] - 0s 3ms/step - loss: 1.2513 - val_loss: 1.3793\n",
            "Epoch 49/100\n",
            "46/46 [==============================] - 0s 3ms/step - loss: 1.3187 - val_loss: 1.3251\n",
            "Epoch 50/100\n",
            "46/46 [==============================] - 0s 3ms/step - loss: 1.2677 - val_loss: 1.3353\n",
            "Epoch 51/100\n",
            "46/46 [==============================] - 0s 3ms/step - loss: 1.2291 - val_loss: 1.3038\n",
            "Epoch 52/100\n",
            "46/46 [==============================] - 0s 4ms/step - loss: 1.2126 - val_loss: 1.4676\n",
            "Epoch 53/100\n",
            "46/46 [==============================] - 0s 3ms/step - loss: 1.2256 - val_loss: 1.3401\n",
            "Epoch 54/100\n",
            "46/46 [==============================] - 0s 4ms/step - loss: 1.2156 - val_loss: 1.3074\n",
            "Epoch 55/100\n",
            "46/46 [==============================] - 0s 4ms/step - loss: 1.2398 - val_loss: 1.3568\n",
            "Epoch 56/100\n",
            "46/46 [==============================] - 0s 5ms/step - loss: 1.2317 - val_loss: 1.3705\n",
            "Epoch 57/100\n",
            "46/46 [==============================] - 0s 6ms/step - loss: 1.2253 - val_loss: 1.3308\n",
            "Epoch 58/100\n",
            "46/46 [==============================] - 0s 3ms/step - loss: 1.2456 - val_loss: 1.4996\n",
            "Epoch 59/100\n",
            "46/46 [==============================] - 0s 3ms/step - loss: 1.2417 - val_loss: 1.4703\n",
            "Epoch 60/100\n",
            "46/46 [==============================] - 0s 4ms/step - loss: 1.2459 - val_loss: 1.3680\n",
            "Epoch 61/100\n",
            "46/46 [==============================] - 0s 3ms/step - loss: 1.2317 - val_loss: 1.3317\n",
            "Epoch 62/100\n",
            "46/46 [==============================] - 0s 3ms/step - loss: 1.2362 - val_loss: 1.3405\n",
            "Epoch 63/100\n",
            "46/46 [==============================] - 0s 4ms/step - loss: 1.2138 - val_loss: 1.3031\n",
            "Epoch 64/100\n",
            "46/46 [==============================] - 0s 3ms/step - loss: 1.2846 - val_loss: 1.4255\n",
            "Epoch 65/100\n",
            "46/46 [==============================] - 0s 3ms/step - loss: 1.2277 - val_loss: 1.4187\n",
            "Epoch 66/100\n",
            "46/46 [==============================] - 0s 4ms/step - loss: 1.2849 - val_loss: 1.4579\n",
            "Epoch 67/100\n",
            "46/46 [==============================] - 0s 4ms/step - loss: 1.2227 - val_loss: 1.3050\n",
            "Epoch 68/100\n",
            "46/46 [==============================] - 0s 4ms/step - loss: 1.2371 - val_loss: 1.4350\n",
            "Epoch 69/100\n",
            "46/46 [==============================] - 0s 4ms/step - loss: 1.2509 - val_loss: 1.3435\n",
            "Epoch 70/100\n",
            "46/46 [==============================] - 0s 3ms/step - loss: 1.2437 - val_loss: 1.5548\n",
            "Epoch 71/100\n",
            "46/46 [==============================] - 0s 4ms/step - loss: 1.2798 - val_loss: 1.3207\n",
            "Epoch 72/100\n",
            "46/46 [==============================] - 0s 3ms/step - loss: 1.2215 - val_loss: 1.3728\n",
            "Epoch 73/100\n",
            "46/46 [==============================] - 0s 3ms/step - loss: 1.2196 - val_loss: 1.3795\n",
            "Epoch 74/100\n",
            "46/46 [==============================] - 0s 4ms/step - loss: 1.2677 - val_loss: 1.3111\n",
            "Epoch 75/100\n",
            "46/46 [==============================] - 0s 4ms/step - loss: 1.2629 - val_loss: 1.3696\n",
            "Epoch 76/100\n",
            "46/46 [==============================] - 0s 3ms/step - loss: 1.2864 - val_loss: 1.3379\n",
            "Epoch 77/100\n",
            "46/46 [==============================] - 0s 4ms/step - loss: 1.2262 - val_loss: 1.3846\n",
            "Epoch 78/100\n",
            "46/46 [==============================] - 0s 3ms/step - loss: 1.2714 - val_loss: 1.3444\n",
            "Epoch 79/100\n",
            "46/46 [==============================] - 0s 3ms/step - loss: 1.3143 - val_loss: 1.3598\n",
            "Epoch 80/100\n",
            "46/46 [==============================] - 0s 4ms/step - loss: 1.2436 - val_loss: 1.3125\n",
            "Epoch 81/100\n",
            "46/46 [==============================] - 0s 4ms/step - loss: 1.2151 - val_loss: 1.3169\n",
            "Epoch 82/100\n",
            "46/46 [==============================] - 0s 3ms/step - loss: 1.2154 - val_loss: 1.3174\n",
            "Epoch 83/100\n",
            "46/46 [==============================] - 0s 4ms/step - loss: 1.2237 - val_loss: 1.5060\n",
            "Epoch 84/100\n",
            "46/46 [==============================] - 0s 4ms/step - loss: 1.2668 - val_loss: 1.3276\n",
            "Epoch 85/100\n",
            "46/46 [==============================] - 0s 3ms/step - loss: 1.2254 - val_loss: 1.3381\n",
            "Epoch 86/100\n",
            "46/46 [==============================] - 0s 3ms/step - loss: 1.2148 - val_loss: 1.3315\n",
            "Epoch 87/100\n",
            "46/46 [==============================] - 0s 4ms/step - loss: 1.2527 - val_loss: 1.6328\n",
            "Epoch 88/100\n",
            "46/46 [==============================] - 0s 3ms/step - loss: 1.2306 - val_loss: 1.3001\n",
            "Epoch 89/100\n",
            "46/46 [==============================] - 0s 4ms/step - loss: 1.2851 - val_loss: 1.3821\n",
            "Epoch 90/100\n",
            "46/46 [==============================] - 0s 3ms/step - loss: 1.2626 - val_loss: 1.3539\n",
            "Epoch 91/100\n",
            "46/46 [==============================] - 0s 3ms/step - loss: 1.2436 - val_loss: 1.4561\n",
            "Epoch 92/100\n",
            "46/46 [==============================] - 1s 13ms/step - loss: 1.2389 - val_loss: 1.2956\n",
            "Epoch 93/100\n",
            "46/46 [==============================] - 0s 4ms/step - loss: 1.2846 - val_loss: 1.4377\n",
            "Epoch 94/100\n",
            "46/46 [==============================] - 0s 5ms/step - loss: 1.2464 - val_loss: 1.3315\n",
            "Epoch 95/100\n",
            "46/46 [==============================] - 1s 18ms/step - loss: 1.2288 - val_loss: 1.2923\n",
            "Epoch 96/100\n",
            "46/46 [==============================] - 0s 5ms/step - loss: 1.1998 - val_loss: 1.4708\n",
            "Epoch 97/100\n",
            "46/46 [==============================] - 0s 5ms/step - loss: 1.2465 - val_loss: 1.3075\n",
            "Epoch 98/100\n",
            "46/46 [==============================] - 0s 5ms/step - loss: 1.2641 - val_loss: 1.3957\n",
            "Epoch 99/100\n",
            "46/46 [==============================] - 0s 5ms/step - loss: 1.2203 - val_loss: 1.3284\n",
            "Epoch 100/100\n",
            "46/46 [==============================] - 0s 5ms/step - loss: 1.2252 - val_loss: 1.4142\n"
          ]
        }
      ],
      "source": [
        "model_1 = tf.keras.Sequential([\n",
        "    tf.keras.layers.Dense(128,activation = \"relu\"),\n",
        "    tf.keras.layers.Dense(128,activation = \"relu\"),\n",
        "    tf.keras.layers.Dense(1,activation = \"linear\"),\n",
        "])\n",
        "\n",
        "model_1.compile(loss = \"mae\",\n",
        "                optimizer = \"adam\"\n",
        "                )\n",
        "\n",
        "his_1 = model_1.fit(train_window,train_horizon,\n",
        "                    epochs=  100,\n",
        "                    validation_data = [test_window,test_horizon],\n",
        "                    callbacks = tf.keras.callbacks.ModelCheckpoint(filepath = \"checkpoint.ckpt/model_1\",\n",
        "                                                                  save_best_only = True\n",
        "                                                                  )\n",
        "                    )"
      ]
    },
    {
      "cell_type": "code",
      "execution_count": null,
      "metadata": {
        "colab": {
          "base_uri": "https://localhost:8080/",
          "height": 466
        },
        "id": "cCi3bkiM2Y3A",
        "outputId": "3926255b-ee0a-472d-a00d-3c341f0470b5"
      },
      "outputs": [
        {
          "data": {
            "text/plain": [
              "Text(0.5, 0, 'epoch')"
            ]
          },
          "execution_count": 28,
          "metadata": {},
          "output_type": "execute_result"
        },
        {
          "data": {
            "image/png": "[encoded data removed]",
            "text/plain": [
              "<Figure size 640x480 with 1 Axes>"
            ]
          },
          "metadata": {},
          "output_type": "display_data"
        }
      ],
      "source": [
        "pd.DataFrame(his_1.history).plot()\n",
        "plt.xlabel(\"epoch\")"
      ]
    },
    {
      "cell_type": "code",
      "execution_count": null,
      "metadata": {
        "id": "v7DBqVh0TkVK"
      },
      "outputs": [],
      "source": [
        "def evaluation_metrics(y_true,y_pred):\n",
        "  y_true = tf.cast(y_true,dtype = tf.float32)\n",
        "  y_pred = tf.cast(y_pred,dtype = tf.float32)\n",
        "\n",
        "  mae = tf.keras.metrics.mean_absolute_error(y_true,y_pred)\n",
        "  mse = tf.keras.metrics.mean_squared_error(y_true,y_pred)\n",
        "  rmse = tf.sqrt(mse)\n",
        "  mase_ = mase(y_true,y_pred)\n",
        "\n",
        "  dic = {\n",
        "      \"mae\":mae.numpy(),\n",
        "      \"mse\":mse.numpy(),\n",
        "      \"rmse\":rmse.numpy(),\n",
        "      \"mase\":mase_.numpy()\n",
        "  }\n",
        "  return dic"
      ]
    },
    {
      "cell_type": "code",
      "execution_count": null,
      "metadata": {
        "colab": {
          "base_uri": "https://localhost:8080/"
        },
        "id": "tjya1VJLiSfv",
        "outputId": "240e7faf-973e-4b8f-e847-01d2fe791377"
      },
      "outputs": [
        {
          "data": {
            "text/plain": [
              "{'mae': 1.2877529, 'mse': 2.7208033, 'rmse': 1.6494857, 'mase': 0.9987077}"
            ]
          },
          "execution_count": 30,
          "metadata": {},
          "output_type": "execute_result"
        }
      ],
      "source": [
        "model_0_result = evaluation_metrics(tf.squeeze(test_horizon[1:]),tf.squeeze(test_horizon[:-1]))\n",
        "model_0_result"
      ]
    },
    {
      "cell_type": "code",
      "execution_count": null,
      "metadata": {
        "id": "8ciYa7pOWiKu"
      },
      "outputs": [],
      "source": [
        "load_model = tf.keras.models.load_model(\"/content/checkpoint.ckpt/model_1\")"
      ]
    },
    {
      "cell_type": "code",
      "execution_count": null,
      "metadata": {
        "colab": {
          "base_uri": "https://localhost:8080/"
        },
        "id": "XcPB_NJFWsjM",
        "outputId": "811f9c39-e0ee-4e70-e369-dde9177bc304"
      },
      "outputs": [
        {
          "name": "stdout",
          "output_type": "stream",
          "text": [
            "4/4 [==============================] - 0s 2ms/step\n"
          ]
        }
      ],
      "source": [
        "y_pred_1 = load_model.predict(test_window)"
      ]
    },
    {
      "cell_type": "code",
      "execution_count": null,
      "metadata": {
        "id": "dioHJQfbUcQt"
      },
      "outputs": [],
      "source": [
        "model_1_result = evaluation_metrics(tf.squeeze(test_horizon),tf.squeeze(y_pred_1,))"
      ]
    },
    {
      "cell_type": "code",
      "execution_count": null,
      "metadata": {
        "colab": {
          "base_uri": "https://localhost:8080/"
        },
        "id": "cq4txMkxVR7F",
        "outputId": "821dca10-d2af-4ade-b7ae-813c0148f4b9"
      },
      "outputs": [
        {
          "data": {
            "text/plain": [
              "{'mae': 1.2923478, 'mse': 2.72166, 'rmse': 1.6497453, 'mase': 1.0035682}"
            ]
          },
          "execution_count": 34,
          "metadata": {},
          "output_type": "execute_result"
        }
      ],
      "source": [
        "model_1_result"
      ]
    },
    {
      "cell_type": "code",
      "execution_count": null,
      "metadata": {
        "colab": {
          "base_uri": "https://localhost:8080/"
        },
        "id": "aQkFqlSJVg1c",
        "outputId": "548c48a2-25de-413c-8597-ce02ce949928"
      },
      "outputs": [
        {
          "name": "stdout",
          "output_type": "stream",
          "text": [
            "Epoch 1/100\n",
            "46/46 [==============================] - 3s 28ms/step - loss: 8.0640 - val_loss: 1.7709\n",
            "Epoch 2/100\n",
            "46/46 [==============================] - 1s 23ms/step - loss: 1.5157 - val_loss: 1.7429\n",
            "Epoch 3/100\n",
            "46/46 [==============================] - 1s 17ms/step - loss: 1.4579 - val_loss: 1.6684\n",
            "Epoch 4/100\n",
            "46/46 [==============================] - 0s 4ms/step - loss: 1.4233 - val_loss: 1.7468\n",
            "Epoch 5/100\n",
            "46/46 [==============================] - 0s 3ms/step - loss: 1.4207 - val_loss: 1.7103\n",
            "Epoch 6/100\n",
            "46/46 [==============================] - 1s 21ms/step - loss: 1.3936 - val_loss: 1.5977\n",
            "Epoch 7/100\n",
            "46/46 [==============================] - 1s 15ms/step - loss: 1.3651 - val_loss: 1.5547\n",
            "Epoch 8/100\n",
            "46/46 [==============================] - 1s 16ms/step - loss: 1.3806 - val_loss: 1.4902\n",
            "Epoch 9/100\n",
            "46/46 [==============================] - 0s 3ms/step - loss: 1.3312 - val_loss: 1.5015\n",
            "Epoch 10/100\n",
            "46/46 [==============================] - 1s 15ms/step - loss: 1.3177 - val_loss: 1.4404\n",
            "Epoch 11/100\n",
            "46/46 [==============================] - 0s 4ms/step - loss: 1.3744 - val_loss: 1.5708\n",
            "Epoch 12/100\n",
            "46/46 [==============================] - 0s 4ms/step - loss: 1.3379 - val_loss: 1.5089\n",
            "Epoch 13/100\n",
            "46/46 [==============================] - 1s 16ms/step - loss: 1.3037 - val_loss: 1.4264\n",
            "Epoch 14/100\n",
            "46/46 [==============================] - 0s 4ms/step - loss: 1.3215 - val_loss: 1.5186\n",
            "Epoch 15/100\n",
            "46/46 [==============================] - 0s 4ms/step - loss: 1.3177 - val_loss: 1.4430\n",
            "Epoch 16/100\n",
            "46/46 [==============================] - 1s 15ms/step - loss: 1.3024 - val_loss: 1.3874\n",
            "Epoch 17/100\n",
            "46/46 [==============================] - 1s 15ms/step - loss: 1.3029 - val_loss: 1.3420\n",
            "Epoch 18/100\n",
            "46/46 [==============================] - 0s 4ms/step - loss: 1.2906 - val_loss: 1.3811\n",
            "Epoch 19/100\n",
            "46/46 [==============================] - 0s 4ms/step - loss: 1.3087 - val_loss: 1.3940\n",
            "Epoch 20/100\n",
            "46/46 [==============================] - 0s 4ms/step - loss: 1.3149 - val_loss: 1.4032\n",
            "Epoch 21/100\n",
            "46/46 [==============================] - 0s 4ms/step - loss: 1.2726 - val_loss: 1.5104\n",
            "Epoch 22/100\n",
            "46/46 [==============================] - 1s 16ms/step - loss: 1.3005 - val_loss: 1.3395\n",
            "Epoch 23/100\n",
            "46/46 [==============================] - 1s 15ms/step - loss: 1.3265 - val_loss: 1.3306\n",
            "Epoch 24/100\n",
            "46/46 [==============================] - 0s 4ms/step - loss: 1.3010 - val_loss: 1.3314\n",
            "Epoch 25/100\n",
            "46/46 [==============================] - 0s 3ms/step - loss: 1.2811 - val_loss: 1.3535\n",
            "Epoch 26/100\n",
            "46/46 [==============================] - 1s 16ms/step - loss: 1.2887 - val_loss: 1.3149\n",
            "Epoch 27/100\n",
            "46/46 [==============================] - 1s 22ms/step - loss: 1.2661 - val_loss: 1.3128\n",
            "Epoch 28/100\n",
            "46/46 [==============================] - 1s 23ms/step - loss: 1.2880 - val_loss: 1.3030\n",
            "Epoch 29/100\n",
            "46/46 [==============================] - 0s 6ms/step - loss: 1.3207 - val_loss: 1.3801\n",
            "Epoch 30/100\n",
            "46/46 [==============================] - 0s 4ms/step - loss: 1.2509 - val_loss: 1.4857\n",
            "Epoch 31/100\n",
            "46/46 [==============================] - 0s 4ms/step - loss: 1.3138 - val_loss: 1.3071\n",
            "Epoch 32/100\n",
            "46/46 [==============================] - 0s 4ms/step - loss: 1.2532 - val_loss: 1.3224\n",
            "Epoch 33/100\n",
            "46/46 [==============================] - 0s 4ms/step - loss: 1.2772 - val_loss: 1.4289\n",
            "Epoch 34/100\n",
            "46/46 [==============================] - 0s 4ms/step - loss: 1.3507 - val_loss: 1.3071\n",
            "Epoch 35/100\n",
            "46/46 [==============================] - 0s 4ms/step - loss: 1.2375 - val_loss: 1.3588\n",
            "Epoch 36/100\n",
            "46/46 [==============================] - 1s 22ms/step - loss: 1.2513 - val_loss: 1.2991\n",
            "Epoch 37/100\n",
            "46/46 [==============================] - 0s 4ms/step - loss: 1.2611 - val_loss: 1.2993\n",
            "Epoch 38/100\n",
            "46/46 [==============================] - 0s 3ms/step - loss: 1.2417 - val_loss: 1.3196\n",
            "Epoch 39/100\n",
            "46/46 [==============================] - 0s 4ms/step - loss: 1.2647 - val_loss: 1.3486\n",
            "Epoch 40/100\n",
            "46/46 [==============================] - 0s 4ms/step - loss: 1.2828 - val_loss: 1.3961\n",
            "Epoch 41/100\n",
            "46/46 [==============================] - 0s 4ms/step - loss: 1.4110 - val_loss: 1.3327\n",
            "Epoch 42/100\n",
            "46/46 [==============================] - 0s 4ms/step - loss: 1.2257 - val_loss: 1.3710\n",
            "Epoch 43/100\n",
            "46/46 [==============================] - 0s 3ms/step - loss: 1.2620 - val_loss: 1.5093\n",
            "Epoch 44/100\n",
            "46/46 [==============================] - 0s 4ms/step - loss: 1.3448 - val_loss: 1.4113\n",
            "Epoch 45/100\n",
            "46/46 [==============================] - 0s 4ms/step - loss: 1.3124 - val_loss: 1.3124\n",
            "Epoch 46/100\n",
            "46/46 [==============================] - 0s 4ms/step - loss: 1.3206 - val_loss: 1.4497\n",
            "Epoch 47/100\n",
            "46/46 [==============================] - 0s 4ms/step - loss: 1.3390 - val_loss: 1.3091\n",
            "Epoch 48/100\n",
            "46/46 [==============================] - 0s 4ms/step - loss: 1.2453 - val_loss: 1.3047\n",
            "Epoch 49/100\n",
            "46/46 [==============================] - 0s 4ms/step - loss: 1.2480 - val_loss: 1.3092\n",
            "Epoch 50/100\n",
            "46/46 [==============================] - 0s 4ms/step - loss: 1.2831 - val_loss: 1.3030\n",
            "Epoch 51/100\n",
            "46/46 [==============================] - 0s 4ms/step - loss: 1.3319 - val_loss: 1.3598\n",
            "Epoch 52/100\n",
            "46/46 [==============================] - 0s 4ms/step - loss: 1.2470 - val_loss: 1.3431\n",
            "Epoch 53/100\n",
            "46/46 [==============================] - 0s 4ms/step - loss: 1.2481 - val_loss: 1.3455\n",
            "Epoch 54/100\n",
            "46/46 [==============================] - 0s 4ms/step - loss: 1.2517 - val_loss: 1.4085\n",
            "Epoch 55/100\n",
            "46/46 [==============================] - 0s 4ms/step - loss: 1.2585 - val_loss: 1.3483\n",
            "Epoch 56/100\n",
            "46/46 [==============================] - 0s 4ms/step - loss: 1.2492 - val_loss: 1.5387\n",
            "Epoch 57/100\n",
            "46/46 [==============================] - 0s 4ms/step - loss: 1.2982 - val_loss: 1.3032\n",
            "Epoch 58/100\n",
            "46/46 [==============================] - 0s 4ms/step - loss: 1.2378 - val_loss: 1.4544\n",
            "Epoch 59/100\n",
            "46/46 [==============================] - 0s 4ms/step - loss: 1.2642 - val_loss: 1.5178\n",
            "Epoch 60/100\n",
            "46/46 [==============================] - 0s 4ms/step - loss: 1.3209 - val_loss: 1.3142\n",
            "Epoch 61/100\n",
            "46/46 [==============================] - 1s 16ms/step - loss: 1.2382 - val_loss: 1.2957\n",
            "Epoch 62/100\n",
            "46/46 [==============================] - 0s 4ms/step - loss: 1.2429 - val_loss: 1.3094\n",
            "Epoch 63/100\n",
            "46/46 [==============================] - 1s 16ms/step - loss: 1.2468 - val_loss: 1.2955\n",
            "Epoch 64/100\n",
            "46/46 [==============================] - 0s 4ms/step - loss: 1.2787 - val_loss: 1.3209\n",
            "Epoch 65/100\n",
            "46/46 [==============================] - 0s 4ms/step - loss: 1.2322 - val_loss: 1.3918\n",
            "Epoch 66/100\n",
            "46/46 [==============================] - 0s 4ms/step - loss: 1.3483 - val_loss: 1.4808\n",
            "Epoch 67/100\n",
            "46/46 [==============================] - 0s 4ms/step - loss: 1.2715 - val_loss: 1.3732\n",
            "Epoch 68/100\n",
            "46/46 [==============================] - 0s 4ms/step - loss: 1.2450 - val_loss: 1.3910\n",
            "Epoch 69/100\n",
            "46/46 [==============================] - 1s 15ms/step - loss: 1.2517 - val_loss: 1.2887\n",
            "Epoch 70/100\n",
            "46/46 [==============================] - 0s 4ms/step - loss: 1.2482 - val_loss: 1.2915\n",
            "Epoch 71/100\n",
            "46/46 [==============================] - 0s 5ms/step - loss: 1.2527 - val_loss: 1.3661\n",
            "Epoch 72/100\n",
            "46/46 [==============================] - 0s 5ms/step - loss: 1.2416 - val_loss: 1.4930\n",
            "Epoch 73/100\n",
            "46/46 [==============================] - 0s 5ms/step - loss: 1.2712 - val_loss: 1.3026\n",
            "Epoch 74/100\n",
            "46/46 [==============================] - 1s 22ms/step - loss: 1.2292 - val_loss: 1.2849\n",
            "Epoch 75/100\n",
            "46/46 [==============================] - 0s 6ms/step - loss: 1.2342 - val_loss: 1.3771\n",
            "Epoch 76/100\n",
            "46/46 [==============================] - 0s 6ms/step - loss: 1.2684 - val_loss: 1.3549\n",
            "Epoch 77/100\n",
            "46/46 [==============================] - 0s 6ms/step - loss: 1.2546 - val_loss: 1.3723\n",
            "Epoch 78/100\n",
            "46/46 [==============================] - 0s 4ms/step - loss: 1.2633 - val_loss: 1.6286\n",
            "Epoch 79/100\n",
            "46/46 [==============================] - 0s 4ms/step - loss: 1.2571 - val_loss: 1.3202\n",
            "Epoch 80/100\n",
            "46/46 [==============================] - 1s 16ms/step - loss: 1.2479 - val_loss: 1.2842\n",
            "Epoch 81/100\n",
            "46/46 [==============================] - 0s 4ms/step - loss: 1.2463 - val_loss: 1.2916\n",
            "Epoch 82/100\n",
            "46/46 [==============================] - 1s 15ms/step - loss: 1.2758 - val_loss: 1.2813\n",
            "Epoch 83/100\n",
            "46/46 [==============================] - 0s 7ms/step - loss: 1.2505 - val_loss: 1.4941\n",
            "Epoch 84/100\n",
            "46/46 [==============================] - 0s 6ms/step - loss: 1.2510 - val_loss: 1.3473\n",
            "Epoch 85/100\n",
            "46/46 [==============================] - 0s 8ms/step - loss: 1.2265 - val_loss: 1.2845\n",
            "Epoch 86/100\n",
            "46/46 [==============================] - 1s 28ms/step - loss: 1.2485 - val_loss: 1.2807\n",
            "Epoch 87/100\n",
            "46/46 [==============================] - 0s 10ms/step - loss: 1.3482 - val_loss: 1.6211\n",
            "Epoch 88/100\n",
            "46/46 [==============================] - 0s 7ms/step - loss: 1.3530 - val_loss: 1.3440\n",
            "Epoch 89/100\n",
            "46/46 [==============================] - 0s 8ms/step - loss: 1.2239 - val_loss: 1.2910\n",
            "Epoch 90/100\n",
            "46/46 [==============================] - 0s 7ms/step - loss: 1.2256 - val_loss: 1.2917\n",
            "Epoch 91/100\n",
            "46/46 [==============================] - 0s 7ms/step - loss: 1.2202 - val_loss: 1.2874\n",
            "Epoch 92/100\n",
            "46/46 [==============================] - 0s 7ms/step - loss: 1.2630 - val_loss: 1.2837\n",
            "Epoch 93/100\n",
            "46/46 [==============================] - 0s 9ms/step - loss: 1.2642 - val_loss: 1.2954\n",
            "Epoch 94/100\n",
            "46/46 [==============================] - 0s 6ms/step - loss: 1.2468 - val_loss: 1.4220\n",
            "Epoch 95/100\n",
            "46/46 [==============================] - 0s 7ms/step - loss: 1.2793 - val_loss: 1.3741\n",
            "Epoch 96/100\n",
            "46/46 [==============================] - 0s 10ms/step - loss: 1.3226 - val_loss: 1.2918\n",
            "Epoch 97/100\n",
            "46/46 [==============================] - 0s 8ms/step - loss: 1.2712 - val_loss: 1.3614\n",
            "Epoch 98/100\n",
            "46/46 [==============================] - 0s 9ms/step - loss: 1.2499 - val_loss: 1.3158\n",
            "Epoch 99/100\n",
            "46/46 [==============================] - 0s 7ms/step - loss: 1.2423 - val_loss: 1.2857\n",
            "Epoch 100/100\n",
            "46/46 [==============================] - 0s 9ms/step - loss: 1.2359 - val_loss: 1.2878\n"
          ]
        }
      ],
      "source": [
        "model_2 = tf.keras.Sequential([\n",
        "    tf.keras.layers.Lambda(lambda x:tf.expand_dims(x,axis=1)),\n",
        "    tf.keras.layers.Conv1D(64,5,activation = \"relu\",padding = \"causal\"),\n",
        "    tf.keras.layers.GlobalMaxPool1D(),\n",
        "    tf.keras.layers.Dense(128,activation = \"relu\"),\n",
        "    tf.keras.layers.Dense(1,activation = \"linear\")\n",
        "])\n",
        "\n",
        "model_2.compile(loss = \"mae\",\n",
        "                optimizer = \"adam\"\n",
        "                )\n",
        "\n",
        "his_2 = model_2.fit(train_window,train_horizon,\n",
        "                    epochs = 100,\n",
        "                    validation_data = [test_window,test_horizon],\n",
        "                    callbacks = tf.keras.callbacks.ModelCheckpoint(filepath = os.path.join(dir,\"model_2\"),\n",
        "                                                                   save_best_only = True\n",
        "                                                                   )\n",
        "                    )"
      ]
    },
    {
      "cell_type": "code",
      "execution_count": null,
      "metadata": {
        "id": "3LSq0xV2Xrwm"
      },
      "outputs": [],
      "source": [
        "load_model_2 = tf.keras.models.load_model(os.path.join(dir,\"model_2\"))"
      ]
    },
    {
      "cell_type": "code",
      "execution_count": null,
      "metadata": {
        "id": "8eMgalnbX88v"
      },
      "outputs": [],
      "source": [
        "def pred_eval(model,data,test_label):\n",
        "  y_pred = model.predict(data)\n",
        "  model_result = evaluation_metrics(tf.squeeze(test_label),tf.squeeze(y_pred))\n",
        "  return model_result"
      ]
    },
    {
      "cell_type": "code",
      "execution_count": null,
      "metadata": {
        "colab": {
          "base_uri": "https://localhost:8080/"
        },
        "id": "lwSals9jYSx1",
        "outputId": "9ced55f2-8626-4752-fd08-72e65b9015c7"
      },
      "outputs": [
        {
          "name": "stdout",
          "output_type": "stream",
          "text": [
            "4/4 [==============================] - 0s 10ms/step\n"
          ]
        },
        {
          "data": {
            "text/plain": [
              "{'mae': 1.280704, 'mse': 2.6638668, 'rmse': 1.6321356, 'mase': 0.99452627}"
            ]
          },
          "execution_count": 38,
          "metadata": {},
          "output_type": "execute_result"
        }
      ],
      "source": [
        "model_2_result = pred_eval(load_model_2,data=  test_window,test_label = test_horizon)\n",
        "model_2_result"
      ]
    },
    {
      "cell_type": "code",
      "execution_count": null,
      "metadata": {
        "colab": {
          "base_uri": "https://localhost:8080/",
          "height": 447
        },
        "id": "A2GJolpNcUht",
        "outputId": "b02d9e3d-b615-46c2-812a-cad5de8fd6c2"
      },
      "outputs": [
        {
          "data": {
            "text/plain": [
              "<Axes: >"
            ]
          },
          "execution_count": 40,
          "metadata": {},
          "output_type": "execute_result"
        },
        {
          "data": {
            "image/png": "[encoded data removed]",
            "text/plain": [
              "<Figure size 640x480 with 1 Axes>"
            ]
          },
          "metadata": {},
          "output_type": "display_data"
        }
      ],
      "source": [
        "pd.DataFrame(his_2.history).plot()"
      ]
    },
    {
      "cell_type": "code",
      "execution_count": null,
      "metadata": {
        "colab": {
          "base_uri": "https://localhost:8080/"
        },
        "id": "-QU8eVqXfPjN",
        "outputId": "399cd38d-1799-4d83-e9bd-3e440abcc9c1"
      },
      "outputs": [
        {
          "name": "stderr",
          "output_type": "stream",
          "text": [
            "WARNING:tensorflow:Layer lstm will not use cuDNN kernels since it doesn't meet the criteria. It will use a generic GPU kernel as fallback when running on GPU.\n"
          ]
        },
        {
          "name": "stdout",
          "output_type": "stream",
          "text": [
            "Epoch 1/100\n",
            "46/46 [==============================] - 8s 127ms/step - loss: 11.7897 - val_loss: 2.0932\n",
            "Epoch 2/100\n",
            "46/46 [==============================] - 2s 37ms/step - loss: 1.6591 - val_loss: 1.7052\n",
            "Epoch 3/100\n",
            "46/46 [==============================] - 2s 38ms/step - loss: 1.4128 - val_loss: 1.4947\n",
            "Epoch 4/100\n",
            "46/46 [==============================] - 2s 37ms/step - loss: 1.3078 - val_loss: 1.3922\n",
            "Epoch 5/100\n",
            "46/46 [==============================] - 2s 36ms/step - loss: 1.3051 - val_loss: 1.3637\n",
            "Epoch 6/100\n",
            "46/46 [==============================] - 2s 55ms/step - loss: 1.2901 - val_loss: 1.3399\n",
            "Epoch 7/100\n",
            "46/46 [==============================] - 0s 9ms/step - loss: 1.2625 - val_loss: 1.4098\n",
            "Epoch 8/100\n",
            "46/46 [==============================] - 2s 42ms/step - loss: 1.2603 - val_loss: 1.3142\n",
            "Epoch 9/100\n",
            "46/46 [==============================] - 0s 5ms/step - loss: 1.4098 - val_loss: 1.3358\n",
            "Epoch 10/100\n",
            "46/46 [==============================] - 0s 5ms/step - loss: 1.2676 - val_loss: 1.3827\n",
            "Epoch 11/100\n",
            "46/46 [==============================] - 0s 6ms/step - loss: 1.3085 - val_loss: 1.4797\n",
            "Epoch 12/100\n",
            "46/46 [==============================] - 0s 5ms/step - loss: 1.2835 - val_loss: 1.3814\n",
            "Epoch 13/100\n",
            "46/46 [==============================] - 0s 5ms/step - loss: 1.2540 - val_loss: 1.4432\n",
            "Epoch 14/100\n",
            "46/46 [==============================] - 0s 5ms/step - loss: 1.2537 - val_loss: 1.3149\n",
            "Epoch 15/100\n",
            "46/46 [==============================] - 0s 5ms/step - loss: 1.2993 - val_loss: 1.3537\n",
            "Epoch 16/100\n",
            "46/46 [==============================] - 2s 37ms/step - loss: 1.2605 - val_loss: 1.3094\n",
            "Epoch 17/100\n",
            "46/46 [==============================] - 2s 37ms/step - loss: 1.2560 - val_loss: 1.2867\n",
            "Epoch 18/100\n",
            "46/46 [==============================] - 0s 5ms/step - loss: 1.2983 - val_loss: 1.4342\n",
            "Epoch 19/100\n",
            "46/46 [==============================] - 0s 5ms/step - loss: 1.2458 - val_loss: 1.2940\n",
            "Epoch 20/100\n",
            "46/46 [==============================] - 0s 6ms/step - loss: 1.2295 - val_loss: 1.3666\n",
            "Epoch 21/100\n",
            "46/46 [==============================] - 0s 5ms/step - loss: 1.2270 - val_loss: 1.3441\n",
            "Epoch 22/100\n",
            "46/46 [==============================] - 2s 36ms/step - loss: 1.2541 - val_loss: 1.2789\n",
            "Epoch 23/100\n",
            "46/46 [==============================] - 0s 10ms/step - loss: 1.2717 - val_loss: 1.3668\n",
            "Epoch 24/100\n",
            "46/46 [==============================] - 0s 9ms/step - loss: 1.2613 - val_loss: 1.5196\n",
            "Epoch 25/100\n",
            "46/46 [==============================] - 3s 61ms/step - loss: 1.3152 - val_loss: 1.2729\n",
            "Epoch 26/100\n",
            "46/46 [==============================] - 0s 5ms/step - loss: 1.2475 - val_loss: 1.3429\n",
            "Epoch 27/100\n",
            "46/46 [==============================] - 0s 5ms/step - loss: 1.2824 - val_loss: 1.2948\n",
            "Epoch 28/100\n",
            "46/46 [==============================] - 0s 5ms/step - loss: 1.2477 - val_loss: 1.3714\n",
            "Epoch 29/100\n",
            "46/46 [==============================] - 0s 5ms/step - loss: 1.2803 - val_loss: 1.2909\n",
            "Epoch 30/100\n",
            "46/46 [==============================] - 0s 5ms/step - loss: 1.2309 - val_loss: 1.2737\n",
            "Epoch 31/100\n",
            "46/46 [==============================] - 2s 37ms/step - loss: 1.2415 - val_loss: 1.2664\n",
            "Epoch 32/100\n",
            "46/46 [==============================] - 0s 6ms/step - loss: 1.2689 - val_loss: 1.2953\n",
            "Epoch 33/100\n",
            "46/46 [==============================] - 0s 6ms/step - loss: 1.2298 - val_loss: 1.2880\n",
            "Epoch 34/100\n",
            "46/46 [==============================] - 0s 5ms/step - loss: 1.2222 - val_loss: 1.3702\n",
            "Epoch 35/100\n",
            "46/46 [==============================] - 0s 5ms/step - loss: 1.2786 - val_loss: 1.2804\n",
            "Epoch 36/100\n",
            "46/46 [==============================] - 0s 5ms/step - loss: 1.2725 - val_loss: 1.2761\n",
            "Epoch 37/100\n",
            "46/46 [==============================] - 0s 6ms/step - loss: 1.2756 - val_loss: 1.4653\n",
            "Epoch 38/100\n",
            "46/46 [==============================] - 0s 5ms/step - loss: 1.2947 - val_loss: 1.3597\n",
            "Epoch 39/100\n",
            "46/46 [==============================] - 0s 5ms/step - loss: 1.2178 - val_loss: 1.3793\n",
            "Epoch 40/100\n",
            "46/46 [==============================] - 0s 6ms/step - loss: 1.2405 - val_loss: 1.4180\n",
            "Epoch 41/100\n",
            "46/46 [==============================] - 0s 6ms/step - loss: 1.2525 - val_loss: 1.2854\n",
            "Epoch 42/100\n",
            "46/46 [==============================] - 0s 5ms/step - loss: 1.2286 - val_loss: 1.2809\n",
            "Epoch 43/100\n",
            "46/46 [==============================] - 0s 5ms/step - loss: 1.2189 - val_loss: 1.3500\n",
            "Epoch 44/100\n",
            "46/46 [==============================] - 0s 5ms/step - loss: 1.2404 - val_loss: 1.2840\n",
            "Epoch 45/100\n",
            "46/46 [==============================] - 0s 6ms/step - loss: 1.2640 - val_loss: 1.2928\n",
            "Epoch 46/100\n",
            "46/46 [==============================] - 0s 6ms/step - loss: 1.2315 - val_loss: 1.4017\n",
            "Epoch 47/100\n",
            "46/46 [==============================] - 0s 5ms/step - loss: 1.2738 - val_loss: 1.2728\n",
            "Epoch 48/100\n",
            "46/46 [==============================] - 0s 6ms/step - loss: 1.2623 - val_loss: 1.4532\n",
            "Epoch 49/100\n",
            "46/46 [==============================] - 0s 5ms/step - loss: 1.3055 - val_loss: 1.5532\n",
            "Epoch 50/100\n",
            "46/46 [==============================] - 0s 5ms/step - loss: 1.3126 - val_loss: 1.4049\n",
            "Epoch 51/100\n",
            "46/46 [==============================] - 0s 5ms/step - loss: 1.3080 - val_loss: 1.4037\n",
            "Epoch 52/100\n",
            "46/46 [==============================] - 0s 6ms/step - loss: 1.2839 - val_loss: 1.4837\n",
            "Epoch 53/100\n",
            "46/46 [==============================] - 0s 6ms/step - loss: 1.2606 - val_loss: 1.2793\n",
            "Epoch 54/100\n",
            "46/46 [==============================] - 0s 5ms/step - loss: 1.2498 - val_loss: 1.3958\n",
            "Epoch 55/100\n",
            "46/46 [==============================] - 0s 5ms/step - loss: 1.2424 - val_loss: 1.2914\n",
            "Epoch 56/100\n",
            "46/46 [==============================] - 0s 5ms/step - loss: 1.2361 - val_loss: 1.2721\n",
            "Epoch 57/100\n",
            "46/46 [==============================] - 0s 6ms/step - loss: 1.2312 - val_loss: 1.2669\n",
            "Epoch 58/100\n",
            "46/46 [==============================] - 0s 8ms/step - loss: 1.2192 - val_loss: 1.2944\n",
            "Epoch 59/100\n",
            "46/46 [==============================] - 0s 8ms/step - loss: 1.2270 - val_loss: 1.2869\n",
            "Epoch 60/100\n",
            "46/46 [==============================] - 0s 9ms/step - loss: 1.2122 - val_loss: 1.2929\n",
            "Epoch 61/100\n",
            "46/46 [==============================] - 0s 8ms/step - loss: 1.2607 - val_loss: 1.2826\n",
            "Epoch 62/100\n",
            "46/46 [==============================] - 0s 9ms/step - loss: 1.2446 - val_loss: 1.2972\n",
            "Epoch 63/100\n",
            "46/46 [==============================] - 0s 8ms/step - loss: 1.2288 - val_loss: 1.2759\n",
            "Epoch 64/100\n",
            "46/46 [==============================] - 0s 9ms/step - loss: 1.2823 - val_loss: 1.3639\n",
            "Epoch 65/100\n",
            "46/46 [==============================] - 0s 6ms/step - loss: 1.2172 - val_loss: 1.4603\n",
            "Epoch 66/100\n",
            "46/46 [==============================] - 0s 5ms/step - loss: 1.2678 - val_loss: 1.2897\n",
            "Epoch 67/100\n",
            "46/46 [==============================] - 0s 6ms/step - loss: 1.2481 - val_loss: 1.5183\n",
            "Epoch 68/100\n",
            "46/46 [==============================] - 0s 6ms/step - loss: 1.2970 - val_loss: 1.4098\n",
            "Epoch 69/100\n",
            "46/46 [==============================] - 0s 6ms/step - loss: 1.2353 - val_loss: 1.3925\n",
            "Epoch 70/100\n",
            "46/46 [==============================] - 0s 5ms/step - loss: 1.2283 - val_loss: 1.2999\n",
            "Epoch 71/100\n",
            "46/46 [==============================] - 0s 5ms/step - loss: 1.2416 - val_loss: 1.3583\n",
            "Epoch 72/100\n",
            "46/46 [==============================] - 0s 6ms/step - loss: 1.2208 - val_loss: 1.3989\n",
            "Epoch 73/100\n",
            "46/46 [==============================] - 0s 5ms/step - loss: 1.2587 - val_loss: 1.2795\n",
            "Epoch 74/100\n",
            "46/46 [==============================] - 0s 5ms/step - loss: 1.2315 - val_loss: 1.3624\n",
            "Epoch 75/100\n",
            "46/46 [==============================] - 0s 5ms/step - loss: 1.2368 - val_loss: 1.3099\n",
            "Epoch 76/100\n",
            "46/46 [==============================] - 0s 6ms/step - loss: 1.2581 - val_loss: 1.2685\n",
            "Epoch 77/100\n",
            "46/46 [==============================] - 0s 5ms/step - loss: 1.2077 - val_loss: 1.3086\n",
            "Epoch 78/100\n",
            "46/46 [==============================] - 2s 36ms/step - loss: 1.2287 - val_loss: 1.2622\n",
            "Epoch 79/100\n",
            "46/46 [==============================] - 0s 5ms/step - loss: 1.2286 - val_loss: 1.3384\n",
            "Epoch 80/100\n",
            "46/46 [==============================] - 0s 5ms/step - loss: 1.2761 - val_loss: 1.2881\n",
            "Epoch 81/100\n",
            "46/46 [==============================] - 0s 5ms/step - loss: 1.2180 - val_loss: 1.3717\n",
            "Epoch 82/100\n",
            "46/46 [==============================] - 0s 5ms/step - loss: 1.2841 - val_loss: 1.2977\n",
            "Epoch 83/100\n",
            "46/46 [==============================] - 0s 6ms/step - loss: 1.2268 - val_loss: 1.3210\n",
            "Epoch 84/100\n",
            "46/46 [==============================] - 0s 5ms/step - loss: 1.2289 - val_loss: 1.4152\n",
            "Epoch 85/100\n",
            "46/46 [==============================] - 0s 5ms/step - loss: 1.2554 - val_loss: 1.5507\n",
            "Epoch 86/100\n",
            "46/46 [==============================] - 0s 5ms/step - loss: 1.2517 - val_loss: 1.4896\n",
            "Epoch 87/100\n",
            "46/46 [==============================] - 0s 6ms/step - loss: 1.2376 - val_loss: 1.6038\n",
            "Epoch 88/100\n",
            "46/46 [==============================] - 0s 5ms/step - loss: 1.2699 - val_loss: 1.5656\n",
            "Epoch 89/100\n",
            "46/46 [==============================] - 0s 5ms/step - loss: 1.2444 - val_loss: 1.2652\n",
            "Epoch 90/100\n",
            "46/46 [==============================] - 0s 6ms/step - loss: 1.2096 - val_loss: 1.3085\n",
            "Epoch 91/100\n",
            "46/46 [==============================] - 0s 6ms/step - loss: 1.2362 - val_loss: 1.3764\n",
            "Epoch 92/100\n",
            "46/46 [==============================] - 0s 5ms/step - loss: 1.2098 - val_loss: 1.3042\n",
            "Epoch 93/100\n",
            "46/46 [==============================] - 0s 5ms/step - loss: 1.2680 - val_loss: 1.2816\n",
            "Epoch 94/100\n",
            "46/46 [==============================] - 0s 6ms/step - loss: 1.2100 - val_loss: 1.3353\n",
            "Epoch 95/100\n",
            "46/46 [==============================] - 0s 5ms/step - loss: 1.2400 - val_loss: 1.3001\n",
            "Epoch 96/100\n",
            "46/46 [==============================] - 0s 5ms/step - loss: 1.2385 - val_loss: 1.3929\n",
            "Epoch 97/100\n",
            "46/46 [==============================] - 0s 6ms/step - loss: 1.2359 - val_loss: 1.2950\n",
            "Epoch 98/100\n",
            "46/46 [==============================] - 0s 7ms/step - loss: 1.2635 - val_loss: 1.3097\n",
            "Epoch 99/100\n",
            "46/46 [==============================] - 0s 8ms/step - loss: 1.2512 - val_loss: 1.2899\n",
            "Epoch 100/100\n",
            "46/46 [==============================] - 0s 8ms/step - loss: 1.2288 - val_loss: 1.3828\n"
          ]
        }
      ],
      "source": [
        "model_3 = tf.keras.Sequential([\n",
        "    tf.keras.layers.Lambda(lambda x:tf.expand_dims(x,axis=1)),\n",
        "    tf.keras.layers.LSTM(64,activation = \"relu\"),\n",
        "    tf.keras.layers.Dense(128,activation = \"relu\"),\n",
        "    tf.keras.layers.Dense(1,activation = \"linear\")\n",
        "])\n",
        "\n",
        "model_3.compile(loss = \"mae\",\n",
        "                optimizer = \"adam\"\n",
        "                )\n",
        "\n",
        "his_3 = model_3.fit(train_window,train_horizon,\n",
        "                    epochs = 100,\n",
        "                    validation_data = [test_window,test_horizon],\n",
        "                    callbacks = tf.keras.callbacks.ModelCheckpoint(filepath = os.path.join(dir,\"model_3\"),\n",
        "                                                                   save_best_only = True\n",
        "                                                                   )\n",
        "\n",
        "                    )"
      ]
    },
    {
      "cell_type": "code",
      "execution_count": null,
      "metadata": {
        "colab": {
          "base_uri": "https://localhost:8080/"
        },
        "id": "y5X6SzX8gyi3",
        "outputId": "55e45383-d5b0-49fd-bb4d-251f5ca66698"
      },
      "outputs": [
        {
          "name": "stderr",
          "output_type": "stream",
          "text": [
            "WARNING:tensorflow:Layer lstm will not use cuDNN kernels since it doesn't meet the criteria. It will use a generic GPU kernel as fallback when running on GPU.\n"
          ]
        },
        {
          "name": "stdout",
          "output_type": "stream",
          "text": [
            "4/4 [==============================] - 0s 3ms/step\n"
          ]
        },
        {
          "data": {
            "text/plain": [
              "{'mae': 1.2622135, 'mse': 2.6895902, 'rmse': 1.639997, 'mase': 0.98016745}"
            ]
          },
          "execution_count": 42,
          "metadata": {},
          "output_type": "execute_result"
        }
      ],
      "source": [
        "load_model_3 = tf.keras.models.load_model(os.path.join(dir,\"model_3\"))\n",
        "model_3_result = pred_eval(load_model_3,test_window,test_horizon)\n",
        "model_3_result"
      ]
    },
    {
      "cell_type": "code",
      "execution_count": null,
      "metadata": {
        "colab": {
          "base_uri": "https://localhost:8080/"
        },
        "id": "zIm4DJCMhIKf",
        "outputId": "d73cd7f7-7e7e-4085-fca5-34ba00732c48"
      },
      "outputs": [
        {
          "name": "stderr",
          "output_type": "stream",
          "text": [
            "WARNING:tensorflow:Layer lstm_1 will not use cuDNN kernels since it doesn't meet the criteria. It will use a generic GPU kernel as fallback when running on GPU.\n",
            "WARNING:tensorflow:Layer lstm_2 will not use cuDNN kernels since it doesn't meet the criteria. It will use a generic GPU kernel as fallback when running on GPU.\n"
          ]
        },
        {
          "name": "stdout",
          "output_type": "stream",
          "text": [
            "Epoch 1/100\n",
            "46/46 [==============================] - 8s 125ms/step - loss: 11.9311 - val_loss: 2.2153\n",
            "Epoch 2/100\n",
            "46/46 [==============================] - 3s 61ms/step - loss: 1.6235 - val_loss: 1.7262\n",
            "Epoch 3/100\n",
            "46/46 [==============================] - 3s 60ms/step - loss: 1.4250 - val_loss: 1.5091\n",
            "Epoch 4/100\n",
            "46/46 [==============================] - 3s 71ms/step - loss: 1.3415 - val_loss: 1.4729\n",
            "Epoch 5/100\n",
            "46/46 [==============================] - 1s 12ms/step - loss: 1.3416 - val_loss: 1.5006\n",
            "Epoch 6/100\n",
            "46/46 [==============================] - 3s 76ms/step - loss: 1.3641 - val_loss: 1.4110\n",
            "Epoch 7/100\n",
            "46/46 [==============================] - 0s 8ms/step - loss: 1.2968 - val_loss: 1.4303\n",
            "Epoch 8/100\n",
            "46/46 [==============================] - 0s 8ms/step - loss: 1.3498 - val_loss: 1.4173\n",
            "Epoch 9/100\n",
            "46/46 [==============================] - 3s 60ms/step - loss: 1.2935 - val_loss: 1.3732\n",
            "Epoch 10/100\n",
            "46/46 [==============================] - 0s 8ms/step - loss: 1.3944 - val_loss: 1.4023\n",
            "Epoch 11/100\n",
            "46/46 [==============================] - 0s 8ms/step - loss: 1.3623 - val_loss: 1.4603\n",
            "Epoch 12/100\n",
            "46/46 [==============================] - 0s 8ms/step - loss: 1.2882 - val_loss: 1.4067\n",
            "Epoch 13/100\n",
            "46/46 [==============================] - 0s 9ms/step - loss: 1.2769 - val_loss: 1.4296\n",
            "Epoch 14/100\n",
            "46/46 [==============================] - 3s 71ms/step - loss: 1.2777 - val_loss: 1.3415\n",
            "Epoch 15/100\n",
            "46/46 [==============================] - 4s 79ms/step - loss: 1.2926 - val_loss: 1.3370\n",
            "Epoch 16/100\n",
            "46/46 [==============================] - 0s 7ms/step - loss: 1.2829 - val_loss: 1.4020\n",
            "Epoch 17/100\n",
            "46/46 [==============================] - 3s 60ms/step - loss: 1.2334 - val_loss: 1.3307\n",
            "Epoch 18/100\n",
            "46/46 [==============================] - 0s 7ms/step - loss: 1.3251 - val_loss: 1.4146\n",
            "Epoch 19/100\n",
            "46/46 [==============================] - 0s 7ms/step - loss: 1.3167 - val_loss: 1.5459\n",
            "Epoch 20/100\n",
            "46/46 [==============================] - 0s 8ms/step - loss: 1.2451 - val_loss: 1.3470\n",
            "Epoch 21/100\n",
            "46/46 [==============================] - 0s 8ms/step - loss: 1.2852 - val_loss: 1.3764\n",
            "Epoch 22/100\n",
            "46/46 [==============================] - 0s 8ms/step - loss: 1.2641 - val_loss: 1.3554\n",
            "Epoch 23/100\n",
            "46/46 [==============================] - 0s 8ms/step - loss: 1.3071 - val_loss: 1.3371\n",
            "Epoch 24/100\n",
            "46/46 [==============================] - 0s 8ms/step - loss: 1.2856 - val_loss: 1.4425\n",
            "Epoch 25/100\n",
            "46/46 [==============================] - 0s 8ms/step - loss: 1.2609 - val_loss: 1.3357\n",
            "Epoch 26/100\n",
            "46/46 [==============================] - 3s 72ms/step - loss: 1.2539 - val_loss: 1.3128\n",
            "Epoch 27/100\n",
            "46/46 [==============================] - 0s 8ms/step - loss: 1.2350 - val_loss: 1.3700\n",
            "Epoch 28/100\n",
            "46/46 [==============================] - 1s 14ms/step - loss: 1.3175 - val_loss: 1.3936\n",
            "Epoch 29/100\n",
            "46/46 [==============================] - 1s 13ms/step - loss: 1.2536 - val_loss: 1.4096\n",
            "Epoch 30/100\n",
            "46/46 [==============================] - 1s 15ms/step - loss: 1.3406 - val_loss: 1.4116\n",
            "Epoch 31/100\n",
            "46/46 [==============================] - 1s 14ms/step - loss: 1.2469 - val_loss: 1.3580\n",
            "Epoch 32/100\n",
            "46/46 [==============================] - 0s 8ms/step - loss: 1.2781 - val_loss: 1.3377\n",
            "Epoch 33/100\n",
            "46/46 [==============================] - 0s 7ms/step - loss: 1.3782 - val_loss: 1.3446\n",
            "Epoch 34/100\n",
            "46/46 [==============================] - 0s 8ms/step - loss: 1.2698 - val_loss: 1.3728\n",
            "Epoch 35/100\n",
            "46/46 [==============================] - 0s 7ms/step - loss: 1.2745 - val_loss: 1.4661\n",
            "Epoch 36/100\n",
            "46/46 [==============================] - 0s 8ms/step - loss: 1.3511 - val_loss: 1.3511\n",
            "Epoch 37/100\n",
            "46/46 [==============================] - 3s 62ms/step - loss: 1.2518 - val_loss: 1.3095\n",
            "Epoch 38/100\n",
            "46/46 [==============================] - 0s 7ms/step - loss: 1.2733 - val_loss: 1.3516\n",
            "Epoch 39/100\n",
            "46/46 [==============================] - 0s 8ms/step - loss: 1.2370 - val_loss: 1.3474\n",
            "Epoch 40/100\n",
            "46/46 [==============================] - 3s 61ms/step - loss: 1.2594 - val_loss: 1.2885\n",
            "Epoch 41/100\n",
            "46/46 [==============================] - 0s 8ms/step - loss: 1.2227 - val_loss: 1.3083\n",
            "Epoch 42/100\n",
            "46/46 [==============================] - 0s 8ms/step - loss: 1.2212 - val_loss: 1.4470\n",
            "Epoch 43/100\n",
            "46/46 [==============================] - 0s 7ms/step - loss: 1.2566 - val_loss: 1.3320\n",
            "Epoch 44/100\n",
            "46/46 [==============================] - 0s 8ms/step - loss: 1.2347 - val_loss: 1.3020\n",
            "Epoch 45/100\n",
            "46/46 [==============================] - 0s 8ms/step - loss: 1.2471 - val_loss: 1.3606\n",
            "Epoch 46/100\n",
            "46/46 [==============================] - 1s 11ms/step - loss: 1.2487 - val_loss: 1.3234\n",
            "Epoch 47/100\n",
            "46/46 [==============================] - 1s 13ms/step - loss: 1.2189 - val_loss: 1.3120\n",
            "Epoch 48/100\n",
            "46/46 [==============================] - 1s 13ms/step - loss: 1.2930 - val_loss: 1.5410\n",
            "Epoch 49/100\n",
            "46/46 [==============================] - 1s 14ms/step - loss: 1.2547 - val_loss: 1.3886\n",
            "Epoch 50/100\n",
            "46/46 [==============================] - 1s 11ms/step - loss: 1.2635 - val_loss: 1.4713\n",
            "Epoch 51/100\n",
            "46/46 [==============================] - 0s 7ms/step - loss: 1.2775 - val_loss: 1.4299\n",
            "Epoch 52/100\n",
            "46/46 [==============================] - 0s 8ms/step - loss: 1.2533 - val_loss: 1.3798\n",
            "Epoch 53/100\n",
            "46/46 [==============================] - 0s 8ms/step - loss: 1.3811 - val_loss: 1.3522\n",
            "Epoch 54/100\n",
            "46/46 [==============================] - 0s 7ms/step - loss: 1.2802 - val_loss: 1.3177\n",
            "Epoch 55/100\n",
            "46/46 [==============================] - 0s 8ms/step - loss: 1.2547 - val_loss: 1.3578\n",
            "Epoch 56/100\n",
            "46/46 [==============================] - 0s 8ms/step - loss: 1.2371 - val_loss: 1.3852\n",
            "Epoch 57/100\n",
            "46/46 [==============================] - 0s 7ms/step - loss: 1.2458 - val_loss: 1.3942\n",
            "Epoch 58/100\n",
            "46/46 [==============================] - 0s 8ms/step - loss: 1.3242 - val_loss: 1.4556\n",
            "Epoch 59/100\n",
            "46/46 [==============================] - 0s 8ms/step - loss: 1.2469 - val_loss: 1.4178\n",
            "Epoch 60/100\n",
            "46/46 [==============================] - 0s 7ms/step - loss: 1.2237 - val_loss: 1.3832\n",
            "Epoch 61/100\n",
            "46/46 [==============================] - 0s 8ms/step - loss: 1.2483 - val_loss: 1.2911\n",
            "Epoch 62/100\n",
            "46/46 [==============================] - 0s 8ms/step - loss: 1.2417 - val_loss: 1.3181\n",
            "Epoch 63/100\n",
            "46/46 [==============================] - 0s 7ms/step - loss: 1.2365 - val_loss: 1.3126\n",
            "Epoch 64/100\n",
            "46/46 [==============================] - 3s 61ms/step - loss: 1.2303 - val_loss: 1.2881\n",
            "Epoch 65/100\n",
            "46/46 [==============================] - 0s 8ms/step - loss: 1.2694 - val_loss: 1.3341\n",
            "Epoch 66/100\n",
            "46/46 [==============================] - 0s 8ms/step - loss: 1.3138 - val_loss: 1.3710\n",
            "Epoch 67/100\n",
            "46/46 [==============================] - 0s 8ms/step - loss: 1.2436 - val_loss: 1.5472\n",
            "Epoch 68/100\n",
            "46/46 [==============================] - 0s 8ms/step - loss: 1.2869 - val_loss: 1.4820\n",
            "Epoch 69/100\n",
            "46/46 [==============================] - 0s 9ms/step - loss: 1.2185 - val_loss: 1.3068\n",
            "Epoch 70/100\n",
            "46/46 [==============================] - 0s 7ms/step - loss: 1.2497 - val_loss: 1.2954\n",
            "Epoch 71/100\n",
            "46/46 [==============================] - 0s 10ms/step - loss: 1.2491 - val_loss: 1.3290\n",
            "Epoch 72/100\n",
            "46/46 [==============================] - 1s 14ms/step - loss: 1.2290 - val_loss: 1.2882\n",
            "Epoch 73/100\n",
            "46/46 [==============================] - 1s 14ms/step - loss: 1.2146 - val_loss: 1.2959\n",
            "Epoch 74/100\n",
            "46/46 [==============================] - 1s 15ms/step - loss: 1.2191 - val_loss: 1.2917\n",
            "Epoch 75/100\n",
            "46/46 [==============================] - 1s 11ms/step - loss: 1.2221 - val_loss: 1.4332\n",
            "Epoch 76/100\n",
            "46/46 [==============================] - 0s 8ms/step - loss: 1.2533 - val_loss: 1.3556\n",
            "Epoch 77/100\n",
            "46/46 [==============================] - 0s 8ms/step - loss: 1.2387 - val_loss: 1.3336\n",
            "Epoch 78/100\n",
            "46/46 [==============================] - 0s 8ms/step - loss: 1.2218 - val_loss: 1.3375\n",
            "Epoch 79/100\n",
            "46/46 [==============================] - 0s 8ms/step - loss: 1.2343 - val_loss: 1.3189\n",
            "Epoch 80/100\n",
            "46/46 [==============================] - 0s 7ms/step - loss: 1.2505 - val_loss: 1.3093\n",
            "Epoch 81/100\n",
            "46/46 [==============================] - 0s 8ms/step - loss: 1.2753 - val_loss: 1.3022\n",
            "Epoch 82/100\n",
            "46/46 [==============================] - 0s 8ms/step - loss: 1.2684 - val_loss: 1.3957\n",
            "Epoch 83/100\n",
            "46/46 [==============================] - 0s 7ms/step - loss: 1.2593 - val_loss: 1.3748\n",
            "Epoch 84/100\n",
            "46/46 [==============================] - 3s 73ms/step - loss: 1.2597 - val_loss: 1.2867\n",
            "Epoch 85/100\n",
            "46/46 [==============================] - 0s 8ms/step - loss: 1.2478 - val_loss: 1.4478\n",
            "Epoch 86/100\n",
            "46/46 [==============================] - 0s 8ms/step - loss: 1.2902 - val_loss: 1.5108\n",
            "Epoch 87/100\n",
            "46/46 [==============================] - 0s 8ms/step - loss: 1.2909 - val_loss: 1.5019\n",
            "Epoch 88/100\n",
            "46/46 [==============================] - 0s 8ms/step - loss: 1.2879 - val_loss: 1.3742\n",
            "Epoch 89/100\n",
            "46/46 [==============================] - 0s 8ms/step - loss: 1.2365 - val_loss: 1.3812\n",
            "Epoch 90/100\n",
            "46/46 [==============================] - 0s 8ms/step - loss: 1.2643 - val_loss: 1.3084\n",
            "Epoch 91/100\n",
            "46/46 [==============================] - 0s 8ms/step - loss: 1.2288 - val_loss: 1.3068\n",
            "Epoch 92/100\n",
            "46/46 [==============================] - 0s 8ms/step - loss: 1.2625 - val_loss: 1.2870\n",
            "Epoch 93/100\n",
            "46/46 [==============================] - 0s 9ms/step - loss: 1.2314 - val_loss: 1.3143\n",
            "Epoch 94/100\n",
            "46/46 [==============================] - 0s 10ms/step - loss: 1.2386 - val_loss: 1.4736\n",
            "Epoch 95/100\n",
            "46/46 [==============================] - 1s 14ms/step - loss: 1.2119 - val_loss: 1.3641\n",
            "Epoch 96/100\n",
            "46/46 [==============================] - 1s 13ms/step - loss: 1.2817 - val_loss: 1.3018\n",
            "Epoch 97/100\n",
            "46/46 [==============================] - 1s 14ms/step - loss: 1.2241 - val_loss: 1.2894\n",
            "Epoch 98/100\n",
            "46/46 [==============================] - 1s 12ms/step - loss: 1.2251 - val_loss: 1.2940\n",
            "Epoch 99/100\n",
            "46/46 [==============================] - 0s 8ms/step - loss: 1.2921 - val_loss: 1.3980\n",
            "Epoch 100/100\n",
            "46/46 [==============================] - 0s 8ms/step - loss: 1.2225 - val_loss: 1.4266\n"
          ]
        }
      ],
      "source": [
        "model_4 = tf.keras.Sequential([\n",
        "    tf.keras.layers.Lambda(lambda x:tf.expand_dims(x,axis=1)),\n",
        "    tf.keras.layers.LSTM(64,return_sequences = True,activation = \"relu\"),\n",
        "    tf.keras.layers.LSTM(64,activation = \"relu\"),\n",
        "    tf.keras.layers.Dense(128,activation = \"relu\"),\n",
        "    tf.keras.layers.Dense(1,activation = \"linear\")\n",
        "])\n",
        "\n",
        "model_4.compile(loss = \"mae\",\n",
        "                optimizer = \"adam\"\n",
        "                )\n",
        "\n",
        "his_4 = model_4.fit(train_window,train_horizon,\n",
        "                    epochs = 100,\n",
        "                    validation_data = [test_window,test_horizon],\n",
        "                    callbacks = tf.keras.callbacks.ModelCheckpoint(filepath = os.path.join(dir,\"model_4\"),\n",
        "                                                                   save_best_only = True\n",
        "                                                                   )\n",
        "\n",
        "                    )"
      ]
    },
    {
      "cell_type": "code",
      "execution_count": null,
      "metadata": {
        "colab": {
          "base_uri": "https://localhost:8080/"
        },
        "id": "y2Mb4Iq6htaA",
        "outputId": "fa00389a-50ed-407f-ecfa-5ef5736ac6b8"
      },
      "outputs": [
        {
          "name": "stderr",
          "output_type": "stream",
          "text": [
            "WARNING:tensorflow:Layer lstm_1 will not use cuDNN kernels since it doesn't meet the criteria. It will use a generic GPU kernel as fallback when running on GPU.\n",
            "WARNING:tensorflow:Layer lstm_2 will not use cuDNN kernels since it doesn't meet the criteria. It will use a generic GPU kernel as fallback when running on GPU.\n"
          ]
        },
        {
          "name": "stdout",
          "output_type": "stream",
          "text": [
            "4/4 [==============================] - 0s 3ms/step\n"
          ]
        },
        {
          "data": {
            "text/plain": [
              "{'mae': 1.2866747, 'mse': 2.729809, 'rmse': 1.6522133, 'mase': 0.9991628}"
            ]
          },
          "execution_count": 44,
          "metadata": {},
          "output_type": "execute_result"
        }
      ],
      "source": [
        "load_model_4 = tf.keras.models.load_model(os.path.join(dir,\"model_4\"))\n",
        "model_4_result = pred_eval(load_model_4,test_window,test_horizon)\n",
        "model_4_result"
      ]
    },
    {
      "cell_type": "code",
      "execution_count": null,
      "metadata": {
        "colab": {
          "base_uri": "https://localhost:8080/",
          "height": 492
        },
        "id": "tkBwKK0NiMOP",
        "outputId": "2a8617ab-1eed-4fec-d6ac-7b1510f603e7"
      },
      "outputs": [
        {
          "data": {
            "text/plain": [
              "<matplotlib.legend.Legend at 0x7f50c40d4f10>"
            ]
          },
          "execution_count": 45,
          "metadata": {},
          "output_type": "execute_result"
        },
        {
          "data": {
            "image/png": "[encoded data removed]",
            "text/plain": [
              "<Figure size 640x480 with 1 Axes>"
            ]
          },
          "metadata": {},
          "output_type": "display_data"
        }
      ],
      "source": [
        "pd.DataFrame({\n",
        "    \"model_0\":model_0_result[\"mae\"],\n",
        "    \"model_1\":model_1_result[\"mae\"],\n",
        "    \"model_2\":model_2_result[\"mae\"],\n",
        "    \"model_3\":model_3_result[\"mae\"],\n",
        "    \"model_4\":model_4_result[\"mae\"],\n",
        "},index = [\"mae\"]).T.sort_values(by = [\"mae\"],ascending = False).plot(kind = \"bar\").legend(bbox_to_anchor=[1,1])"
      ]
    },
    {
      "cell_type": "code",
      "execution_count": null,
      "metadata": {
        "id": "HHDp6lj3jknZ"
      },
      "outputs": [],
      "source": [
        "class N_Beats_Block(tf.keras.layers.Layer):\n",
        "  def __init__(self,window,horizon,theta,num_layer):\n",
        "    super().__init__()\n",
        "    self.window = window,\n",
        "    self.horizon = horizon\n",
        "    self.theta = theta,\n",
        "    self.num_layer = num_layer\n",
        "    self.hidden = [tf.keras.layers.Dense(128,activation=\"relu\") for _ in range(num_layer)]\n",
        "    self.theta = tf.keras.layers.Dense(theta,activation = \"linear\")\n",
        "\n",
        "  def call(self,input):\n",
        "    x = input\n",
        "    for layer in self.hidden:\n",
        "      x = layer(x)\n",
        "    output = self.theta(x)\n",
        "    return output[:,:-self.horizon],output[:,-self.horizon]"
      ]
    },
    {
      "cell_type": "code",
      "execution_count": null,
      "metadata": {
        "colab": {
          "base_uri": "https://localhost:8080/"
        },
        "id": "QQGkYinLm_Po",
        "outputId": "2e70dbcf-2a9b-4bce-e42e-116797f059fd"
      },
      "outputs": [
        {
          "data": {
            "text/plain": [
              "<tf.Tensor: shape=(1, 7), dtype=int32, numpy=array([[0, 1, 2, 3, 4, 5, 6]], dtype=int32)>"
            ]
          },
          "execution_count": 47,
          "metadata": {},
          "output_type": "execute_result"
        }
      ],
      "source": [
        "tf.expand_dims(tf.range(7),axis=0)"
      ]
    },
    {
      "cell_type": "code",
      "execution_count": null,
      "metadata": {
        "colab": {
          "base_uri": "https://localhost:8080/"
        },
        "id": "unhdA-RnntvC",
        "outputId": "c597b5be-827f-46fc-d083-468633a32a36"
      },
      "outputs": [
        {
          "data": {
            "text/plain": [
              "(<tf.Tensor: shape=(1, 7), dtype=float32, numpy=\n",
              " array([[ 0.34434757,  0.46345028, -0.08243605, -0.24247079, -0.31365156,\n",
              "         -0.266988  ,  0.04710913]], dtype=float32)>,\n",
              " <tf.Tensor: shape=(1,), dtype=float32, numpy=array([0.27587986], dtype=float32)>)"
            ]
          },
          "execution_count": 48,
          "metadata": {},
          "output_type": "execute_result"
        }
      ],
      "source": [
        "n_beats_block_demo = N_Beats_Block(window = 7,horizon=1,theta=8,num_layer=4)\n",
        "n_beats_block_demo(tf.expand_dims(tf.range(8),axis=0))"
      ]
    },
    {
      "cell_type": "code",
      "execution_count": null,
      "metadata": {
        "colab": {
          "base_uri": "https://localhost:8080/"
        },
        "id": "vTJyGjF1og3K",
        "outputId": "88778ccd-7e75-4f5f-eb5f-3557fd19731d"
      },
      "outputs": [
        {
          "name": "stdout",
          "output_type": "stream",
          "text": [
            "Epoch 1/1000\n",
            "46/46 [==============================] - 49s 121ms/step - loss: 6.1154 - val_loss: 1.3989 - lr: 0.0010\n",
            "Epoch 2/1000\n",
            "46/46 [==============================] - 3s 61ms/step - loss: 1.5384 - val_loss: 1.4952 - lr: 0.0010\n",
            "Epoch 3/1000\n",
            "46/46 [==============================] - 2s 45ms/step - loss: 1.5146 - val_loss: 1.8437 - lr: 0.0010\n",
            "Epoch 4/1000\n",
            "46/46 [==============================] - 2s 50ms/step - loss: 1.4328 - val_loss: 1.5145 - lr: 0.0010\n",
            "Epoch 5/1000\n",
            "46/46 [==============================] - 3s 61ms/step - loss: 1.3770 - val_loss: 1.5056 - lr: 0.0010\n",
            "Epoch 6/1000\n",
            "46/46 [==============================] - 2s 45ms/step - loss: 1.4210 - val_loss: 1.7646 - lr: 0.0010\n",
            "Epoch 7/1000\n",
            "46/46 [==============================] - 2s 46ms/step - loss: 1.4606 - val_loss: 1.4815 - lr: 0.0010\n",
            "Epoch 8/1000\n",
            "46/46 [==============================] - 2s 45ms/step - loss: 1.2850 - val_loss: 1.6561 - lr: 0.0010\n",
            "Epoch 9/1000\n",
            "46/46 [==============================] - 2s 47ms/step - loss: 1.3819 - val_loss: 1.3703 - lr: 0.0010\n",
            "Epoch 10/1000\n",
            "46/46 [==============================] - 3s 69ms/step - loss: 1.2894 - val_loss: 1.3077 - lr: 0.0010\n",
            "Epoch 11/1000\n",
            "46/46 [==============================] - 2s 46ms/step - loss: 1.2426 - val_loss: 1.4722 - lr: 0.0010\n",
            "Epoch 12/1000\n",
            "46/46 [==============================] - 2s 47ms/step - loss: 1.2657 - val_loss: 1.3783 - lr: 0.0010\n",
            "Epoch 13/1000\n",
            "46/46 [==============================] - 2s 46ms/step - loss: 1.3219 - val_loss: 1.4686 - lr: 0.0010\n",
            "Epoch 14/1000\n",
            "46/46 [==============================] - 2s 45ms/step - loss: 1.3087 - val_loss: 1.7361 - lr: 0.0010\n",
            "Epoch 15/1000\n",
            "46/46 [==============================] - 2s 54ms/step - loss: 1.4150 - val_loss: 1.3859 - lr: 0.0010\n",
            "Epoch 16/1000\n",
            "46/46 [==============================] - 3s 60ms/step - loss: 1.2938 - val_loss: 1.4887 - lr: 0.0010\n",
            "Epoch 17/1000\n",
            "46/46 [==============================] - 2s 47ms/step - loss: 1.2678 - val_loss: 1.3611 - lr: 0.0010\n",
            "Epoch 18/1000\n",
            "46/46 [==============================] - 2s 46ms/step - loss: 1.3111 - val_loss: 1.3056 - lr: 0.0010\n",
            "Epoch 19/1000\n",
            "46/46 [==============================] - 2s 53ms/step - loss: 1.2629 - val_loss: 1.4151 - lr: 0.0010\n",
            "Epoch 20/1000\n",
            "46/46 [==============================] - 3s 73ms/step - loss: 1.3075 - val_loss: 1.4612 - lr: 0.0010\n",
            "Epoch 21/1000\n",
            "46/46 [==============================] - 3s 57ms/step - loss: 1.2691 - val_loss: 1.3384 - lr: 0.0010\n",
            "Epoch 22/1000\n",
            "46/46 [==============================] - 2s 46ms/step - loss: 1.2746 - val_loss: 1.3813 - lr: 0.0010\n",
            "Epoch 23/1000\n",
            "46/46 [==============================] - 2s 44ms/step - loss: 1.3387 - val_loss: 1.4533 - lr: 0.0010\n",
            "Epoch 24/1000\n",
            "46/46 [==============================] - 2s 46ms/step - loss: 1.2531 - val_loss: 1.3362 - lr: 0.0010\n",
            "Epoch 25/1000\n",
            "46/46 [==============================] - 2s 46ms/step - loss: 1.1983 - val_loss: 1.4463 - lr: 0.0010\n",
            "Epoch 26/1000\n",
            "46/46 [==============================] - 3s 66ms/step - loss: 1.2647 - val_loss: 1.3693 - lr: 0.0010\n",
            "Epoch 27/1000\n",
            "46/46 [==============================] - 2s 47ms/step - loss: 1.3842 - val_loss: 1.3887 - lr: 0.0010\n",
            "Epoch 28/1000\n",
            "46/46 [==============================] - 2s 45ms/step - loss: 1.2558 - val_loss: 1.3375 - lr: 0.0010\n",
            "Epoch 29/1000\n",
            "46/46 [==============================] - 2s 51ms/step - loss: 1.2302 - val_loss: 1.3222 - lr: 0.0010\n",
            "Epoch 30/1000\n",
            "46/46 [==============================] - 2s 50ms/step - loss: 1.1792 - val_loss: 1.3330 - lr: 0.0010\n",
            "Epoch 31/1000\n",
            "46/46 [==============================] - 3s 67ms/step - loss: 1.1999 - val_loss: 1.3366 - lr: 0.0010\n",
            "Epoch 32/1000\n",
            "46/46 [==============================] - 2s 50ms/step - loss: 1.2348 - val_loss: 1.3450 - lr: 0.0010\n",
            "Epoch 33/1000\n",
            "46/46 [==============================] - 2s 50ms/step - loss: 1.2385 - val_loss: 1.3803 - lr: 0.0010\n",
            "Epoch 34/1000\n",
            "46/46 [==============================] - 2s 52ms/step - loss: 1.2109 - val_loss: 1.3660 - lr: 0.0010\n",
            "Epoch 35/1000\n",
            "46/46 [==============================] - 2s 49ms/step - loss: 1.2267 - val_loss: 1.2838 - lr: 0.0010\n",
            "Epoch 36/1000\n",
            "46/46 [==============================] - 3s 67ms/step - loss: 1.2216 - val_loss: 1.4882 - lr: 0.0010\n",
            "Epoch 37/1000\n",
            "46/46 [==============================] - 2s 43ms/step - loss: 1.2961 - val_loss: 1.3034 - lr: 0.0010\n",
            "Epoch 38/1000\n",
            "46/46 [==============================] - 2s 48ms/step - loss: 1.3200 - val_loss: 1.4850 - lr: 0.0010\n",
            "Epoch 39/1000\n",
            "46/46 [==============================] - 2s 50ms/step - loss: 1.2201 - val_loss: 1.4036 - lr: 0.0010\n",
            "Epoch 40/1000\n",
            "46/46 [==============================] - 2s 50ms/step - loss: 1.2144 - val_loss: 1.4286 - lr: 0.0010\n",
            "Epoch 41/1000\n",
            "46/46 [==============================] - 3s 65ms/step - loss: 1.1737 - val_loss: 1.3853 - lr: 0.0010\n",
            "Epoch 42/1000\n",
            "46/46 [==============================] - 2s 47ms/step - loss: 1.1841 - val_loss: 1.3818 - lr: 0.0010\n",
            "Epoch 43/1000\n",
            "46/46 [==============================] - 2s 48ms/step - loss: 1.1586 - val_loss: 1.4296 - lr: 0.0010\n",
            "Epoch 44/1000\n",
            "46/46 [==============================] - 2s 49ms/step - loss: 1.1901 - val_loss: 1.3634 - lr: 0.0010\n",
            "Epoch 45/1000\n",
            "46/46 [==============================] - 2s 50ms/step - loss: 1.1505 - val_loss: 1.4270 - lr: 0.0010\n",
            "Epoch 46/1000\n",
            "46/46 [==============================] - 3s 60ms/step - loss: 1.1688 - val_loss: 1.3726 - lr: 0.0010\n",
            "Epoch 47/1000\n",
            "46/46 [==============================] - 3s 55ms/step - loss: 1.2244 - val_loss: 1.4090 - lr: 0.0010\n",
            "Epoch 48/1000\n",
            "46/46 [==============================] - 2s 48ms/step - loss: 1.2182 - val_loss: 1.4401 - lr: 0.0010\n",
            "Epoch 49/1000\n",
            "46/46 [==============================] - 2s 51ms/step - loss: 1.1463 - val_loss: 1.4023 - lr: 0.0010\n",
            "Epoch 50/1000\n",
            "46/46 [==============================] - 2s 48ms/step - loss: 1.1499 - val_loss: 1.5778 - lr: 0.0010\n",
            "Epoch 51/1000\n",
            "46/46 [==============================] - 3s 55ms/step - loss: 1.2044 - val_loss: 1.4402 - lr: 0.0010\n",
            "Epoch 52/1000\n",
            "46/46 [==============================] - 3s 61ms/step - loss: 1.1964 - val_loss: 1.4153 - lr: 0.0010\n",
            "Epoch 53/1000\n",
            "46/46 [==============================] - 2s 50ms/step - loss: 1.1770 - val_loss: 1.3819 - lr: 0.0010\n",
            "Epoch 54/1000\n",
            "46/46 [==============================] - 2s 48ms/step - loss: 1.2250 - val_loss: 1.4062 - lr: 0.0010\n",
            "Epoch 55/1000\n",
            "46/46 [==============================] - 2s 47ms/step - loss: 1.1618 - val_loss: 1.3597 - lr: 0.0010\n",
            "Epoch 56/1000\n",
            "46/46 [==============================] - 3s 56ms/step - loss: 1.2111 - val_loss: 1.3316 - lr: 0.0010\n",
            "Epoch 57/1000\n",
            "46/46 [==============================] - 3s 65ms/step - loss: 1.1508 - val_loss: 1.4089 - lr: 0.0010\n",
            "Epoch 58/1000\n",
            "46/46 [==============================] - 2s 47ms/step - loss: 1.2107 - val_loss: 1.3424 - lr: 0.0010\n",
            "Epoch 59/1000\n",
            "46/46 [==============================] - 2s 51ms/step - loss: 1.1649 - val_loss: 1.3288 - lr: 0.0010\n",
            "Epoch 60/1000\n",
            "46/46 [==============================] - 2s 50ms/step - loss: 1.1527 - val_loss: 1.7960 - lr: 0.0010\n",
            "Epoch 61/1000\n",
            "46/46 [==============================] - 2s 50ms/step - loss: 1.2042 - val_loss: 1.3953 - lr: 0.0010\n",
            "Epoch 62/1000\n",
            "46/46 [==============================] - 3s 68ms/step - loss: 1.2015 - val_loss: 1.3751 - lr: 0.0010\n",
            "Epoch 63/1000\n",
            "46/46 [==============================] - 2s 48ms/step - loss: 1.1817 - val_loss: 1.3844 - lr: 0.0010\n",
            "Epoch 64/1000\n",
            "46/46 [==============================] - 2s 48ms/step - loss: 1.1087 - val_loss: 1.4532 - lr: 0.0010\n",
            "Epoch 65/1000\n",
            "46/46 [==============================] - 2s 52ms/step - loss: 1.1459 - val_loss: 1.3868 - lr: 0.0010\n",
            "Epoch 66/1000\n",
            "46/46 [==============================] - 2s 49ms/step - loss: 1.1480 - val_loss: 1.4557 - lr: 0.0010\n",
            "Epoch 67/1000\n",
            "46/46 [==============================] - 3s 71ms/step - loss: 1.1475 - val_loss: 1.4295 - lr: 0.0010\n",
            "Epoch 68/1000\n",
            "46/46 [==============================] - 2s 50ms/step - loss: 1.0955 - val_loss: 1.4673 - lr: 0.0010\n",
            "Epoch 69/1000\n",
            "46/46 [==============================] - 2s 49ms/step - loss: 1.1001 - val_loss: 1.3537 - lr: 0.0010\n",
            "Epoch 70/1000\n",
            "46/46 [==============================] - 2s 49ms/step - loss: 1.1530 - val_loss: 1.4770 - lr: 0.0010\n",
            "Epoch 71/1000\n",
            "46/46 [==============================] - 2s 49ms/step - loss: 1.1454 - val_loss: 1.4232 - lr: 0.0010\n",
            "Epoch 72/1000\n",
            "46/46 [==============================] - 3s 72ms/step - loss: 1.1406 - val_loss: 1.3657 - lr: 0.0010\n",
            "Epoch 73/1000\n",
            "46/46 [==============================] - 2s 47ms/step - loss: 1.1390 - val_loss: 1.4289 - lr: 0.0010\n",
            "Epoch 74/1000\n",
            "46/46 [==============================] - 2s 48ms/step - loss: 1.1384 - val_loss: 1.4114 - lr: 0.0010\n",
            "Epoch 75/1000\n",
            "46/46 [==============================] - 2s 49ms/step - loss: 1.1101 - val_loss: 1.4273 - lr: 0.0010\n",
            "Epoch 76/1000\n",
            "46/46 [==============================] - 2s 49ms/step - loss: 1.1803 - val_loss: 1.4054 - lr: 0.0010\n",
            "Epoch 77/1000\n",
            "46/46 [==============================] - 3s 69ms/step - loss: 1.1263 - val_loss: 1.5369 - lr: 0.0010\n",
            "Epoch 78/1000\n",
            "46/46 [==============================] - 2s 50ms/step - loss: 1.1214 - val_loss: 1.3959 - lr: 0.0010\n",
            "Epoch 79/1000\n",
            "46/46 [==============================] - 2s 49ms/step - loss: 1.1240 - val_loss: 1.3759 - lr: 0.0010\n",
            "Epoch 80/1000\n",
            "46/46 [==============================] - 2s 49ms/step - loss: 1.0593 - val_loss: 1.4602 - lr: 0.0010\n",
            "Epoch 81/1000\n",
            "46/46 [==============================] - 2s 48ms/step - loss: 1.0824 - val_loss: 1.3428 - lr: 0.0010\n",
            "Epoch 82/1000\n",
            "46/46 [==============================] - 3s 68ms/step - loss: 1.0929 - val_loss: 1.4422 - lr: 0.0010\n",
            "Epoch 83/1000\n",
            "46/46 [==============================] - 2s 52ms/step - loss: 1.0821 - val_loss: 1.4973 - lr: 0.0010\n",
            "Epoch 84/1000\n",
            "46/46 [==============================] - 2s 51ms/step - loss: 1.0386 - val_loss: 1.4283 - lr: 0.0010\n",
            "Epoch 85/1000\n",
            "46/46 [==============================] - 2s 49ms/step - loss: 1.0690 - val_loss: 1.3235 - lr: 0.0010\n",
            "Epoch 86/1000\n",
            "46/46 [==============================] - 2s 48ms/step - loss: 1.1162 - val_loss: 1.4803 - lr: 0.0010\n",
            "Epoch 87/1000\n",
            "46/46 [==============================] - 3s 60ms/step - loss: 1.0556 - val_loss: 1.4800 - lr: 0.0010\n",
            "Epoch 88/1000\n",
            "46/46 [==============================] - 3s 54ms/step - loss: 1.0414 - val_loss: 1.4313 - lr: 0.0010\n",
            "Epoch 89/1000\n",
            "46/46 [==============================] - 2s 44ms/step - loss: 1.0588 - val_loss: 1.4488 - lr: 0.0010\n",
            "Epoch 90/1000\n",
            "46/46 [==============================] - 2s 48ms/step - loss: 1.0664 - val_loss: 1.4365 - lr: 0.0010\n",
            "Epoch 91/1000\n",
            "46/46 [==============================] - 2s 50ms/step - loss: 1.0497 - val_loss: 1.5460 - lr: 0.0010\n",
            "Epoch 92/1000\n",
            "46/46 [==============================] - 2s 52ms/step - loss: 1.0885 - val_loss: 1.6164 - lr: 0.0010\n",
            "Epoch 93/1000\n",
            "46/46 [==============================] - 3s 61ms/step - loss: 1.1159 - val_loss: 1.5382 - lr: 0.0010\n",
            "Epoch 94/1000\n",
            "46/46 [==============================] - 2s 49ms/step - loss: 1.0618 - val_loss: 1.4046 - lr: 0.0010\n",
            "Epoch 95/1000\n",
            "46/46 [==============================] - 2s 50ms/step - loss: 1.0316 - val_loss: 1.3894 - lr: 0.0010\n",
            "Epoch 96/1000\n",
            "46/46 [==============================] - 2s 45ms/step - loss: 1.0140 - val_loss: 1.4475 - lr: 0.0010\n",
            "Epoch 97/1000\n",
            "46/46 [==============================] - 2s 48ms/step - loss: 1.0859 - val_loss: 1.4257 - lr: 0.0010\n",
            "Epoch 98/1000\n",
            "46/46 [==============================] - 3s 67ms/step - loss: 1.0444 - val_loss: 1.4105 - lr: 0.0010\n",
            "Epoch 99/1000\n",
            "46/46 [==============================] - 2s 49ms/step - loss: 1.1090 - val_loss: 1.5036 - lr: 0.0010\n",
            "Epoch 100/1000\n",
            "46/46 [==============================] - 2s 47ms/step - loss: 1.0901 - val_loss: 1.4741 - lr: 0.0010\n",
            "Epoch 101/1000\n",
            "46/46 [==============================] - 2s 45ms/step - loss: 1.0273 - val_loss: 1.4497 - lr: 0.0010\n",
            "Epoch 102/1000\n",
            "46/46 [==============================] - 2s 43ms/step - loss: 1.0042 - val_loss: 1.4483 - lr: 0.0010\n",
            "Epoch 103/1000\n",
            "46/46 [==============================] - 3s 63ms/step - loss: 1.0331 - val_loss: 1.4881 - lr: 0.0010\n",
            "Epoch 104/1000\n",
            "46/46 [==============================] - 2s 47ms/step - loss: 0.9986 - val_loss: 1.4215 - lr: 0.0010\n",
            "Epoch 105/1000\n",
            "46/46 [==============================] - 2s 44ms/step - loss: 1.0100 - val_loss: 1.4833 - lr: 0.0010\n",
            "Epoch 106/1000\n",
            "46/46 [==============================] - 2s 47ms/step - loss: 1.0331 - val_loss: 1.5666 - lr: 0.0010\n",
            "Epoch 107/1000\n",
            "46/46 [==============================] - 2s 46ms/step - loss: 1.0235 - val_loss: 1.4236 - lr: 0.0010\n",
            "Epoch 108/1000\n",
            "46/46 [==============================] - 2s 49ms/step - loss: 0.9814 - val_loss: 1.4897 - lr: 0.0010\n",
            "Epoch 109/1000\n",
            "46/46 [==============================] - 3s 64ms/step - loss: 1.0106 - val_loss: 1.4944 - lr: 0.0010\n",
            "Epoch 110/1000\n",
            "46/46 [==============================] - 2s 51ms/step - loss: 1.0074 - val_loss: 1.5005 - lr: 0.0010\n",
            "Epoch 111/1000\n",
            "46/46 [==============================] - 2s 46ms/step - loss: 0.9726 - val_loss: 1.5532 - lr: 0.0010\n",
            "Epoch 112/1000\n",
            "46/46 [==============================] - 2s 45ms/step - loss: 0.9655 - val_loss: 1.6174 - lr: 0.0010\n",
            "Epoch 113/1000\n",
            "46/46 [==============================] - 2s 51ms/step - loss: 0.9725 - val_loss: 1.4053 - lr: 0.0010\n",
            "Epoch 114/1000\n",
            "46/46 [==============================] - 3s 67ms/step - loss: 0.9444 - val_loss: 1.5975 - lr: 0.0010\n",
            "Epoch 115/1000\n",
            "46/46 [==============================] - 2s 49ms/step - loss: 0.9512 - val_loss: 1.3984 - lr: 0.0010\n",
            "Epoch 116/1000\n",
            "46/46 [==============================] - 2s 51ms/step - loss: 1.0542 - val_loss: 1.4484 - lr: 0.0010\n",
            "Epoch 117/1000\n",
            "46/46 [==============================] - 2s 50ms/step - loss: 1.0593 - val_loss: 1.4995 - lr: 0.0010\n",
            "Epoch 118/1000\n",
            "46/46 [==============================] - 2s 47ms/step - loss: 0.9646 - val_loss: 1.4663 - lr: 0.0010\n",
            "Epoch 119/1000\n",
            "46/46 [==============================] - 3s 67ms/step - loss: 0.9122 - val_loss: 1.4438 - lr: 0.0010\n",
            "Epoch 120/1000\n",
            "46/46 [==============================] - 2s 49ms/step - loss: 0.8863 - val_loss: 1.5932 - lr: 0.0010\n",
            "Epoch 121/1000\n",
            "46/46 [==============================] - 2s 51ms/step - loss: 1.0313 - val_loss: 1.5615 - lr: 0.0010\n",
            "Epoch 122/1000\n",
            "46/46 [==============================] - 2s 46ms/step - loss: 0.9229 - val_loss: 1.4556 - lr: 0.0010\n",
            "Epoch 123/1000\n",
            "46/46 [==============================] - 2s 49ms/step - loss: 0.8946 - val_loss: 1.5946 - lr: 0.0010\n",
            "Epoch 124/1000\n",
            "46/46 [==============================] - 3s 69ms/step - loss: 0.9142 - val_loss: 1.4666 - lr: 0.0010\n",
            "Epoch 125/1000\n",
            "46/46 [==============================] - 2s 45ms/step - loss: 0.8715 - val_loss: 1.5167 - lr: 0.0010\n",
            "Epoch 126/1000\n",
            "46/46 [==============================] - 2s 49ms/step - loss: 0.8561 - val_loss: 1.5930 - lr: 0.0010\n",
            "Epoch 127/1000\n",
            "46/46 [==============================] - 2s 47ms/step - loss: 0.8821 - val_loss: 1.6133 - lr: 0.0010\n",
            "Epoch 128/1000\n",
            "46/46 [==============================] - 2s 48ms/step - loss: 0.9808 - val_loss: 1.5165 - lr: 0.0010\n",
            "Epoch 129/1000\n",
            "46/46 [==============================] - 3s 60ms/step - loss: 0.9131 - val_loss: 1.5573 - lr: 0.0010\n",
            "Epoch 130/1000\n",
            "46/46 [==============================] - 3s 57ms/step - loss: 0.8676 - val_loss: 1.4598 - lr: 0.0010\n",
            "Epoch 131/1000\n",
            "46/46 [==============================] - 2s 46ms/step - loss: 0.8582 - val_loss: 1.6392 - lr: 0.0010\n",
            "Epoch 132/1000\n",
            "46/46 [==============================] - 2s 50ms/step - loss: 0.8369 - val_loss: 1.5684 - lr: 0.0010\n",
            "Epoch 133/1000\n",
            "46/46 [==============================] - 2s 48ms/step - loss: 0.8686 - val_loss: 1.5009 - lr: 0.0010\n",
            "Epoch 134/1000\n",
            "46/46 [==============================] - 3s 56ms/step - loss: 0.8712 - val_loss: 1.5162 - lr: 0.0010\n",
            "Epoch 135/1000\n",
            "46/46 [==============================] - 3s 61ms/step - loss: 0.8356 - val_loss: 1.6007 - lr: 0.0010\n",
            "Epoch 136/1000\n",
            "46/46 [==============================] - 2s 51ms/step - loss: 0.7192 - val_loss: 1.5699 - lr: 1.0000e-04\n",
            "Epoch 137/1000\n",
            "46/46 [==============================] - 2s 50ms/step - loss: 0.6377 - val_loss: 1.5601 - lr: 1.0000e-04\n",
            "Epoch 138/1000\n",
            "46/46 [==============================] - 2s 50ms/step - loss: 0.6120 - val_loss: 1.5651 - lr: 1.0000e-04\n",
            "Epoch 139/1000\n",
            "46/46 [==============================] - 2s 52ms/step - loss: 0.5816 - val_loss: 1.5666 - lr: 1.0000e-04\n",
            "Epoch 140/1000\n",
            "46/46 [==============================] - 3s 61ms/step - loss: 0.5598 - val_loss: 1.5670 - lr: 1.0000e-04\n",
            "Epoch 141/1000\n",
            "46/46 [==============================] - 2s 47ms/step - loss: 0.5381 - val_loss: 1.5665 - lr: 1.0000e-04\n",
            "Epoch 142/1000\n",
            "46/46 [==============================] - 2s 47ms/step - loss: 0.5281 - val_loss: 1.5764 - lr: 1.0000e-04\n",
            "Epoch 143/1000\n",
            "46/46 [==============================] - 2s 47ms/step - loss: 0.5216 - val_loss: 1.5611 - lr: 1.0000e-04\n",
            "Epoch 144/1000\n",
            "46/46 [==============================] - 2s 48ms/step - loss: 0.5065 - val_loss: 1.5589 - lr: 1.0000e-04\n",
            "Epoch 145/1000\n",
            "46/46 [==============================] - 3s 70ms/step - loss: 0.5019 - val_loss: 1.5515 - lr: 1.0000e-04\n",
            "Epoch 146/1000\n",
            "46/46 [==============================] - 2s 49ms/step - loss: 0.4827 - val_loss: 1.5579 - lr: 1.0000e-04\n",
            "Epoch 147/1000\n",
            "46/46 [==============================] - 2s 47ms/step - loss: 0.4748 - val_loss: 1.5626 - lr: 1.0000e-04\n",
            "Epoch 148/1000\n",
            "46/46 [==============================] - 2s 49ms/step - loss: 0.4671 - val_loss: 1.5727 - lr: 1.0000e-04\n",
            "Epoch 149/1000\n",
            "46/46 [==============================] - 2s 48ms/step - loss: 0.4543 - val_loss: 1.5636 - lr: 1.0000e-04\n",
            "Epoch 150/1000\n",
            "46/46 [==============================] - 3s 63ms/step - loss: 0.4549 - val_loss: 1.5651 - lr: 1.0000e-04\n",
            "Epoch 151/1000\n",
            "46/46 [==============================] - 2s 51ms/step - loss: 0.4411 - val_loss: 1.5751 - lr: 1.0000e-04\n",
            "Epoch 152/1000\n",
            "46/46 [==============================] - 2s 49ms/step - loss: 0.4343 - val_loss: 1.5772 - lr: 1.0000e-04\n",
            "Epoch 153/1000\n",
            "46/46 [==============================] - 2s 48ms/step - loss: 0.4267 - val_loss: 1.5743 - lr: 1.0000e-04\n",
            "Epoch 154/1000\n",
            "46/46 [==============================] - 2s 49ms/step - loss: 0.4241 - val_loss: 1.5804 - lr: 1.0000e-04\n",
            "Epoch 155/1000\n",
            "46/46 [==============================] - 3s 63ms/step - loss: 0.4199 - val_loss: 1.5808 - lr: 1.0000e-04\n",
            "Epoch 156/1000\n",
            "46/46 [==============================] - 3s 55ms/step - loss: 0.4084 - val_loss: 1.5605 - lr: 1.0000e-04\n",
            "Epoch 157/1000\n",
            "46/46 [==============================] - 2s 49ms/step - loss: 0.4013 - val_loss: 1.5652 - lr: 1.0000e-04\n",
            "Epoch 158/1000\n",
            "46/46 [==============================] - 2s 49ms/step - loss: 0.3985 - val_loss: 1.5881 - lr: 1.0000e-04\n",
            "Epoch 159/1000\n",
            "46/46 [==============================] - 2s 49ms/step - loss: 0.3905 - val_loss: 1.5710 - lr: 1.0000e-04\n",
            "Epoch 160/1000\n",
            "46/46 [==============================] - 3s 61ms/step - loss: 0.3791 - val_loss: 1.5828 - lr: 1.0000e-04\n",
            "Epoch 161/1000\n",
            "46/46 [==============================] - 3s 56ms/step - loss: 0.3771 - val_loss: 1.5767 - lr: 1.0000e-04\n",
            "Epoch 162/1000\n",
            "46/46 [==============================] - 2s 51ms/step - loss: 0.3718 - val_loss: 1.5812 - lr: 1.0000e-04\n",
            "Epoch 163/1000\n",
            "46/46 [==============================] - 2s 49ms/step - loss: 0.3687 - val_loss: 1.5824 - lr: 1.0000e-04\n",
            "Epoch 164/1000\n",
            "46/46 [==============================] - 2s 49ms/step - loss: 0.3666 - val_loss: 1.5736 - lr: 1.0000e-04\n",
            "Epoch 165/1000\n",
            "46/46 [==============================] - 3s 56ms/step - loss: 0.3669 - val_loss: 1.5822 - lr: 1.0000e-04\n",
            "Epoch 166/1000\n",
            "46/46 [==============================] - 3s 62ms/step - loss: 0.3620 - val_loss: 1.5801 - lr: 1.0000e-04\n",
            "Epoch 167/1000\n",
            "46/46 [==============================] - 2s 50ms/step - loss: 0.3575 - val_loss: 1.5955 - lr: 1.0000e-04\n",
            "Epoch 168/1000\n",
            "46/46 [==============================] - 2s 49ms/step - loss: 0.3541 - val_loss: 1.6041 - lr: 1.0000e-04\n",
            "Epoch 169/1000\n",
            "46/46 [==============================] - 2s 49ms/step - loss: 0.3393 - val_loss: 1.5871 - lr: 1.0000e-04\n",
            "Epoch 170/1000\n",
            "46/46 [==============================] - 3s 58ms/step - loss: 0.3308 - val_loss: 1.6120 - lr: 1.0000e-04\n",
            "Epoch 171/1000\n",
            "46/46 [==============================] - 3s 64ms/step - loss: 0.3326 - val_loss: 1.6037 - lr: 1.0000e-04\n",
            "Epoch 172/1000\n",
            "46/46 [==============================] - 2s 52ms/step - loss: 0.3258 - val_loss: 1.5928 - lr: 1.0000e-04\n",
            "Epoch 173/1000\n",
            "46/46 [==============================] - 2s 50ms/step - loss: 0.3357 - val_loss: 1.6081 - lr: 1.0000e-04\n",
            "Epoch 174/1000\n",
            "46/46 [==============================] - 2s 50ms/step - loss: 0.3165 - val_loss: 1.6157 - lr: 1.0000e-04\n",
            "Epoch 175/1000\n",
            "46/46 [==============================] - 3s 57ms/step - loss: 0.3215 - val_loss: 1.6062 - lr: 1.0000e-04\n",
            "Epoch 176/1000\n",
            "46/46 [==============================] - 3s 64ms/step - loss: 0.3193 - val_loss: 1.6180 - lr: 1.0000e-04\n",
            "Epoch 177/1000\n",
            "46/46 [==============================] - 2s 52ms/step - loss: 0.3149 - val_loss: 1.6165 - lr: 1.0000e-04\n",
            "Epoch 178/1000\n",
            "46/46 [==============================] - 2s 52ms/step - loss: 0.3053 - val_loss: 1.5897 - lr: 1.0000e-04\n",
            "Epoch 179/1000\n",
            "46/46 [==============================] - 2s 53ms/step - loss: 0.3083 - val_loss: 1.6081 - lr: 1.0000e-04\n",
            "Epoch 180/1000\n",
            "46/46 [==============================] - 3s 62ms/step - loss: 0.2971 - val_loss: 1.6193 - lr: 1.0000e-04\n",
            "Epoch 181/1000\n",
            "46/46 [==============================] - 3s 61ms/step - loss: 0.2966 - val_loss: 1.6251 - lr: 1.0000e-04\n",
            "Epoch 182/1000\n",
            "46/46 [==============================] - 2s 50ms/step - loss: 0.2894 - val_loss: 1.6144 - lr: 1.0000e-04\n",
            "Epoch 183/1000\n",
            "46/46 [==============================] - 2s 51ms/step - loss: 0.2797 - val_loss: 1.6260 - lr: 1.0000e-04\n",
            "Epoch 184/1000\n",
            "46/46 [==============================] - 2s 53ms/step - loss: 0.2820 - val_loss: 1.6128 - lr: 1.0000e-04\n",
            "Epoch 185/1000\n",
            "46/46 [==============================] - 3s 63ms/step - loss: 0.2856 - val_loss: 1.6211 - lr: 1.0000e-04\n",
            "Epoch 186/1000\n",
            "46/46 [==============================] - 3s 59ms/step - loss: 0.2709 - val_loss: 1.6056 - lr: 1.0000e-04\n",
            "Epoch 187/1000\n",
            "46/46 [==============================] - 2s 51ms/step - loss: 0.2699 - val_loss: 1.6316 - lr: 1.0000e-04\n",
            "Epoch 188/1000\n",
            "46/46 [==============================] - 2s 52ms/step - loss: 0.2670 - val_loss: 1.6014 - lr: 1.0000e-04\n",
            "Epoch 189/1000\n",
            "46/46 [==============================] - 2s 52ms/step - loss: 0.2683 - val_loss: 1.6246 - lr: 1.0000e-04\n",
            "Epoch 190/1000\n",
            "46/46 [==============================] - 3s 70ms/step - loss: 0.2645 - val_loss: 1.6192 - lr: 1.0000e-04\n",
            "Epoch 191/1000\n",
            "46/46 [==============================] - 3s 54ms/step - loss: 0.2614 - val_loss: 1.6217 - lr: 1.0000e-04\n",
            "Epoch 192/1000\n",
            "46/46 [==============================] - 2s 53ms/step - loss: 0.2626 - val_loss: 1.6243 - lr: 1.0000e-04\n",
            "Epoch 193/1000\n",
            "46/46 [==============================] - 2s 54ms/step - loss: 0.2583 - val_loss: 1.6333 - lr: 1.0000e-04\n",
            "Epoch 194/1000\n",
            "46/46 [==============================] - 2s 53ms/step - loss: 0.2547 - val_loss: 1.6237 - lr: 1.0000e-04\n",
            "Epoch 195/1000\n",
            "46/46 [==============================] - 3s 72ms/step - loss: 0.2625 - val_loss: 1.6154 - lr: 1.0000e-04\n",
            "Epoch 196/1000\n",
            "46/46 [==============================] - 2s 51ms/step - loss: 0.2486 - val_loss: 1.6203 - lr: 1.0000e-04\n",
            "Epoch 197/1000\n",
            "46/46 [==============================] - 2s 51ms/step - loss: 0.2492 - val_loss: 1.6072 - lr: 1.0000e-04\n",
            "Epoch 198/1000\n",
            "46/46 [==============================] - 2s 51ms/step - loss: 0.2376 - val_loss: 1.6170 - lr: 1.0000e-04\n",
            "Epoch 199/1000\n",
            "46/46 [==============================] - 2s 54ms/step - loss: 0.2347 - val_loss: 1.6153 - lr: 1.0000e-04\n",
            "Epoch 200/1000\n",
            "46/46 [==============================] - 3s 71ms/step - loss: 0.2297 - val_loss: 1.6172 - lr: 1.0000e-04\n",
            "Epoch 201/1000\n",
            "46/46 [==============================] - 2s 52ms/step - loss: 0.2325 - val_loss: 1.6415 - lr: 1.0000e-04\n",
            "Epoch 202/1000\n",
            "46/46 [==============================] - 2s 52ms/step - loss: 0.2336 - val_loss: 1.6235 - lr: 1.0000e-04\n",
            "Epoch 203/1000\n",
            "46/46 [==============================] - 2s 50ms/step - loss: 0.2224 - val_loss: 1.6169 - lr: 1.0000e-04\n",
            "Epoch 204/1000\n",
            "46/46 [==============================] - 2s 54ms/step - loss: 0.2309 - val_loss: 1.6295 - lr: 1.0000e-04\n",
            "Epoch 205/1000\n",
            "46/46 [==============================] - 3s 68ms/step - loss: 0.2344 - val_loss: 1.6245 - lr: 1.0000e-04\n",
            "Epoch 206/1000\n",
            "46/46 [==============================] - 2s 52ms/step - loss: 0.2212 - val_loss: 1.6274 - lr: 1.0000e-04\n",
            "Epoch 207/1000\n",
            "46/46 [==============================] - 2s 51ms/step - loss: 0.2150 - val_loss: 1.6399 - lr: 1.0000e-04\n",
            "Epoch 208/1000\n",
            "46/46 [==============================] - 2s 53ms/step - loss: 0.2176 - val_loss: 1.6073 - lr: 1.0000e-04\n",
            "Epoch 209/1000\n",
            "46/46 [==============================] - 3s 57ms/step - loss: 0.2076 - val_loss: 1.6284 - lr: 1.0000e-04\n",
            "Epoch 210/1000\n",
            "46/46 [==============================] - 3s 65ms/step - loss: 0.2166 - val_loss: 1.6317 - lr: 1.0000e-04\n",
            "Epoch 211/1000\n",
            "46/46 [==============================] - 2s 51ms/step - loss: 0.2042 - val_loss: 1.6300 - lr: 1.0000e-04\n",
            "Epoch 212/1000\n",
            "46/46 [==============================] - 2s 50ms/step - loss: 0.2083 - val_loss: 1.6501 - lr: 1.0000e-04\n",
            "Epoch 213/1000\n",
            "46/46 [==============================] - 2s 51ms/step - loss: 0.2036 - val_loss: 1.6459 - lr: 1.0000e-04\n",
            "Epoch 214/1000\n",
            "46/46 [==============================] - 3s 58ms/step - loss: 0.1966 - val_loss: 1.6370 - lr: 1.0000e-04\n",
            "Epoch 215/1000\n",
            "46/46 [==============================] - 3s 66ms/step - loss: 0.1945 - val_loss: 1.6432 - lr: 1.0000e-04\n",
            "Epoch 216/1000\n",
            "46/46 [==============================] - 2s 51ms/step - loss: 0.1953 - val_loss: 1.6325 - lr: 1.0000e-04\n",
            "Epoch 217/1000\n",
            "46/46 [==============================] - 2s 51ms/step - loss: 0.2016 - val_loss: 1.6353 - lr: 1.0000e-04\n",
            "Epoch 218/1000\n",
            "46/46 [==============================] - 2s 49ms/step - loss: 0.1931 - val_loss: 1.6441 - lr: 1.0000e-04\n",
            "Epoch 219/1000\n",
            "46/46 [==============================] - 3s 58ms/step - loss: 0.1852 - val_loss: 1.6432 - lr: 1.0000e-04\n",
            "Epoch 220/1000\n",
            "46/46 [==============================] - 3s 65ms/step - loss: 0.1784 - val_loss: 1.6353 - lr: 1.0000e-04\n",
            "Epoch 221/1000\n",
            "46/46 [==============================] - 2s 51ms/step - loss: 0.1899 - val_loss: 1.6552 - lr: 1.0000e-04\n",
            "Epoch 222/1000\n",
            "46/46 [==============================] - 2s 51ms/step - loss: 0.1920 - val_loss: 1.6179 - lr: 1.0000e-04\n",
            "Epoch 223/1000\n",
            "46/46 [==============================] - 2s 51ms/step - loss: 0.1903 - val_loss: 1.6310 - lr: 1.0000e-04\n",
            "Epoch 224/1000\n",
            "46/46 [==============================] - 3s 58ms/step - loss: 0.1907 - val_loss: 1.6451 - lr: 1.0000e-04\n",
            "Epoch 225/1000\n",
            "46/46 [==============================] - 3s 63ms/step - loss: 0.1725 - val_loss: 1.6406 - lr: 1.0000e-04\n",
            "Epoch 226/1000\n",
            "46/46 [==============================] - 2s 52ms/step - loss: 0.1665 - val_loss: 1.6424 - lr: 1.0000e-04\n",
            "Epoch 227/1000\n",
            "46/46 [==============================] - 2s 51ms/step - loss: 0.1633 - val_loss: 1.6401 - lr: 1.0000e-04\n",
            "Epoch 228/1000\n",
            "46/46 [==============================] - 2s 51ms/step - loss: 0.1672 - val_loss: 1.6396 - lr: 1.0000e-04\n",
            "Epoch 229/1000\n",
            "46/46 [==============================] - 3s 61ms/step - loss: 0.1751 - val_loss: 1.6564 - lr: 1.0000e-04\n",
            "Epoch 230/1000\n",
            "46/46 [==============================] - 3s 61ms/step - loss: 0.1722 - val_loss: 1.6356 - lr: 1.0000e-04\n",
            "Epoch 231/1000\n",
            "46/46 [==============================] - 2s 50ms/step - loss: 0.1622 - val_loss: 1.6240 - lr: 1.0000e-04\n",
            "Epoch 232/1000\n",
            "46/46 [==============================] - 2s 51ms/step - loss: 0.1617 - val_loss: 1.6454 - lr: 1.0000e-04\n",
            "Epoch 233/1000\n",
            "46/46 [==============================] - 2s 51ms/step - loss: 0.1609 - val_loss: 1.6492 - lr: 1.0000e-04\n",
            "Epoch 234/1000\n",
            "46/46 [==============================] - 3s 60ms/step - loss: 0.1589 - val_loss: 1.6459 - lr: 1.0000e-04\n",
            "Epoch 235/1000\n",
            "46/46 [==============================] - 3s 60ms/step - loss: 0.1692 - val_loss: 1.6594 - lr: 1.0000e-04\n"
          ]
        }
      ],
      "source": [
        "n_beats_block = N_Beats_Block(window = 7,horizon=1,theta=8,num_layer=4)\n",
        "input = tf.keras.layers.Input(shape = [7,])\n",
        "backcast,forecast = n_beats_block(input)\n",
        "residual = tf.keras.layers.subtract([input,backcast])\n",
        "for i in range(29):\n",
        "  backcast,blackcast = N_Beats_Block(window = 7,horizon=1,theta=8,num_layer=4)(residual)\n",
        "  residual = tf.keras.layers.subtract([residual,backcast])\n",
        "  forecast = tf.keras.layers.add([forecast,blackcast])\n",
        "\n",
        "model_5 = tf.keras.Model(inputs = input,\n",
        "                         outputs = forecast\n",
        "                         )\n",
        "model_5.compile(loss = \"mae\",\n",
        "                optimizer = \"adam\"\n",
        "                )\n",
        "\n",
        "his_5 = model_5.fit(train_window,train_horizon,\n",
        "                    epochs = 1000,\n",
        "                    validation_data = [test_window,test_horizon],\n",
        "                    callbacks = [\n",
        "                                 tf.keras.callbacks.EarlyStopping(patience = 200,restore_best_weights = True),\n",
        "                                 tf.keras.callbacks.ReduceLROnPlateau(patience = 100)\n",
        "                                 ]\n",
        "                    )"
      ]
    },
    {
      "cell_type": "code",
      "execution_count": null,
      "metadata": {
        "colab": {
          "base_uri": "https://localhost:8080/"
        },
        "id": "8qAMpgKctbbV",
        "outputId": "4ce555f7-a060-4ca6-81d6-926fef8c996e"
      },
      "outputs": [
        {
          "name": "stdout",
          "output_type": "stream",
          "text": [
            "4/4 [==============================] - 0s 11ms/step - loss: 1.2838\n"
          ]
        },
        {
          "data": {
            "text/plain": [
              "1.2838172912597656"
            ]
          },
          "execution_count": 50,
          "metadata": {},
          "output_type": "execute_result"
        }
      ],
      "source": [
        "model_5.evaluate(test_window,test_horizon)"
      ]
    },
    {
      "cell_type": "code",
      "execution_count": null,
      "metadata": {
        "colab": {
          "base_uri": "https://localhost:8080/"
        },
        "id": "t1xvbqx8uELa",
        "outputId": "1bb6a098-b64e-4bf6-9f82-7a46c515f4f5"
      },
      "outputs": [
        {
          "name": "stdout",
          "output_type": "stream",
          "text": [
            "4/4 [==============================] - 1s 9ms/step\n"
          ]
        }
      ],
      "source": [
        "model_5_result = pred_eval(model_5,test_window,test_horizon)"
      ]
    },
    {
      "cell_type": "code",
      "execution_count": null,
      "metadata": {
        "colab": {
          "base_uri": "https://localhost:8080/"
        },
        "id": "eqe3iUNyuNWn",
        "outputId": "9cc54379-68dd-449f-e695-d458887c385c"
      },
      "outputs": [
        {
          "data": {
            "text/plain": [
              "{'mae': 1.2838173, 'mse': 2.7717183, 'rmse': 1.6648479, 'mase': 0.99694383}"
            ]
          },
          "execution_count": 52,
          "metadata": {},
          "output_type": "execute_result"
        }
      ],
      "source": [
        "model_5_result"
      ]
    },
    {
      "cell_type": "code",
      "execution_count": null,
      "metadata": {
        "colab": {
          "background_save": true,
          "base_uri": "https://localhost:8080/"
        },
        "id": "YCJGQF2dwyCC",
        "outputId": "51b39252-52fb-46fc-834a-220e4a34bc5d"
      },
      "outputs": [
        {
          "name": "stderr",
          "output_type": "stream",
          "text": [
            "WARNING:tensorflow:Layer lstm_3 will not use cuDNN kernels since it doesn't meet the criteria. It will use a generic GPU kernel as fallback when running on GPU.\n"
          ]
        },
        {
          "name": "stdout",
          "output_type": "stream",
          "text": [
            "currently on mae function & model number:- 0\n"
          ]
        },
        {
          "name": "stderr",
          "output_type": "stream",
          "text": [
            "WARNING:tensorflow:Layer lstm_4 will not use cuDNN kernels since it doesn't meet the criteria. It will use a generic GPU kernel as fallback when running on GPU.\n"
          ]
        },
        {
          "name": "stdout",
          "output_type": "stream",
          "text": [
            "currently on mse function & model number:- 0\n"
          ]
        },
        {
          "name": "stderr",
          "output_type": "stream",
          "text": [
            "WARNING:tensorflow:Layer lstm_5 will not use cuDNN kernels since it doesn't meet the criteria. It will use a generic GPU kernel as fallback when running on GPU.\n"
          ]
        },
        {
          "name": "stdout",
          "output_type": "stream",
          "text": [
            "currently on mape function & model number:- 0\n"
          ]
        },
        {
          "name": "stderr",
          "output_type": "stream",
          "text": [
            "WARNING:tensorflow:Layer lstm_6 will not use cuDNN kernels since it doesn't meet the criteria. It will use a generic GPU kernel as fallback when running on GPU.\n"
          ]
        },
        {
          "name": "stdout",
          "output_type": "stream",
          "text": [
            "currently on mae function & model number:- 1\n"
          ]
        },
        {
          "name": "stderr",
          "output_type": "stream",
          "text": [
            "WARNING:tensorflow:Layer lstm_7 will not use cuDNN kernels since it doesn't meet the criteria. It will use a generic GPU kernel as fallback when running on GPU.\n"
          ]
        },
        {
          "name": "stdout",
          "output_type": "stream",
          "text": [
            "currently on mse function & model number:- 1\n"
          ]
        },
        {
          "name": "stderr",
          "output_type": "stream",
          "text": [
            "WARNING:tensorflow:Layer lstm_8 will not use cuDNN kernels since it doesn't meet the criteria. It will use a generic GPU kernel as fallback when running on GPU.\n"
          ]
        },
        {
          "name": "stdout",
          "output_type": "stream",
          "text": [
            "currently on mape function & model number:- 1\n"
          ]
        },
        {
          "name": "stderr",
          "output_type": "stream",
          "text": [
            "WARNING:tensorflow:Layer lstm_9 will not use cuDNN kernels since it doesn't meet the criteria. It will use a generic GPU kernel as fallback when running on GPU.\n"
          ]
        },
        {
          "name": "stdout",
          "output_type": "stream",
          "text": [
            "currently on mae function & model number:- 2\n"
          ]
        },
        {
          "name": "stderr",
          "output_type": "stream",
          "text": [
            "WARNING:tensorflow:Layer lstm_10 will not use cuDNN kernels since it doesn't meet the criteria. It will use a generic GPU kernel as fallback when running on GPU.\n"
          ]
        },
        {
          "name": "stdout",
          "output_type": "stream",
          "text": [
            "currently on mse function & model number:- 2\n"
          ]
        },
        {
          "name": "stderr",
          "output_type": "stream",
          "text": [
            "WARNING:tensorflow:Layer lstm_11 will not use cuDNN kernels since it doesn't meet the criteria. It will use a generic GPU kernel as fallback when running on GPU.\n"
          ]
        },
        {
          "name": "stdout",
          "output_type": "stream",
          "text": [
            "currently on mape function & model number:- 2\n"
          ]
        },
        {
          "name": "stderr",
          "output_type": "stream",
          "text": [
            "WARNING:tensorflow:Layer lstm_12 will not use cuDNN kernels since it doesn't meet the criteria. It will use a generic GPU kernel as fallback when running on GPU.\n"
          ]
        },
        {
          "name": "stdout",
          "output_type": "stream",
          "text": [
            "currently on mae function & model number:- 3\n"
          ]
        },
        {
          "name": "stderr",
          "output_type": "stream",
          "text": [
            "WARNING:tensorflow:Layer lstm_13 will not use cuDNN kernels since it doesn't meet the criteria. It will use a generic GPU kernel as fallback when running on GPU.\n"
          ]
        },
        {
          "name": "stdout",
          "output_type": "stream",
          "text": [
            "currently on mse function & model number:- 3\n"
          ]
        },
        {
          "name": "stderr",
          "output_type": "stream",
          "text": [
            "WARNING:tensorflow:Layer lstm_14 will not use cuDNN kernels since it doesn't meet the criteria. It will use a generic GPU kernel as fallback when running on GPU.\n"
          ]
        },
        {
          "name": "stdout",
          "output_type": "stream",
          "text": [
            "currently on mape function & model number:- 3\n"
          ]
        },
        {
          "name": "stderr",
          "output_type": "stream",
          "text": [
            "WARNING:tensorflow:Layer lstm_15 will not use cuDNN kernels since it doesn't meet the criteria. It will use a generic GPU kernel as fallback when running on GPU.\n"
          ]
        },
        {
          "name": "stdout",
          "output_type": "stream",
          "text": [
            "currently on mae function & model number:- 4\n"
          ]
        },
        {
          "name": "stderr",
          "output_type": "stream",
          "text": [
            "WARNING:tensorflow:Layer lstm_16 will not use cuDNN kernels since it doesn't meet the criteria. It will use a generic GPU kernel as fallback when running on GPU.\n"
          ]
        },
        {
          "name": "stdout",
          "output_type": "stream",
          "text": [
            "currently on mse function & model number:- 4\n"
          ]
        },
        {
          "name": "stderr",
          "output_type": "stream",
          "text": [
            "WARNING:tensorflow:Layer lstm_17 will not use cuDNN kernels since it doesn't meet the criteria. It will use a generic GPU kernel as fallback when running on GPU.\n"
          ]
        },
        {
          "name": "stdout",
          "output_type": "stream",
          "text": [
            "currently on mape function & model number:- 4\n"
          ]
        },
        {
          "name": "stderr",
          "output_type": "stream",
          "text": [
            "WARNING:tensorflow:Layer lstm_18 will not use cuDNN kernels since it doesn't meet the criteria. It will use a generic GPU kernel as fallback when running on GPU.\n"
          ]
        },
        {
          "name": "stdout",
          "output_type": "stream",
          "text": [
            "currently on mae function & model number:- 5\n"
          ]
        },
        {
          "name": "stderr",
          "output_type": "stream",
          "text": [
            "WARNING:tensorflow:Layer lstm_19 will not use cuDNN kernels since it doesn't meet the criteria. It will use a generic GPU kernel as fallback when running on GPU.\n"
          ]
        },
        {
          "name": "stdout",
          "output_type": "stream",
          "text": [
            "currently on mse function & model number:- 5\n"
          ]
        },
        {
          "name": "stderr",
          "output_type": "stream",
          "text": [
            "WARNING:tensorflow:Layer lstm_20 will not use cuDNN kernels since it doesn't meet the criteria. It will use a generic GPU kernel as fallback when running on GPU.\n"
          ]
        },
        {
          "name": "stdout",
          "output_type": "stream",
          "text": [
            "currently on mape function & model number:- 5\n"
          ]
        },
        {
          "name": "stderr",
          "output_type": "stream",
          "text": [
            "WARNING:tensorflow:Layer lstm_21 will not use cuDNN kernels since it doesn't meet the criteria. It will use a generic GPU kernel as fallback when running on GPU.\n"
          ]
        },
        {
          "name": "stdout",
          "output_type": "stream",
          "text": [
            "currently on mae function & model number:- 6\n"
          ]
        },
        {
          "name": "stderr",
          "output_type": "stream",
          "text": [
            "WARNING:tensorflow:Layer lstm_22 will not use cuDNN kernels since it doesn't meet the criteria. It will use a generic GPU kernel as fallback when running on GPU.\n"
          ]
        },
        {
          "name": "stdout",
          "output_type": "stream",
          "text": [
            "currently on mse function & model number:- 6\n"
          ]
        },
        {
          "name": "stderr",
          "output_type": "stream",
          "text": [
            "WARNING:tensorflow:Layer lstm_23 will not use cuDNN kernels since it doesn't meet the criteria. It will use a generic GPU kernel as fallback when running on GPU.\n"
          ]
        },
        {
          "name": "stdout",
          "output_type": "stream",
          "text": [
            "currently on mape function & model number:- 6\n"
          ]
        },
        {
          "name": "stderr",
          "output_type": "stream",
          "text": [
            "WARNING:tensorflow:Layer lstm_24 will not use cuDNN kernels since it doesn't meet the criteria. It will use a generic GPU kernel as fallback when running on GPU.\n"
          ]
        },
        {
          "name": "stdout",
          "output_type": "stream",
          "text": [
            "currently on mae function & model number:- 7\n"
          ]
        },
        {
          "name": "stderr",
          "output_type": "stream",
          "text": [
            "WARNING:tensorflow:Layer lstm_25 will not use cuDNN kernels since it doesn't meet the criteria. It will use a generic GPU kernel as fallback when running on GPU.\n"
          ]
        },
        {
          "name": "stdout",
          "output_type": "stream",
          "text": [
            "currently on mse function & model number:- 7\n"
          ]
        },
        {
          "name": "stderr",
          "output_type": "stream",
          "text": [
            "WARNING:tensorflow:Layer lstm_26 will not use cuDNN kernels since it doesn't meet the criteria. It will use a generic GPU kernel as fallback when running on GPU.\n"
          ]
        },
        {
          "name": "stdout",
          "output_type": "stream",
          "text": [
            "currently on mape function & model number:- 7\n"
          ]
        },
        {
          "name": "stderr",
          "output_type": "stream",
          "text": [
            "WARNING:tensorflow:Layer lstm_27 will not use cuDNN kernels since it doesn't meet the criteria. It will use a generic GPU kernel as fallback when running on GPU.\n"
          ]
        },
        {
          "name": "stdout",
          "output_type": "stream",
          "text": [
            "currently on mae function & model number:- 8\n"
          ]
        },
        {
          "name": "stderr",
          "output_type": "stream",
          "text": [
            "WARNING:tensorflow:Layer lstm_28 will not use cuDNN kernels since it doesn't meet the criteria. It will use a generic GPU kernel as fallback when running on GPU.\n"
          ]
        },
        {
          "name": "stdout",
          "output_type": "stream",
          "text": [
            "currently on mse function & model number:- 8\n"
          ]
        },
        {
          "name": "stderr",
          "output_type": "stream",
          "text": [
            "WARNING:tensorflow:Layer lstm_29 will not use cuDNN kernels since it doesn't meet the criteria. It will use a generic GPU kernel as fallback when running on GPU.\n"
          ]
        },
        {
          "name": "stdout",
          "output_type": "stream",
          "text": [
            "currently on mape function & model number:- 8\n"
          ]
        },
        {
          "name": "stderr",
          "output_type": "stream",
          "text": [
            "WARNING:tensorflow:Layer lstm_30 will not use cuDNN kernels since it doesn't meet the criteria. It will use a generic GPU kernel as fallback when running on GPU.\n"
          ]
        },
        {
          "name": "stdout",
          "output_type": "stream",
          "text": [
            "currently on mae function & model number:- 9\n"
          ]
        },
        {
          "name": "stderr",
          "output_type": "stream",
          "text": [
            "WARNING:tensorflow:Layer lstm_31 will not use cuDNN kernels since it doesn't meet the criteria. It will use a generic GPU kernel as fallback when running on GPU.\n"
          ]
        },
        {
          "name": "stdout",
          "output_type": "stream",
          "text": [
            "currently on mse function & model number:- 9\n"
          ]
        },
        {
          "name": "stderr",
          "output_type": "stream",
          "text": [
            "WARNING:tensorflow:Layer lstm_32 will not use cuDNN kernels since it doesn't meet the criteria. It will use a generic GPU kernel as fallback when running on GPU.\n"
          ]
        },
        {
          "name": "stdout",
          "output_type": "stream",
          "text": [
            "currently on mape function & model number:- 9\n"
          ]
        }
      ],
      "source": [
        "loss_fun = [\"mae\",\"mse\",\"mape\"]\n",
        "ensembel_model_ = []\n",
        "for i in range(10):\n",
        "  for loss in loss_fun:\n",
        "    print(f\"currently on {loss} function & model number:- {i}\")\n",
        "    ensemble_model = tf.keras.Sequential([\n",
        "    tf.keras.layers.Lambda(lambda x:tf.expand_dims(x,axis=1)),\n",
        "    tf.keras.layers.LSTM(64,activation = \"relu\"),\n",
        "    tf.keras.layers.Dense(128,activation = \"relu\"),\n",
        "    tf.keras.layers.Dense(1,activation = \"linear\")\n",
        "    ])\n",
        "\n",
        "    ensemble_model.compile(loss = loss,\n",
        "                optimizer = \"adam\"\n",
        "                )\n",
        "\n",
        "    his_ensemble = ensemble_model.fit(train_window,train_horizon,\n",
        "                    epochs = 1000,\n",
        "                    verbose = 0,\n",
        "                    validation_data = [test_window,test_horizon],\n",
        "                    callbacks = [\n",
        "                                 tf.keras.callbacks.EarlyStopping(patience = 200,restore_best_weights = True),\n",
        "                                 tf.keras.callbacks.ReduceLROnPlateau(patience = 100)\n",
        "                                 ]\n",
        "                                                                   )\n",
        "    ensembel_model_.append(ensemble_model)"
      ]
    },
    {
      "cell_type": "code",
      "execution_count": null,
      "metadata": {
        "colab": {
          "background_save": true
        },
        "id": "T94-PbKM6s5n",
        "outputId": "2c92b544-9109-425c-ecd5-527a01c3c70f"
      },
      "outputs": [
        {
          "data": {
            "text/plain": [
              "[<keras.src.engine.sequential.Sequential at 0x7f50c49c22c0>,\n",
              " <keras.src.engine.sequential.Sequential at 0x7f50c46a4bb0>,\n",
              " <keras.src.engine.sequential.Sequential at 0x7f50c43b41f0>,\n",
              " <keras.src.engine.sequential.Sequential at 0x7f507adacfa0>,\n",
              " <keras.src.engine.sequential.Sequential at 0x7f50d8ec5de0>,\n",
              " <keras.src.engine.sequential.Sequential at 0x7f50d8a380d0>,\n",
              " <keras.src.engine.sequential.Sequential at 0x7f507ab54a30>,\n",
              " <keras.src.engine.sequential.Sequential at 0x7f507a86df90>,\n",
              " <keras.src.engine.sequential.Sequential at 0x7f50783a16c0>,\n",
              " <keras.src.engine.sequential.Sequential at 0x7f50824ee290>,\n",
              " <keras.src.engine.sequential.Sequential at 0x7f50820323b0>,\n",
              " <keras.src.engine.sequential.Sequential at 0x7f5078d78c70>,\n",
              " <keras.src.engine.sequential.Sequential at 0x7f50c46a6f20>,\n",
              " <keras.src.engine.sequential.Sequential at 0x7f50789cd900>,\n",
              " <keras.src.engine.sequential.Sequential at 0x7f507a5e6890>,\n",
              " <keras.src.engine.sequential.Sequential at 0x7f507a132710>,\n",
              " <keras.src.engine.sequential.Sequential at 0x7f5078755240>,\n",
              " <keras.src.engine.sequential.Sequential at 0x7f505876ce50>,\n",
              " <keras.src.engine.sequential.Sequential at 0x7f50584c1630>,\n",
              " <keras.src.engine.sequential.Sequential at 0x7f50581d23b0>,\n",
              " <keras.src.engine.sequential.Sequential at 0x7f505bd45450>,\n",
              " <keras.src.engine.sequential.Sequential at 0x7f505ba5d0c0>,\n",
              " <keras.src.engine.sequential.Sequential at 0x7f505066a500>,\n",
              " <keras.src.engine.sequential.Sequential at 0x7f505038e260>,\n",
              " <keras.src.engine.sequential.Sequential at 0x7f50447aa6b0>,\n",
              " <keras.src.engine.sequential.Sequential at 0x7f50587d2e60>,\n",
              " <keras.src.engine.sequential.Sequential at 0x7f504463b1c0>,\n",
              " <keras.src.engine.sequential.Sequential at 0x7f5051aca440>,\n",
              " <keras.src.engine.sequential.Sequential at 0x7f50443f5f60>,\n",
              " <keras.src.engine.sequential.Sequential at 0x7f504411d8a0>]"
            ]
          },
          "execution_count": 54,
          "metadata": {},
          "output_type": "execute_result"
        }
      ],
      "source": [
        "ensembel_model_"
      ]
    },
    {
      "cell_type": "code",
      "execution_count": null,
      "metadata": {
        "colab": {
          "background_save": true
        },
        "id": "KbMtAAvB66N8",
        "outputId": "90e9a1ba-1830-4d72-f2cd-42f4a83b59e9"
      },
      "outputs": [
        {
          "name": "stdout",
          "output_type": "stream",
          "text": [
            "4/4 [==============================] - 0s 3ms/step\n",
            "4/4 [==============================] - 0s 4ms/step\n",
            "4/4 [==============================] - 0s 3ms/step\n",
            "4/4 [==============================] - 0s 3ms/step\n",
            "4/4 [==============================] - 0s 3ms/step\n",
            "4/4 [==============================] - 0s 3ms/step\n",
            "4/4 [==============================] - 0s 3ms/step\n",
            "4/4 [==============================] - 0s 3ms/step\n",
            "4/4 [==============================] - 0s 3ms/step\n",
            "4/4 [==============================] - 0s 3ms/step\n",
            "4/4 [==============================] - 0s 3ms/step\n",
            "4/4 [==============================] - 0s 4ms/step\n",
            "4/4 [==============================] - 0s 3ms/step\n",
            "4/4 [==============================] - 0s 4ms/step\n",
            "4/4 [==============================] - 0s 4ms/step\n",
            "4/4 [==============================] - 0s 5ms/step\n",
            "4/4 [==============================] - 0s 6ms/step\n",
            "4/4 [==============================] - 0s 5ms/step\n",
            "4/4 [==============================] - 0s 5ms/step\n",
            "4/4 [==============================] - 0s 4ms/step\n",
            "4/4 [==============================] - 0s 3ms/step\n",
            "4/4 [==============================] - 0s 3ms/step\n",
            "4/4 [==============================] - 0s 3ms/step\n",
            "4/4 [==============================] - 0s 3ms/step\n",
            "4/4 [==============================] - 0s 3ms/step\n",
            "4/4 [==============================] - 0s 4ms/step\n",
            "4/4 [==============================] - 0s 3ms/step\n",
            "4/4 [==============================] - 0s 3ms/step\n",
            "4/4 [==============================] - 0s 3ms/step\n",
            "4/4 [==============================] - 0s 3ms/step\n"
          ]
        }
      ],
      "source": [
        "ensemble_pred = []\n",
        "for model in ensembel_model_:\n",
        "  y_pred_ensemble = model.predict(test_window)\n",
        "  ensemble_pred.append(y_pred_ensemble)\n"
      ]
    },
    {
      "cell_type": "code",
      "execution_count": null,
      "metadata": {
        "colab": {
          "background_save": true
        },
        "id": "2Av4IJSn7U9A"
      },
      "outputs": [],
      "source": [
        "ensemble_pred = tf.reduce_mean(ensemble_pred,axis=0)"
      ]
    },
    {
      "cell_type": "code",
      "execution_count": null,
      "metadata": {
        "colab": {
          "background_save": true
        },
        "id": "3aQocyKD7yxg"
      },
      "outputs": [],
      "source": [
        "model_6_result = evaluation_metrics(tf.squeeze(test_horizon),tf.squeeze(ensemble_pred))"
      ]
    },
    {
      "cell_type": "code",
      "execution_count": null,
      "metadata": {
        "colab": {
          "background_save": true
        },
        "id": "eybwJCdE8ESg",
        "outputId": "802f7340-bd9c-49ad-97a2-745b4129c153"
      },
      "outputs": [
        {
          "data": {
            "text/plain": [
              "{'mae': 1.2575102, 'mse': 2.6859493, 'rmse': 1.6388866, 'mase': 0.9765152}"
            ]
          },
          "execution_count": 58,
          "metadata": {},
          "output_type": "execute_result"
        }
      ],
      "source": [
        "model_6_result"
      ]
    },
    {
      "cell_type": "code",
      "execution_count": null,
      "metadata": {
        "colab": {
          "background_save": true
        },
        "id": "-7x2OxiY8JD5",
        "outputId": "d1f4e001-488f-499a-8e48-76eee634ffbf"
      },
      "outputs": [
        {
          "data": {
            "text/plain": [
              "<matplotlib.legend.Legend at 0x7f50c49c3a90>"
            ]
          },
          "execution_count": 59,
          "metadata": {},
          "output_type": "execute_result"
        },
        {
          "data": {
            "image/png": "[encoded data removed]",
            "text/plain": [
              "<Figure size 640x480 with 1 Axes>"
            ]
          },
          "metadata": {},
          "output_type": "display_data"
        }
      ],
      "source": [
        "pd.DataFrame({\n",
        "    \"model_0\":model_0_result[\"mae\"],\n",
        "    \"model_1\":model_1_result[\"mae\"],\n",
        "    \"model_2\":model_2_result[\"mae\"],\n",
        "    \"model_3\":model_3_result[\"mae\"],\n",
        "    \"model_4\":model_4_result[\"mae\"],\n",
        "    \"model_5\":model_5_result[\"mae\"],\n",
        "    \"model_6\":model_6_result[\"mae\"],\n",
        "},index = [\"mae\"]).T.sort_values(by = [\"mae\"],ascending = False).plot(kind = \"bar\").legend(bbox_to_anchor=[1,1])"
      ]
    },
    {
      "cell_type": "code",
      "execution_count": null,
      "metadata": {
        "colab": {
          "background_save": true
        },
        "id": "Gsv6rEvI8RpZ",
        "outputId": "50575c27-3eab-4c15-e721-8762b3b6fb7b"
      },
      "outputs": [
        {
          "data": {
            "image/png": "[encoded data removed]",
            "text/plain": [
              "<Figure size 1000x700 with 1 Axes>"
            ]
          },
          "metadata": {},
          "output_type": "display_data"
        }
      ],
      "source": [
        "plt.figure(figsize=[10,7])\n",
        "# plot_time_series(start = 0,end= None,x = train_time,y = train_temp,format=\".\",label=\"train\")\n",
        "plot_time_series(start = -len(ensemble_pred),end= None,x = test_time,y = test_temp,format=\".\",label=\"test\")\n",
        "plot_time_series(start = -len(ensemble_pred),end= None,x = test_time,y = ensemble_pred,format=\"-\",label=\"pred\")"
      ]
    },
    {
      "cell_type": "code",
      "execution_count": null,
      "metadata": {
        "colab": {
          "background_save": true
        },
        "id": "jjawXKuMB4UK"
      },
      "outputs": [],
      "source": [
        "all_temp = np.append(train_temp.to_numpy(),test_temp.to_numpy())"
      ]
    },
    {
      "cell_type": "code",
      "execution_count": null,
      "metadata": {
        "colab": {
          "background_save": true
        },
        "id": "stlV9fs9CWCc"
      },
      "outputs": [],
      "source": [
        "big_train_window,big_train_horizon = window_making(window_size = 7,horizon_size = 1,x=all_temp)"
      ]
    },
    {
      "cell_type": "code",
      "execution_count": null,
      "metadata": {
        "colab": {
          "background_save": true
        },
        "id": "nc9TDVQ7G1GT"
      },
      "outputs": [],
      "source": [
        "all_time = np.append(train_time,test_time)"
      ]
    },
    {
      "cell_type": "code",
      "execution_count": null,
      "metadata": {
        "colab": {
          "background_save": true
        },
        "id": "IzUkJ67mETTb",
        "outputId": "75269413-04fe-42e7-ffae-47776a34558f"
      },
      "outputs": [
        {
          "data": {
            "text/plain": [
              "((1569, 7), (1569, 1))"
            ]
          },
          "execution_count": 64,
          "metadata": {},
          "output_type": "execute_result"
        }
      ],
      "source": [
        "big_train_window.shape,big_train_horizon.shape"
      ]
    },
    {
      "cell_type": "code",
      "execution_count": null,
      "metadata": {
        "id": "W0TR96jVCyvh"
      },
      "outputs": [],
      "source": [
        "model_final_ = tf.keras.Sequential([\n",
        "    tf.keras.layers.Dense(128,activation = \"relu\"),\n",
        "    tf.keras.layers.Dense(128,activation = \"relu\"),\n",
        "    tf.keras.layers.Dense(128,activation = \"relu\"),\n",
        "    tf.keras.layers.Dense(1,activation = \"linear\"),\n",
        "])\n",
        "model_final_.compile(loss = \"mae\",\n",
        "                    optimizer = \"adam\"\n",
        "                    )\n",
        "his_final = model_final_.fit(big_train_window,big_train_horizon,\n",
        "                            epochs = 100,\n",
        "\n",
        "                            )"
      ]
    },
    {
      "cell_type": "code",
      "execution_count": null,
      "metadata": {
        "id": "sTZMxQqjEfPh"
      },
      "outputs": [],
      "source": [
        "pd.DataFrame(his_final.history).plot()"
      ]
    },
    {
      "cell_type": "code",
      "execution_count": null,
      "metadata": {
        "id": "WS28hwdWmgev"
      },
      "outputs": [],
      "source": [
        "def generate_time(start_date,into_future,ofset = 1):\n",
        "  start_time = start_date + np.timedelta64(ofset,\"D\")\n",
        "  end_time = start_time + np.timedelta64(into_future,\"D\")\n",
        "  return np.arange(start_time,end_time,dtype = \"datetime64[D]\")"
      ]
    },
    {
      "cell_type": "code",
      "execution_count": null,
      "metadata": {
        "id": "0qxEaK8QnVJP"
      },
      "outputs": [],
      "source": [
        "future_time = generate_time(test_time[-1],into_future=14)\n",
        "future_time"
      ]
    },
    {
      "cell_type": "code",
      "execution_count": null,
      "metadata": {
        "id": "5xwY8YGQoqhv"
      },
      "outputs": [],
      "source": [
        "def future_pred(model,data,into_future = 14):\n",
        "  input = data\n",
        "  pred_list = []\n",
        "  for i in range(into_future):\n",
        "    predict_value = model.predict(tf.expand_dims(input,axis=0))\n",
        "    print(f\"predicting on {list(input)}\\nprediction:- {tf.squeeze(predict_value)}\")\n",
        "    input = np.append(input,predict_value)[1:]\n",
        "    pred_list.append(tf.squeeze(predict_value))\n",
        "  return pred_list"
      ]
    },
    {
      "cell_type": "code",
      "execution_count": null,
      "metadata": {
        "id": "zPw5n6neqWku"
      },
      "outputs": [],
      "source": [
        "future_prediction = future_pred(model_final_,test_temp[-7:],into_future=14)"
      ]
    },
    {
      "cell_type": "code",
      "execution_count": null,
      "metadata": {
        "id": "ROeNTVJ6rGZ4"
      },
      "outputs": [],
      "source": [
        "inserted_pred = np.insert(future_prediction,0,test_temp[-1])\n",
        "inserted_pred,len(inserted_pred)"
      ]
    },
    {
      "cell_type": "code",
      "execution_count": null,
      "metadata": {
        "id": "UgfsKF5crp84"
      },
      "outputs": [],
      "source": [
        "inserted_time = np.insert(future_time,0,test_time[-1])"
      ]
    },
    {
      "cell_type": "code",
      "execution_count": null,
      "metadata": {
        "id": "DpklUaCWr2g2",
        "outputId": "238f08b9-b1a3-4129-d51d-cf949cb16fb1",
        "colab": {
          "base_uri": "https://localhost:8080/",
          "height": 621
        }
      },
      "outputs": [
        {
          "output_type": "display_data",
          "data": {
            "text/plain": [
              "<Figure size 1000x700 with 1 Axes>"
            ],
            "image/png": "[encoded data removed]"
          },
          "metadata": {}
        }
      ],
      "source": [
        "plt.figure(figsize=[10,7])\n",
        "plot_time_series(start = 100,end=None,x=train_time,y=train_temp,format=\"-\",label=\"train\")\n",
        "plot_time_series(start = 0,end=None,x=test_time,y=test_temp,format=\"-\",label=\"test\")\n",
        "plot_time_series(start = 0,end=None,x=inserted_time,y=inserted_pred,format=\"-\",label=\"pred\")"
      ]
    }
  ],
  "metadata": {
    "colab": {
      "provenance": [],
      "authorship_tag": "ABX9TyOfGXA06ryNyCSWQGjBSPAz",
      "include_colab_link": true
    },
    "kernelspec": {
      "display_name": "Python 3",
      "name": "python3"
    },
    "language_info": {
      "name": "python"
    }
  },
  "nbformat": 4,
  "nbformat_minor": 0
}